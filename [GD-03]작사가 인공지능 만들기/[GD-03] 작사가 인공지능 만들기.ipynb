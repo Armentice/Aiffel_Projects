{
 "cells": [
  {
   "cell_type": "markdown",
   "id": "e74b09c6",
   "metadata": {},
   "source": [
    "# 라이브러리"
   ]
  },
  {
   "cell_type": "code",
   "execution_count": 16,
   "id": "1e7b44e3",
   "metadata": {},
   "outputs": [
    {
     "name": "stdout",
     "output_type": "stream",
     "text": [
      "2.6.0\n"
     ]
    }
   ],
   "source": [
    "import glob  #glob 모듈의 glob 함수는 사용자가 제시한 조건에 맞는 파일명을 리스트 형식으로 반환한다\n",
    "import tensorflow\n",
    "import os, re \n",
    "import numpy as np\n",
    "import tensorflow as tf\n",
    "print(tensorflow.__version__)\n",
    "from sklearn.model_selection import train_test_split"
   ]
  },
  {
   "cell_type": "markdown",
   "id": "1ff71676",
   "metadata": {},
   "source": [
    "## Step 2. 데이터 읽어오기\n",
    "glob 모듈을 사용하면 파일을 읽어오는 작업을 하기가 아주 용이해요. glob 를 활용하여 모든 txt 파일을 읽어온 후, raw_corpus 리스트에 문장 단위로 저장하도록 할게요!"
   ]
  },
  {
   "cell_type": "code",
   "execution_count": 2,
   "id": "49499e5f",
   "metadata": {},
   "outputs": [
    {
     "name": "stdout",
     "output_type": "stream",
     "text": [
      "데이터 크기: 187088\n",
      "Examples:\n",
      " ['', '', '[Spoken Intro:]']\n"
     ]
    }
   ],
   "source": [
    "import glob\n",
    "import os\n",
    "\n",
    "txt_file_path = os.getenv('HOME')+'/aiffel/lyricist/data/lyrics/*' #os.getenv(x)함수는 환경 변수x의 값을 포함하는 문자열 변수를 반환합니다. txt_file_path 에 \"/root/aiffel/lyricist/data/lyrics/*\" 저장\n",
    "\n",
    "txt_list = glob.glob(txt_file_path) #txt_file_path 경로에 있는 모든 파일명을 리스트 형식으로 txt_list 에 할당\n",
    "\n",
    "raw_corpus = [] \n",
    "\n",
    "# 여러개의 txt 파일을 모두 읽어서 raw_corpus 에 담습니다.\n",
    "for txt_file in txt_list:\n",
    "    with open(txt_file, \"r\") as f:\n",
    "        raw = f.read().splitlines() #read() : 파일 전체의 내용을 하나의 문자열로 읽어온다. , splitlines()  : 여러라인으로 구분되어 있는 문자열을 한라인씩 분리하여 리스트로 반환\n",
    "        raw_corpus.extend(raw) # extend() : 리스트함수로 추가적인 내용을 연장 한다.\n",
    "\n",
    "print(\"데이터 크기:\", len(raw_corpus))\n",
    "print(\"Examples:\\n\", raw_corpus[:3])"
   ]
  },
  {
   "cell_type": "code",
   "execution_count": 4,
   "id": "8a66f79b",
   "metadata": {},
   "outputs": [
    {
     "name": "stdout",
     "output_type": "stream",
     "text": [
      "['', '', '[Spoken Intro:]', 'You ever want something ', \"that you know you shouldn't have \", \"The more you know you shouldn't have it, \", 'The more you want it ', 'And then one day you get it, ', \"It's so good too \"]\n"
     ]
    }
   ],
   "source": [
    "print(raw_corpus[:9])"
   ]
  },
  {
   "cell_type": "markdown",
   "id": "e5df7473",
   "metadata": {},
   "source": [
    "## Step 3. 데이터 정제\n",
    "앞서 배운 테크닉들을 활용해 문장 생성에 적합한 모양새로 데이터를 정제하세요!\n",
    "\n",
    "preprocess_sentence() 함수를 만든 것을 기억하시죠? 이를 활용해 데이터를 정제하도록 하겠습니다.\n",
    "\n",
    "추가로 지나치게 긴 문장은 다른 데이터들이 과도한 Padding을 갖게 하므로 제거합니다. 너무 긴 문장은 노래 가사 작사하기에 어울리지 않을 수도 있겠죠.\n",
    "그래서 이번에는 문장을 토큰화 했을 때 토큰의 개수가 15개를 넘어가는 문장을 학습 데이터에서 제외하기 를 권합니다."
   ]
  },
  {
   "cell_type": "code",
   "execution_count": 5,
   "id": "6de883ec",
   "metadata": {},
   "outputs": [
    {
     "name": "stdout",
     "output_type": "stream",
     "text": [
      "[Spoken Intro:]\n",
      "You ever want something \n",
      "that you know you shouldn't have \n",
      "The more you know you shouldn't have it, \n",
      "The more you want it \n",
      "And then one day you get it, \n",
      "It's so good too \n",
      "But it's just like my girl \n"
     ]
    }
   ],
   "source": [
    "# enumerate() 함수를 이용하여 raw_corpus list 내에 저장된 문장과 그 문장의 인덱스를 반환 (인덱스, 문장 순)\n",
    "for idx, sentence in enumerate(raw_corpus):\n",
    "    if len(sentence) == 0: continue   # 길이가 0인 문장은 건너뜁니다.\n",
    "    if sentence[-1] == \":\": continue  # 문장의 끝이 : 인 문장은 건너뜁니다.\n",
    "\n",
    "    if idx > 9: break   # 일단 문장 10개만 확인해 볼 겁니다.\n",
    "        \n",
    "    print(sentence)\n"
   ]
  },
  {
   "cell_type": "code",
   "execution_count": 6,
   "id": "63c78261",
   "metadata": {},
   "outputs": [],
   "source": [
    "def preprocess_sentence(sentence):\n",
    "    sentence = sentence.lower().strip() # 1\n",
    "    sentence = re.sub(r\"([?.!,¿])\", r\" \\1 \", sentence) # 2\n",
    "    sentence = re.sub(r'[\" \"]+', \" \", sentence) # 3\n",
    "    sentence = re.sub(r\"[^a-zA-Z?.!,¿]+\", \" \", sentence) # 4\n",
    "    sentence = sentence.strip() # 5\n",
    "    sentence = '<start> ' + sentence + ' <end>' # 6\n",
    "    return sentence"
   ]
  },
  {
   "cell_type": "code",
   "execution_count": 7,
   "id": "26924f39",
   "metadata": {},
   "outputs": [
    {
     "name": "stdout",
     "output_type": "stream",
     "text": [
      "<start> this is sample sentence . <end>\n"
     ]
    }
   ],
   "source": [
    "# 이 문장이 어떻게 필터링되는지 확인해 보세요.\n",
    "print(preprocess_sentence(\"This @_is ;;;sample        sentence.\"))"
   ]
  },
  {
   "cell_type": "markdown",
   "id": "ba4129ad",
   "metadata": {},
   "source": [
    "@_를넣어도 저절로 빼주는 문장완성."
   ]
  },
  {
   "cell_type": "code",
   "execution_count": 18,
   "id": "0e6217ab",
   "metadata": {},
   "outputs": [
    {
     "data": {
      "text/plain": [
       "['<start> spoken intro <end>',\n",
       " '<start> you ever want something <end>',\n",
       " '<start> that you know you shouldn t have <end>',\n",
       " '<start> the more you know you shouldn t have it , <end>',\n",
       " '<start> the more you want it <end>',\n",
       " '<start> and then one day you get it , <end>',\n",
       " '<start> it s so good too <end>',\n",
       " '<start> but it s just like my girl <end>',\n",
       " '<start> when she s around me <end>',\n",
       " '<start> i just feel so good , so good <end>']"
      ]
     },
     "execution_count": 18,
     "metadata": {},
     "output_type": "execute_result"
    }
   ],
   "source": [
    "# 여기에 정제된 문장을 모을겁니다\n",
    "corpus = []\n",
    "\n",
    "# raw_corpus list에 저장된 문장들을 순서대로 반환하여 sentence에 저장\n",
    "for sentence in raw_corpus:\n",
    "    # 우리가 원하지 않는 문장은 건너뜁니다\n",
    "    if len(sentence) == 0: continue\n",
    "    if sentence[-1] == \":\": continue\n",
    "    if len(sentence.split()) >= 13: continue  #15개 이하(start,end포함)\n",
    "    \n",
    "    # 앞서 구현한 preprocess_sentence() 함수를 이용하여 문장을 정제를 하고 담아주세요\n",
    "    preprocessed_sentence = preprocess_sentence(sentence)\n",
    "    corpus.append(preprocessed_sentence)\n",
    "        \n",
    "# 정제된 결과를 10개만 확인해보죠\n",
    "corpus[:10]"
   ]
  },
  {
   "cell_type": "markdown",
   "id": "9ef070a8",
   "metadata": {},
   "source": [
    "## Step 4. 평가 데이터셋 분리\n",
    "훈련 데이터와 평가 데이터를 분리하세요!\n",
    "\n",
    "tokenize() 함수로 데이터를 Tensor로 변환한 후, sklearn 모듈의 train_test_split() 함수를 사용해 훈련 데이터와 평가 데이터를 분리하도록 하겠습니다. 단어장의 크기는 12,000 이상 으로 설정하세요! 총 데이터의 20% 를 평가 데이터셋으로 사용해 주세요!\n",
    "\n"
   ]
  },
  {
   "cell_type": "code",
   "execution_count": 11,
   "id": "fe731619",
   "metadata": {},
   "outputs": [
    {
     "name": "stdout",
     "output_type": "stream",
     "text": [
      "[[   2 2701 2584 ...    0    0    0]\n",
      " [   2    7  156 ...    0    0    0]\n",
      " [   2   17    7 ...    0    0    0]\n",
      " ...\n",
      " [   2  311    1 ...    0    0    0]\n",
      " [   5   34   45 ... 1161  143    3]\n",
      " [   5   34   45 ... 1161  143    3]] <keras_preprocessing.text.Tokenizer object at 0x7f255d632460>\n"
     ]
    }
   ],
   "source": [
    "# 토큰화 할 때 텐서플로우의 Tokenizer와 pad_sequences를 사용합니다\n",
    "# 더 잘 알기 위해 아래 문서들을 참고하면 좋습니다\n",
    "# https://www.tensorflow.org/api_docs/python/tf/keras/preprocessing/text/Tokenizer\n",
    "# https://www.tensorflow.org/api_docs/python/tf/keras/preprocessing/sequence/pad_sequences\n",
    "def tokenize(corpus):\n",
    "    # 12,000단어를 기억할 수 있는 tokenizer를 만들겁니다\n",
    "    # 우리는 이미 문장을 정제했으니 filters가 필요없어요\n",
    "    # 12,000단어에 포함되지 못한 단어는 '<unk>'로 바꿀거에요\n",
    "    tokenizer = tf.keras.preprocessing.text.Tokenizer(\n",
    "        num_words=12000, \n",
    "        filters=' ',\n",
    "        oov_token=\"<unk>\"\n",
    "    )\n",
    "    # corpus를 이용해 tokenizer 내부의 단어장을 완성합니다\n",
    "    # tokenizer.fit_on_texts(texts): 문자 데이터를 입력받아 리스트의 형태로 변환하는 메서드\n",
    "    tokenizer.fit_on_texts(corpus)\n",
    "    # 준비한 tokenizer를 이용해 corpus를 Tensor로 변환합니다\n",
    "    # tokenizer.texts_to_sequences(texts): 텍스트 안의 단어들을 숫자의 시퀀스 형태로 변환하는 메서드\n",
    "    tensor = tokenizer.texts_to_sequences(corpus)   \n",
    "    # 입력 데이터의 시퀀스 길이를 일정하게 맞춰줍니다\n",
    "    # 만약 시퀀스가 짧다면 문장 뒤에 패딩을 붙여 길이를 맞춰줍니다.\n",
    "    # 문장 앞에 패딩을 붙여 길이를 맞추고 싶다면 padding='pre'를 사용합니다\n",
    "    # maxlen 선택적 Int, 모든 시퀀스의 최대 길이. 설정하지 않는 경우,시퀀스는 가장 긴 개별 길이로 채워집니다.\n",
    "    tensor = tf.keras.preprocessing.sequence.pad_sequences(tensor, padding='post',maxlen=15)  \n",
    "    \n",
    "    print(tensor,tokenizer)\n",
    "    return tensor, tokenizer\n",
    "\n",
    "tensor, tokenizer = tokenize(corpus)"
   ]
  },
  {
   "cell_type": "code",
   "execution_count": 12,
   "id": "ed5ea8d4",
   "metadata": {},
   "outputs": [
    {
     "name": "stdout",
     "output_type": "stream",
     "text": [
      "[   2 2701 2584    3    0    0    0    0    0    0    0    0    0    0]\n",
      "[2701 2584    3    0    0    0    0    0    0    0    0    0    0    0]\n"
     ]
    }
   ],
   "source": [
    "# tensor에서 마지막 토큰을 잘라내서 소스 문장을 생성합니다\n",
    "# 마지막 토큰은 <end>가 아니라 <pad>일 가능성이 높습니다.\n",
    "src_input = tensor[:, :-1]  \n",
    "# tensor에서 <start>를 잘라내서 타겟 문장을 생성합니다.\n",
    "tgt_input = tensor[:, 1:]    \n",
    "\n",
    "print(src_input[0])\n",
    "print(tgt_input[0])"
   ]
  },
  {
   "cell_type": "code",
   "execution_count": 14,
   "id": "15420818",
   "metadata": {},
   "outputs": [
    {
     "data": {
      "text/plain": [
       "<BatchDataset shapes: ((256, 14), (256, 14)), types: (tf.int32, tf.int32)>"
      ]
     },
     "execution_count": 14,
     "metadata": {},
     "output_type": "execute_result"
    }
   ],
   "source": [
    "BUFFER_SIZE = len(src_input)\n",
    "BATCH_SIZE = 256\n",
    "steps_per_epoch = len(src_input) // BATCH_SIZE\n",
    "\n",
    " # tokenizer가 구축한 단어사전 내 12000개와, 여기 포함되지 않은 0:<pad>를 포함하여 12001개\n",
    " # tokenizer.num_words: 주어진 데이터의 문장들에서 빈도수가 높은 n개의 단어만 선택\n",
    " # tokenize() 함수에서 num_words를 12000개로 선언했기 때문에, tokenizer.num_words의 값은 12000\n",
    "VOCAB_SIZE = tokenizer.num_words + 1   \n",
    "\n",
    "# 준비한 데이터 소스로부터 데이터셋을 만듭니다\n",
    "# 데이터셋에 대해서는 아래 문서를 참고하세요\n",
    "# 자세히 알아둘수록 도움이 많이 되는 중요한 문서입니다\n",
    "# https://www.tensorflow.org/api_docs/python/tf/data/Dataset\n",
    "dataset = tf.data.Dataset.from_tensor_slices((src_input, tgt_input))\n",
    "dataset = dataset.shuffle(BUFFER_SIZE)\n",
    "dataset = dataset.batch(BATCH_SIZE, drop_remainder=True)\n",
    "dataset"
   ]
  },
  {
   "cell_type": "code",
   "execution_count": 17,
   "id": "82af286f",
   "metadata": {},
   "outputs": [],
   "source": [
    "#총 데이터의 20% 를 평가 데이터셋\n",
    "enc_train, enc_val, dec_train, dec_val = train_test_split(src_input, tgt_input, test_size=0.2)"
   ]
  },
  {
   "cell_type": "markdown",
   "id": "0573c436",
   "metadata": {},
   "source": [
    "## Step 5. 인공지능 만들기\n",
    "모델의 Embedding Size와 Hidden Size를 조절하며 10 Epoch 안에 val_loss 값을 2.2 수준으로 줄일 수 있는 모델을 설계하세요!\n",
    "\n",
    "잘 설계한 모델을 학습하려면, model.fit() 함수를 사용해야 합니다. model.fit() 함수에는 다양한 인자를 넣어주어야 하는데, 가장 기본적인 인자로는 데이터셋과 epochs가 있습니다. '5. 실습 (2) 인공지능 학습시키기'에서의 예시와 같이 말이죠.\n",
    "\n",
    "model.fit(dataset, epochs=30)\n",
    "하지만 model.fit() 함수의 epochs를 아무리 크게 넣는다 해도 val_loss 값은 2.2 아래로 떨어지지 않습니다. 이럴 경우는 batch size를 변경하는 것과 같이 model.fit() 함수에 다양한 인자를 넣어주면 해결될 수도 있습니다. 자세한 내용은 https://www.tensorflow.org/api_docs/python/tf/keras/Model#fit 를 참고하세요!\n",
    "\n",
    "Loss는 아래 제시된 Loss 함수를 그대로 사용하세요!"
   ]
  },
  {
   "cell_type": "code",
   "execution_count": 19,
   "id": "10484f7b",
   "metadata": {},
   "outputs": [],
   "source": [
    "# #Loss\n",
    "# # tf.keras.losses.SparseCategoricalCrossentropy : https://www.tensorflow.org/api_docs/python/tf/keras/losses/SparseCategoricalCrossentropy\n",
    "# loss = tf.keras.losses.SparseCategoricalCrossentropy( \n",
    "#     from_logits=True, reduction='none') # 클래스 분류 문제에서 softmax 함수를 거치면 from_logits = False(default값),그렇지 않으면 from_logits = True."
   ]
  },
  {
   "cell_type": "code",
   "execution_count": 21,
   "id": "cc9dd92e",
   "metadata": {},
   "outputs": [],
   "source": [
    "class TextGenerator(tf.keras.Model):\n",
    "    def __init__(self, vocab_size, embedding_size, hidden_size):\n",
    "        super().__init__()\n",
    "        # Embedding 레이어, 2개의 LSTM 레이어, 1개의 Dense 레이어로 구성되어 있다.\n",
    "        # Embedding 레이어는 단어 사전의 인덱스 값을 해당 인덱스 번째의 워드 벡터로 바꿔준다.\n",
    "        # 이 워드 벡터는 의미 벡터 공간에서 단어의 추상적 표현으로 사용된다. \n",
    "        self.embedding = tf.keras.layers.Embedding(vocab_size, embedding_size) \n",
    "        self.rnn_1 = tf.keras.layers.LSTM(hidden_size, return_sequences=True)  \n",
    "        self.rnn_2 = tf.keras.layers.LSTM(hidden_size, return_sequences=True)\n",
    "        self.linear = tf.keras.layers.Dense(vocab_size)\n",
    "        \n",
    "    def call(self, x):\n",
    "        out = self.embedding(x)\n",
    "        out = self.rnn_1(out)\n",
    "        out = self.rnn_2(out)\n",
    "        out = self.linear(out)\n",
    "        \n",
    "        return out\n",
    "# embedding size 값이 커질수록 단어의 추상적인 특징들을 더 잡아낼 수 있지만\n",
    "# 그만큼 충분한 데이터가 없으면 안좋은 결과 값을 가져옵니다!   \n",
    "embedding_size = 256 # 워드 벡터의 차원수를 말하며 단어가 추상적으로 표현되는 크기입니다.\n",
    "hidden_size = 1024 # 모델에 얼마나 많은 일꾼을 둘 것인가? 정도로 이해하면 좋다.\n",
    "model = TextGenerator(tokenizer.num_words + 1, embedding_size , hidden_size) # tokenizer.num_words에 +1인 이유는 문장에 없는 pad가 사용되었기 때문이다."
   ]
  },
  {
   "cell_type": "code",
   "execution_count": 22,
   "id": "df0159a4",
   "metadata": {},
   "outputs": [
    {
     "data": {
      "text/plain": [
       "<tf.Tensor: shape=(256, 14, 12001), dtype=float32, numpy=\n",
       "array([[[-5.00537899e-05,  1.29662847e-04, -2.20344327e-06, ...,\n",
       "         -2.10190614e-04, -1.47213941e-04, -6.30898940e-05],\n",
       "        [-3.44439468e-04,  3.65543528e-04,  1.44343692e-04, ...,\n",
       "         -6.26830515e-05, -1.27065621e-04, -1.74422355e-04],\n",
       "        [-3.62228398e-04,  4.04485152e-04, -1.94158914e-04, ...,\n",
       "         -9.85962251e-05, -1.51114960e-04, -2.12538391e-04],\n",
       "        ...,\n",
       "        [ 1.12406444e-03,  1.83225691e-03, -3.48483620e-04, ...,\n",
       "          1.75878557e-03, -1.69896742e-03, -1.81443128e-03],\n",
       "        [ 1.22027274e-03,  1.92539929e-03, -2.60421075e-04, ...,\n",
       "          1.92831771e-03, -1.78127200e-03, -2.08544917e-03],\n",
       "        [ 1.29781291e-03,  1.97446579e-03, -1.48881401e-04, ...,\n",
       "          2.07607518e-03, -1.80949003e-03, -2.31196079e-03]],\n",
       "\n",
       "       [[-5.00537899e-05,  1.29662847e-04, -2.20344327e-06, ...,\n",
       "         -2.10190614e-04, -1.47213941e-04, -6.30898940e-05],\n",
       "        [-8.01212373e-05,  2.24258067e-04, -1.63333316e-04, ...,\n",
       "         -3.03297333e-04, -3.83381383e-04,  3.67432112e-05],\n",
       "        [-1.01530364e-04,  6.32344396e-04, -2.57180334e-04, ...,\n",
       "         -3.81751655e-04, -3.25402478e-04,  6.27873305e-05],\n",
       "        ...,\n",
       "        [ 7.51244312e-04,  7.19689997e-04,  9.58066666e-05, ...,\n",
       "          9.88467364e-04, -1.28967734e-03, -6.67972665e-04],\n",
       "        [ 8.72813340e-04,  9.16150573e-04,  6.09743365e-05, ...,\n",
       "          1.20503246e-03, -1.56373263e-03, -9.74567200e-04],\n",
       "        [ 9.87404608e-04,  1.09006045e-03,  4.38717907e-05, ...,\n",
       "          1.41281052e-03, -1.76956877e-03, -1.27049582e-03]],\n",
       "\n",
       "       [[-5.00537899e-05,  1.29662847e-04, -2.20344327e-06, ...,\n",
       "         -2.10190614e-04, -1.47213941e-04, -6.30898940e-05],\n",
       "        [ 1.37011293e-05,  8.69227188e-06,  2.75588536e-05, ...,\n",
       "         -4.56591806e-04, -3.46668588e-04, -1.09349253e-06],\n",
       "        [-1.62454715e-04, -4.07693660e-05, -1.35091919e-04, ...,\n",
       "         -4.42901626e-04, -2.76476523e-04,  1.41083901e-05],\n",
       "        ...,\n",
       "        [ 4.42423945e-04,  6.34800526e-04, -1.39475940e-03, ...,\n",
       "          3.84812331e-04, -6.02127635e-04,  1.50832627e-03],\n",
       "        [ 5.81346219e-04,  7.48477993e-04, -1.38204405e-03, ...,\n",
       "          5.54633385e-04, -8.90313706e-04,  1.18425209e-03],\n",
       "        [ 7.18850584e-04,  9.19790007e-04, -1.33035041e-03, ...,\n",
       "          7.52432621e-04, -1.21166289e-03,  7.41993252e-04]],\n",
       "\n",
       "       ...,\n",
       "\n",
       "       [[-5.00537899e-05,  1.29662847e-04, -2.20344327e-06, ...,\n",
       "         -2.10190614e-04, -1.47213941e-04, -6.30898940e-05],\n",
       "        [-2.85340328e-04,  2.72447476e-04, -2.57924228e-04, ...,\n",
       "         -1.86773046e-04, -3.19162064e-04, -1.10980203e-04],\n",
       "        [-4.42801829e-04,  3.78717348e-04, -3.66734836e-04, ...,\n",
       "         -1.19327124e-04, -5.24048344e-04, -4.13587288e-04],\n",
       "        ...,\n",
       "        [ 2.87849718e-04, -8.43600719e-05,  5.49607095e-04, ...,\n",
       "          1.50862834e-04, -2.89067015e-04, -3.32138734e-04],\n",
       "        [ 4.53417597e-04, -1.77075606e-04,  7.37953931e-04, ...,\n",
       "          2.34360035e-04,  1.78803864e-04, -5.39590510e-05],\n",
       "        [ 5.75690938e-04, -7.42009943e-05,  8.45332106e-04, ...,\n",
       "          3.58583231e-04,  2.07294841e-04,  3.19150167e-05]],\n",
       "\n",
       "       [[-5.00537899e-05,  1.29662847e-04, -2.20344327e-06, ...,\n",
       "         -2.10190614e-04, -1.47213941e-04, -6.30898940e-05],\n",
       "        [-6.09712697e-05,  4.38201940e-04, -2.07519206e-05, ...,\n",
       "         -6.09675662e-05, -1.97346584e-04, -2.51071266e-04],\n",
       "        [-2.93978141e-04,  1.01322006e-03, -9.51545953e-05, ...,\n",
       "         -7.83427313e-05, -1.52312539e-04, -3.46685672e-04],\n",
       "        ...,\n",
       "        [ 4.68985119e-04,  1.13254832e-03, -1.18651171e-03, ...,\n",
       "         -6.64007166e-05, -5.70555858e-04, -1.19517511e-03],\n",
       "        [ 6.66718988e-04,  1.24474813e-03, -1.11708965e-03, ...,\n",
       "          2.09483856e-04, -9.49102920e-04, -1.40104676e-03],\n",
       "        [ 8.35980522e-04,  1.37396064e-03, -1.01775501e-03, ...,\n",
       "          4.95863555e-04, -1.29090948e-03, -1.64591777e-03]],\n",
       "\n",
       "       [[-5.00537899e-05,  1.29662847e-04, -2.20344327e-06, ...,\n",
       "         -2.10190614e-04, -1.47213941e-04, -6.30898940e-05],\n",
       "        [-1.03267324e-04,  3.27341346e-04,  1.01152509e-04, ...,\n",
       "         -1.63310426e-04, -3.92675778e-04, -8.10172642e-05],\n",
       "        [ 8.01242059e-05,  6.76516152e-04,  2.81757762e-04, ...,\n",
       "         -2.57997599e-04, -8.34284234e-04, -8.78242427e-05],\n",
       "        ...,\n",
       "        [ 8.09619552e-04,  1.63412816e-03, -4.25891834e-04, ...,\n",
       "          1.35894970e-03, -1.76383904e-03, -1.53304962e-03],\n",
       "        [ 9.62584454e-04,  1.70444278e-03, -3.77166871e-04, ...,\n",
       "          1.61152822e-03, -1.87342486e-03, -1.84162834e-03],\n",
       "        [ 1.09127432e-03,  1.74827233e-03, -2.92942423e-04, ...,\n",
       "          1.83151022e-03, -1.92747905e-03, -2.10567052e-03]]],\n",
       "      dtype=float32)>"
      ]
     },
     "execution_count": 22,
     "metadata": {},
     "output_type": "execute_result"
    }
   ],
   "source": [
    "# 데이터셋에서 데이터 한 배치만 불러오는 방법입니다.\n",
    "# 지금은 동작 원리에 너무 빠져들지 마세요~\n",
    "for src_sample, tgt_sample in dataset.take(1): break\n",
    "\n",
    "# 한 배치만 불러온 데이터를 모델에 넣어봅니다\n",
    "model(src_sample)"
   ]
  },
  {
   "cell_type": "code",
   "execution_count": 23,
   "id": "6dccbc9a",
   "metadata": {},
   "outputs": [
    {
     "name": "stdout",
     "output_type": "stream",
     "text": [
      "Model: \"text_generator_1\"\n",
      "_________________________________________________________________\n",
      "Layer (type)                 Output Shape              Param #   \n",
      "=================================================================\n",
      "embedding_1 (Embedding)      multiple                  3072256   \n",
      "_________________________________________________________________\n",
      "lstm_2 (LSTM)                multiple                  5246976   \n",
      "_________________________________________________________________\n",
      "lstm_3 (LSTM)                multiple                  8392704   \n",
      "_________________________________________________________________\n",
      "dense_1 (Dense)              multiple                  12301025  \n",
      "=================================================================\n",
      "Total params: 29,012,961\n",
      "Trainable params: 29,012,961\n",
      "Non-trainable params: 0\n",
      "_________________________________________________________________\n"
     ]
    }
   ],
   "source": [
    "model.summary()"
   ]
  },
  {
   "cell_type": "code",
   "execution_count": 53,
   "id": "75a3ad20",
   "metadata": {},
   "outputs": [
    {
     "name": "stdout",
     "output_type": "stream",
     "text": [
      "Epoch 1/10\n",
      "550/550 [==============================] - 108s 193ms/step - loss: 1.8727 - val_loss: 1.8834\n",
      "Epoch 2/10\n",
      "550/550 [==============================] - 109s 199ms/step - loss: 1.5967 - val_loss: 1.8734\n",
      "Epoch 3/10\n",
      "550/550 [==============================] - 110s 200ms/step - loss: 1.4417 - val_loss: 1.8810\n",
      "Epoch 4/10\n",
      "550/550 [==============================] - 110s 199ms/step - loss: 1.3244 - val_loss: 1.9099\n",
      "Epoch 5/10\n",
      "550/550 [==============================] - 110s 200ms/step - loss: 1.2335 - val_loss: 1.9426\n",
      "Epoch 6/10\n",
      "550/550 [==============================] - 110s 199ms/step - loss: 1.1611 - val_loss: 1.9768\n",
      "Epoch 7/10\n",
      "550/550 [==============================] - 110s 200ms/step - loss: 1.1034 - val_loss: 2.0177\n",
      "Epoch 8/10\n",
      "550/550 [==============================] - 110s 200ms/step - loss: 1.0577 - val_loss: 2.0471\n",
      "Epoch 9/10\n",
      "550/550 [==============================] - 110s 200ms/step - loss: 1.0213 - val_loss: 2.0810\n",
      "Epoch 10/10\n",
      "550/550 [==============================] - 110s 200ms/step - loss: 0.9921 - val_loss: 2.1105\n"
     ]
    },
    {
     "data": {
      "text/plain": [
       "<keras.callbacks.History at 0x7f24cc593490>"
      ]
     },
     "execution_count": 53,
     "metadata": {},
     "output_type": "execute_result"
    }
   ],
   "source": [
    "#모델 학습하기\n",
    "#enc_train, enc_val, dec_train, dec_val\n",
    "optimizer = tf.keras.optimizers.Adam()\n",
    "#Loss\n",
    "# tf.keras.losses.SparseCategoricalCrossentropy : https://www.tensorflow.org/api_docs/python/tf/keras/losses/SparseCategoricalCrossentropy\n",
    "loss = tf.keras.losses.SparseCategoricalCrossentropy( \n",
    "    from_logits=True, reduction='none') # 클래스 분류 문제에서 softmax 함수를 거치면 from_logits = False(default값),그렇지 않으면 from_logits = True.\n",
    "model.compile(loss=loss, optimizer=optimizer)\n",
    "model.fit(enc_train,dec_train,\n",
    "                    epochs=10,\n",
    "                    batch_size=256,\n",
    "                    validation_data=(enc_val, dec_val))\n"
   ]
  },
  {
   "cell_type": "markdown",
   "id": "50f957b8",
   "metadata": {},
   "source": [
    "과대적합되는 모습인것같다. 에폭을 줄여야 할것같긴하다."
   ]
  },
  {
   "cell_type": "code",
   "execution_count": 55,
   "id": "793eeea6",
   "metadata": {},
   "outputs": [],
   "source": [
    "def generate_text(model, tokenizer, init_sentence=\"<start>\", max_len=15):\n",
    "    # 테스트를 위해서 입력받은 init_sentence도 텐서로 변환합니다\n",
    "    test_input = tokenizer.texts_to_sequences([init_sentence])\n",
    "    test_tensor = tf.convert_to_tensor(test_input, dtype=tf.int64)\n",
    "    end_token = tokenizer.word_index[\"<end>\"]\n",
    "\n",
    "    # 단어 하나씩 예측해 문장을 만듭니다\n",
    "    while True:\n",
    "        # 입력받은 문장의 텐서를 입력\n",
    "        predict = model(test_tensor) \n",
    "        # 예측된 값 중 가장 높은 확률인 word index를 뽑기\n",
    "        predict_word = tf.argmax(tf.nn.softmax(predict, axis=-1), axis=-1)[:, -1] \n",
    "        # 예측된 word index를 문장 뒤에 붙임\n",
    "        test_tensor = tf.concat([test_tensor, tf.expand_dims(predict_word, axis=0)], axis=-1)\n",
    "        # 모델이 <end>를 예측했거나, max_len에 도달했다면 문장 생성을 마침\n",
    "        if predict_word.numpy()[0] == end_token: break\n",
    "        if test_tensor.shape[1] >= max_len: break\n",
    "\n",
    "    generated = \"\"\n",
    "    # tokenizer를 이용해 word index를 단어로 하나씩 변환합니다 \n",
    "    for word_index in test_tensor[0].numpy():\n",
    "        generated += tokenizer.index_word[word_index] + \" \"\n",
    "\n",
    "    return generated"
   ]
  },
  {
   "cell_type": "code",
   "execution_count": 59,
   "id": "1e7e5e8d",
   "metadata": {},
   "outputs": [
    {
     "name": "stdout",
     "output_type": "stream",
     "text": [
      "1099/1099 - 13s - loss: 2.1106\n"
     ]
    }
   ],
   "source": [
    "results = model.evaluate(enc_val,  dec_val, verbose=2) #val을 평가하니 이렇게 나왔다."
   ]
  },
  {
   "cell_type": "code",
   "execution_count": 58,
   "id": "2f39a625",
   "metadata": {},
   "outputs": [
    {
     "data": {
      "text/plain": [
       "'<start> i love you <end> '"
      ]
     },
     "execution_count": 58,
     "metadata": {},
     "output_type": "execute_result"
    }
   ],
   "source": [
    "generate_text(model, tokenizer, init_sentence=\"<start> i love\", max_len=15)\n",
    "# generate_text 함수에 lyricist 라 정의한 모델을 이용해서 ilove 로 시작되는 문장을 생성"
   ]
  },
  {
   "cell_type": "code",
   "execution_count": 60,
   "id": "bf3bd9fd",
   "metadata": {},
   "outputs": [
    {
     "data": {
      "text/plain": [
       "'<start> i hate to see her go <end> '"
      ]
     },
     "execution_count": 60,
     "metadata": {},
     "output_type": "execute_result"
    }
   ],
   "source": [
    "generate_text(model, tokenizer, init_sentence=\"<start> i hate\", max_len=15)"
   ]
  },
  {
   "cell_type": "code",
   "execution_count": 62,
   "id": "392dafea",
   "metadata": {},
   "outputs": [
    {
     "data": {
      "text/plain": [
       "'<start> you kill me , real nigga hate me <end> '"
      ]
     },
     "execution_count": 62,
     "metadata": {},
     "output_type": "execute_result"
    }
   ],
   "source": [
    "generate_text(model, tokenizer, init_sentence=\"<start> you kill me\", max_len=15)"
   ]
  },
  {
   "cell_type": "code",
   "execution_count": 64,
   "id": "ca8f60b3",
   "metadata": {},
   "outputs": [
    {
     "data": {
      "text/plain": [
       "'<start> what you want nixga what you what you want nixga <end> '"
      ]
     },
     "execution_count": 64,
     "metadata": {},
     "output_type": "execute_result"
    }
   ],
   "source": [
    "generate_text(model, tokenizer, init_sentence=\"<start> what\", max_len=15)"
   ]
  },
  {
   "cell_type": "code",
   "execution_count": 65,
   "id": "91ac385c",
   "metadata": {},
   "outputs": [
    {
     "data": {
      "text/plain": [
       "'<start> who s that chick ? who s that chick ? <end> '"
      ]
     },
     "execution_count": 65,
     "metadata": {},
     "output_type": "execute_result"
    }
   ],
   "source": [
    "generate_text(model, tokenizer, init_sentence=\"<start> who\", max_len=15)"
   ]
  },
  {
   "cell_type": "code",
   "execution_count": 66,
   "id": "eb832a72",
   "metadata": {},
   "outputs": [
    {
     "data": {
      "text/plain": [
       "'<start> which is funny because i just saw nick the other day <end> '"
      ]
     },
     "execution_count": 66,
     "metadata": {},
     "output_type": "execute_result"
    }
   ],
   "source": [
    "generate_text(model, tokenizer, init_sentence=\"<start> which\", max_len=15)"
   ]
  },
  {
   "cell_type": "code",
   "execution_count": 68,
   "id": "b33e07f2",
   "metadata": {},
   "outputs": [
    {
     "name": "stdout",
     "output_type": "stream",
     "text": [
      "Epoch 1/10\n",
      "686/686 [==============================] - 120s 172ms/step - loss: 1.2244\n",
      "Epoch 2/10\n",
      "686/686 [==============================] - 124s 181ms/step - loss: 1.1081\n",
      "Epoch 3/10\n",
      "686/686 [==============================] - 125s 182ms/step - loss: 1.0509\n",
      "Epoch 4/10\n",
      "686/686 [==============================] - 124s 181ms/step - loss: 1.0114\n",
      "Epoch 5/10\n",
      "686/686 [==============================] - 124s 181ms/step - loss: 0.9825\n",
      "Epoch 6/10\n",
      "686/686 [==============================] - 125s 182ms/step - loss: 0.9622\n",
      "Epoch 7/10\n",
      "686/686 [==============================] - 125s 182ms/step - loss: 0.9479\n",
      "Epoch 8/10\n",
      "686/686 [==============================] - 125s 182ms/step - loss: 0.9348\n",
      "Epoch 9/10\n",
      "686/686 [==============================] - 125s 182ms/step - loss: 0.9251\n",
      "Epoch 10/10\n",
      "686/686 [==============================] - 124s 180ms/step - loss: 0.9162\n"
     ]
    }
   ],
   "source": [
    "#모델 학습하기\n",
    "#enc_train, enc_val, dec_train, dec_val\n",
    "optimizer = tf.keras.optimizers.Adam()\n",
    "#Loss\n",
    "# tf.keras.losses.SparseCategoricalCrossentropy : https://www.tensorflow.org/api_docs/python/tf/keras/losses/SparseCategoricalCrossentropy\n",
    "loss = tf.keras.losses.SparseCategoricalCrossentropy( \n",
    "    from_logits=True, reduction='none') # 클래스 분류 문제에서 softmax 함수를 거치면 from_logits = False(default값),그렇지 않으면 from_logits = True.\n",
    "model.compile(loss=loss, optimizer=optimizer)\n",
    "Lyric =model.fit(dataset,\n",
    "                    epochs=10,\n",
    "                    )"
   ]
  },
  {
   "cell_type": "code",
   "execution_count": 69,
   "id": "d66ce63c",
   "metadata": {},
   "outputs": [
    {
     "name": "stdout",
     "output_type": "stream",
     "text": [
      "1099/1099 - 12s - loss: 0.9121\n"
     ]
    }
   ],
   "source": [
    "results1 = model.evaluate(enc_val,  dec_val, verbose=2) #val을 평가하니 이렇게 나왔다."
   ]
  },
  {
   "cell_type": "markdown",
   "id": "bb7ca536",
   "metadata": {},
   "source": [
    "데이터셋을 대상으로한 val_loss는 0.91이나왔다. (하지만 val에서 데이터가 겹치니 무의미한것같기도 하다.)"
   ]
  },
  {
   "cell_type": "code",
   "execution_count": 72,
   "id": "a1eac2e6",
   "metadata": {},
   "outputs": [
    {
     "data": {
      "text/plain": [
       "'<start> who s that chick ? who s that chick ? <end> '"
      ]
     },
     "execution_count": 72,
     "metadata": {},
     "output_type": "execute_result"
    }
   ],
   "source": [
    "generate_text(model, tokenizer, init_sentence=\"<start> who\", max_len=15)"
   ]
  },
  {
   "cell_type": "markdown",
   "id": "186a06ff",
   "metadata": {},
   "source": [
    "하지만, 제대로 출력이 된다는것에서 같은 성능인것 같기도하다."
   ]
  },
  {
   "cell_type": "markdown",
   "id": "fecc82b9",
   "metadata": {},
   "source": [
    "실제로 있는대사를 따온것같다."
   ]
  },
  {
   "cell_type": "markdown",
   "id": "fa996b5f",
   "metadata": {},
   "source": [
    "인종차별하는 머신러닝의 모습"
   ]
  },
  {
   "cell_type": "markdown",
   "id": "1bbfa53f",
   "metadata": {},
   "source": [
    "# [결과 및 회고]\n",
    "이번 프로젝트에서는 작사가 AI를 만들어 보았습니다.\n",
    "결과적으로, validation loss =2.1106 까지 줄이는 모델을 만들 수 있었습니다.\n",
    "또한, generate_text 함수를 사용해 실제로 문장이 문맥에 맞게 잘 형성되는지 확인해보았는데,\n",
    "생각보다 작곡을 잘 해내서 놀랐습니다.\n",
    "아래는 작곡의 예시입니다.\n",
    "\n",
    "* <start> i love you <end> '\n",
    "* '<start> i hate to see her go <end> '\n",
    "* '<start> you kill me , real nigga hate me <end> '\n",
    "    등등이 있습니다.\n",
    "    \n",
    "개인적으로 모델 dataset으로 하는건 틀린 방법같습니다. \n",
    "    \n",
    "    model.fit(enc_train,dec_train,\n",
    "                    epochs=10,\n",
    "                    batch_size=256,\n",
    "                    validation_data=(enc_val, dec_val))\n",
    "    \n",
    "    이방법이 맞는 방법 같습니다. 검증데이터와 학습데이터를 분리했기 떄문입니다.\n",
    "    \n",
    "역시 공부가 더필요한 부분입니다.\n",
    "    \n",
    "* inbedding_size의 좋은 시작점은 50-300 범위에 있다. 그러나 특정 작업에 대한 최적의 값을 찾기 위해 다른 inbedding_size 값으로 실험하는 것이 일반적이다.\n",
    "   \n",
    "* vocab_size는 단순히 어휘의 고유한 정수 인덱스의 총 개수입니다.\n",
    " "
   ]
  }
 ],
 "metadata": {
  "kernelspec": {
   "display_name": "Python 3 (ipykernel)",
   "language": "python",
   "name": "python3"
  },
  "language_info": {
   "codemirror_mode": {
    "name": "ipython",
    "version": 3
   },
   "file_extension": ".py",
   "mimetype": "text/x-python",
   "name": "python",
   "nbconvert_exporter": "python",
   "pygments_lexer": "ipython3",
   "version": "3.9.7"
  }
 },
 "nbformat": 4,
 "nbformat_minor": 5
}
