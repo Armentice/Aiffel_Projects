{
 "cells": [
  {
   "cell_type": "markdown",
   "id": "4c119d68",
   "metadata": {},
   "source": [
    "# 라이브러리"
   ]
  },
  {
   "cell_type": "code",
   "execution_count": 1,
   "id": "82dc3eb7",
   "metadata": {},
   "outputs": [
    {
     "name": "stdout",
     "output_type": "stream",
     "text": [
      "3.6.5\n",
      "2.6.0\n",
      "1.2.0\n"
     ]
    }
   ],
   "source": [
    "from importlib.metadata import version\n",
    "import nltk\n",
    "import tensorflow\n",
    "import summa\n",
    "import numpy as np\n",
    "import pandas as pd\n",
    "import os\n",
    "import re\n",
    "import matplotlib.pyplot as plt\n",
    "from nltk.corpus import stopwords\n",
    "from bs4 import BeautifulSoup \n",
    "from tensorflow.keras.preprocessing.text import Tokenizer \n",
    "from tensorflow.keras.preprocessing.sequence import pad_sequences\n",
    "import warnings\n",
    "warnings.filterwarnings(\"ignore\", category=UserWarning, module='bs4')\n",
    "print(nltk.__version__)\n",
    "print(tensorflow.__version__)\n",
    "print(version('summa'))"
   ]
  },
  {
   "cell_type": "markdown",
   "id": "d5cb190f",
   "metadata": {},
   "source": [
    "# Step 1. 데이터 수집하기\n",
    "데이터는 아래 링크에 있는 뉴스 기사 데이터(news_summary_more.csv)를 사용하세요.\n",
    "\n",
    "sunnysai12345/News_Summary\n",
    "https://github.com/sunnysai12345/News_Summary\n",
    "\n",
    "아래의 코드로 데이터를 다운로드할 수 있어요."
   ]
  },
  {
   "cell_type": "code",
   "execution_count": 2,
   "id": "042612f6",
   "metadata": {},
   "outputs": [],
   "source": [
    "import urllib.request\n",
    "urllib.request.urlretrieve(\"https://raw.githubusercontent.com/sunnysai12345/News_Summary/master/news_summary_more.csv\", filename=\"news_summary_more.csv\")\n",
    "data = pd.read_csv('news_summary_more.csv', encoding='iso-8859-1')"
   ]
  },
  {
   "cell_type": "code",
   "execution_count": 3,
   "id": "09df1278",
   "metadata": {},
   "outputs": [
    {
     "data": {
      "text/html": [
       "<div>\n",
       "<style scoped>\n",
       "    .dataframe tbody tr th:only-of-type {\n",
       "        vertical-align: middle;\n",
       "    }\n",
       "\n",
       "    .dataframe tbody tr th {\n",
       "        vertical-align: top;\n",
       "    }\n",
       "\n",
       "    .dataframe thead th {\n",
       "        text-align: right;\n",
       "    }\n",
       "</style>\n",
       "<table border=\"1\" class=\"dataframe\">\n",
       "  <thead>\n",
       "    <tr style=\"text-align: right;\">\n",
       "      <th></th>\n",
       "      <th>headlines</th>\n",
       "      <th>text</th>\n",
       "    </tr>\n",
       "  </thead>\n",
       "  <tbody>\n",
       "    <tr>\n",
       "      <th>91889</th>\n",
       "      <td>Jadavpur University centre of Naxalite ideolog...</td>\n",
       "      <td>Condemning the Naxal attack on CRPF personnel ...</td>\n",
       "    </tr>\n",
       "    <tr>\n",
       "      <th>65879</th>\n",
       "      <td>Military ID scam busted in China, over 270 held</td>\n",
       "      <td>Over 270 people have been arrested in China fo...</td>\n",
       "    </tr>\n",
       "    <tr>\n",
       "      <th>41349</th>\n",
       "      <td>Fake Ã¢ÂÂ¹2000 notes smuggled from B'desh for...</td>\n",
       "      <td>India's Directorate of Revenue Intelligence ha...</td>\n",
       "    </tr>\n",
       "    <tr>\n",
       "      <th>90587</th>\n",
       "      <td>MakeMyTrip to raise Ã¢ÂÂ¹2,115 crore via shar...</td>\n",
       "      <td>Online travel firm MakeMyTrip on Wednesday sai...</td>\n",
       "    </tr>\n",
       "    <tr>\n",
       "      <th>55284</th>\n",
       "      <td>UN orders N Koreans working abroad to return h...</td>\n",
       "      <td>The United Nations Security Council on Friday ...</td>\n",
       "    </tr>\n",
       "    <tr>\n",
       "      <th>91791</th>\n",
       "      <td>I was in a relationship with my rapist: Hollyw...</td>\n",
       "      <td>Hollywood actress Abigail Breslin, while expla...</td>\n",
       "    </tr>\n",
       "    <tr>\n",
       "      <th>82640</th>\n",
       "      <td>Director accuses Toilet- Ek Prem Katha makers ...</td>\n",
       "      <td>Filmmaker Praveen Vyas has sent a legal notice...</td>\n",
       "    </tr>\n",
       "    <tr>\n",
       "      <th>55815</th>\n",
       "      <td>Apple India head Sanjay Kaul quits: Report</td>\n",
       "      <td>Technology giant Apple's head in India Sanjay ...</td>\n",
       "    </tr>\n",
       "    <tr>\n",
       "      <th>47641</th>\n",
       "      <td>Thai Prime Minister releases pop song on YouTube</td>\n",
       "      <td>A new pop song written by Thailand's Prime Min...</td>\n",
       "    </tr>\n",
       "    <tr>\n",
       "      <th>34868</th>\n",
       "      <td>Supreme Court's website hacked by 'Brazil Hack...</td>\n",
       "      <td>Soon after the Supreme Court dismissed pleas s...</td>\n",
       "    </tr>\n",
       "  </tbody>\n",
       "</table>\n",
       "</div>"
      ],
      "text/plain": [
       "                                               headlines  \\\n",
       "91889  Jadavpur University centre of Naxalite ideolog...   \n",
       "65879    Military ID scam busted in China, over 270 held   \n",
       "41349  Fake Ã¢ÂÂ¹2000 notes smuggled from B'desh for...   \n",
       "90587  MakeMyTrip to raise Ã¢ÂÂ¹2,115 crore via shar...   \n",
       "55284  UN orders N Koreans working abroad to return h...   \n",
       "91791  I was in a relationship with my rapist: Hollyw...   \n",
       "82640  Director accuses Toilet- Ek Prem Katha makers ...   \n",
       "55815         Apple India head Sanjay Kaul quits: Report   \n",
       "47641   Thai Prime Minister releases pop song on YouTube   \n",
       "34868  Supreme Court's website hacked by 'Brazil Hack...   \n",
       "\n",
       "                                                    text  \n",
       "91889  Condemning the Naxal attack on CRPF personnel ...  \n",
       "65879  Over 270 people have been arrested in China fo...  \n",
       "41349  India's Directorate of Revenue Intelligence ha...  \n",
       "90587  Online travel firm MakeMyTrip on Wednesday sai...  \n",
       "55284  The United Nations Security Council on Friday ...  \n",
       "91791  Hollywood actress Abigail Breslin, while expla...  \n",
       "82640  Filmmaker Praveen Vyas has sent a legal notice...  \n",
       "55815  Technology giant Apple's head in India Sanjay ...  \n",
       "47641  A new pop song written by Thailand's Prime Min...  \n",
       "34868  Soon after the Supreme Court dismissed pleas s...  "
      ]
     },
     "execution_count": 3,
     "metadata": {},
     "output_type": "execute_result"
    }
   ],
   "source": [
    "data.sample(10)"
   ]
  },
  {
   "cell_type": "markdown",
   "id": "f57d0c35",
   "metadata": {},
   "source": [
    "이 데이터는 기사의 본문에 해당되는 text와 headlines 두 가지 열로 구성되어져 있습니다.\n",
    "\n",
    "추상적 요약을 하는 경우에는 text를 본문, headlines를 이미 요약된 데이터로 삼아서 모델을 학습할 수 있어요. 추출적 요약을 하는 경우에는 오직 text열만을 사용하세요."
   ]
  },
  {
   "cell_type": "markdown",
   "id": "f1533751",
   "metadata": {},
   "source": [
    "# Step 2. 데이터 전처리하기 (추상적 요약)\n",
    "실습에서 사용된 전처리를 참고하여 각자 필요하다고 생각하는 전처리를 추가 사용하여 텍스트를 정규화 또는 정제해 보세요. 만약, 불용어 제거를 선택한다면 상대적으로 길이가 짧은 요약 데이터에 대해서도 불용어를 제거하는 것이 좋을지 고민해 보세요."
   ]
  },
  {
   "cell_type": "code",
   "execution_count": 4,
   "id": "e7348c1b",
   "metadata": {},
   "outputs": [],
   "source": [
    "data.rename(columns = {'text': 'Text', 'headlines': 'Summary'}, inplace = True)"
   ]
  },
  {
   "cell_type": "markdown",
   "id": "97741c20",
   "metadata": {},
   "source": [
    "편하게 하기위해 이름을 바꾸었다."
   ]
  },
  {
   "cell_type": "markdown",
   "id": "811900d0",
   "metadata": {},
   "source": [
    "## 중복 샘플과 NULL 값이 존재하는 샘플 제거\n",
    "우선 데이터의 중복 샘플 유무를 확인해 볼게요."
   ]
  },
  {
   "cell_type": "code",
   "execution_count": 5,
   "id": "01d1d210",
   "metadata": {},
   "outputs": [
    {
     "name": "stdout",
     "output_type": "stream",
     "text": [
      "Text 열에서 중복을 배제한 유일한 샘플의 수 : 98360\n",
      "Summary 열에서 중복을 배제한 유일한 샘플의 수 : 98280\n"
     ]
    }
   ],
   "source": [
    "print('Text 열에서 중복을 배제한 유일한 샘플의 수 :', data['Text'].nunique())\n",
    "print('Summary 열에서 중복을 배제한 유일한 샘플의 수 :', data['Summary'].nunique())"
   ]
  },
  {
   "cell_type": "code",
   "execution_count": 6,
   "id": "8ddf022a",
   "metadata": {},
   "outputs": [
    {
     "name": "stdout",
     "output_type": "stream",
     "text": [
      "전체 샘플수 : 98360\n"
     ]
    }
   ],
   "source": [
    "# inplace=True 를 설정하면 DataFrame 타입 값을 return 하지 않고 data 내부를 직접적으로 바꿉니다\n",
    "data.drop_duplicates(subset = ['Text'], inplace=True)\n",
    "print('전체 샘플수 :', (len(data)))"
   ]
  },
  {
   "cell_type": "code",
   "execution_count": 7,
   "id": "8f8ed870",
   "metadata": {},
   "outputs": [
    {
     "name": "stdout",
     "output_type": "stream",
     "text": [
      "Summary    0\n",
      "Text       0\n",
      "dtype: int64\n"
     ]
    }
   ],
   "source": [
    "# 결측치를 확인합니다.\n",
    "print(data.isnull().sum())"
   ]
  },
  {
   "cell_type": "code",
   "execution_count": 8,
   "id": "d8bc6907",
   "metadata": {},
   "outputs": [
    {
     "name": "stdout",
     "output_type": "stream",
     "text": [
      "전체 샘플수 : 98360\n"
     ]
    }
   ],
   "source": [
    "# 결측치를 제거합니다.\n",
    "data.dropna(axis=0, inplace=True)\n",
    "print('전체 샘플수 :', (len(data)))"
   ]
  },
  {
   "cell_type": "markdown",
   "id": "44cfcaeb",
   "metadata": {},
   "source": [
    "## 텍스트 정규화와 불용어 제거"
   ]
  },
  {
   "cell_type": "code",
   "execution_count": 9,
   "id": "96ebd888",
   "metadata": {},
   "outputs": [
    {
     "name": "stdout",
     "output_type": "stream",
     "text": [
      "정규화 사전의 수:  120\n"
     ]
    }
   ],
   "source": [
    "contractions = {\"ain't\": \"is not\", \"aren't\": \"are not\",\"can't\": \"cannot\", \"'cause\": \"because\", \"could've\": \"could have\", \"couldn't\": \"could not\",\n",
    "                           \"didn't\": \"did not\",  \"doesn't\": \"does not\", \"don't\": \"do not\", \"hadn't\": \"had not\", \"hasn't\": \"has not\", \"haven't\": \"have not\",\n",
    "                           \"he'd\": \"he would\",\"he'll\": \"he will\", \"he's\": \"he is\", \"how'd\": \"how did\", \"how'd'y\": \"how do you\", \"how'll\": \"how will\", \"how's\": \"how is\",\n",
    "                           \"I'd\": \"I would\", \"I'd've\": \"I would have\", \"I'll\": \"I will\", \"I'll've\": \"I will have\",\"I'm\": \"I am\", \"I've\": \"I have\", \"i'd\": \"i would\",\n",
    "                           \"i'd've\": \"i would have\", \"i'll\": \"i will\",  \"i'll've\": \"i will have\",\"i'm\": \"i am\", \"i've\": \"i have\", \"isn't\": \"is not\", \"it'd\": \"it would\",\n",
    "                           \"it'd've\": \"it would have\", \"it'll\": \"it will\", \"it'll've\": \"it will have\",\"it's\": \"it is\", \"let's\": \"let us\", \"ma'am\": \"madam\",\n",
    "                           \"mayn't\": \"may not\", \"might've\": \"might have\",\"mightn't\": \"might not\",\"mightn't've\": \"might not have\", \"must've\": \"must have\",\n",
    "                           \"mustn't\": \"must not\", \"mustn't've\": \"must not have\", \"needn't\": \"need not\", \"needn't've\": \"need not have\",\"o'clock\": \"of the clock\",\n",
    "                           \"oughtn't\": \"ought not\", \"oughtn't've\": \"ought not have\", \"shan't\": \"shall not\", \"sha'n't\": \"shall not\", \"shan't've\": \"shall not have\",\n",
    "                           \"she'd\": \"she would\", \"she'd've\": \"she would have\", \"she'll\": \"she will\", \"she'll've\": \"she will have\", \"she's\": \"she is\",\n",
    "                           \"should've\": \"should have\", \"shouldn't\": \"should not\", \"shouldn't've\": \"should not have\", \"so've\": \"so have\",\"so's\": \"so as\",\n",
    "                           \"this's\": \"this is\",\"that'd\": \"that would\", \"that'd've\": \"that would have\", \"that's\": \"that is\", \"there'd\": \"there would\",\n",
    "                           \"there'd've\": \"there would have\", \"there's\": \"there is\", \"here's\": \"here is\",\"they'd\": \"they would\", \"they'd've\": \"they would have\",\n",
    "                           \"they'll\": \"they will\", \"they'll've\": \"they will have\", \"they're\": \"they are\", \"they've\": \"they have\", \"to've\": \"to have\",\n",
    "                           \"wasn't\": \"was not\", \"we'd\": \"we would\", \"we'd've\": \"we would have\", \"we'll\": \"we will\", \"we'll've\": \"we will have\", \"we're\": \"we are\",\n",
    "                           \"we've\": \"we have\", \"weren't\": \"were not\", \"what'll\": \"what will\", \"what'll've\": \"what will have\", \"what're\": \"what are\",\n",
    "                           \"what's\": \"what is\", \"what've\": \"what have\", \"when's\": \"when is\", \"when've\": \"when have\", \"where'd\": \"where did\", \"where's\": \"where is\",\n",
    "                           \"where've\": \"where have\", \"who'll\": \"who will\", \"who'll've\": \"who will have\", \"who's\": \"who is\", \"who've\": \"who have\",\n",
    "                           \"why's\": \"why is\", \"why've\": \"why have\", \"will've\": \"will have\", \"won't\": \"will not\", \"won't've\": \"will not have\",\n",
    "                           \"would've\": \"would have\", \"wouldn't\": \"would not\", \"wouldn't've\": \"would not have\", \"y'all\": \"you all\",\n",
    "                           \"y'all'd\": \"you all would\",\"y'all'd've\": \"you all would have\",\"y'all're\": \"you all are\",\"y'all've\": \"you all have\",\n",
    "                           \"you'd\": \"you would\", \"you'd've\": \"you would have\", \"you'll\": \"you will\", \"you'll've\": \"you will have\",\n",
    "                           \"you're\": \"you are\", \"you've\": \"you have\"}\n",
    "\n",
    "print(\"정규화 사전의 수: \", len(contractions))"
   ]
  },
  {
   "cell_type": "code",
   "execution_count": 10,
   "id": "3033fae5",
   "metadata": {},
   "outputs": [
    {
     "name": "stderr",
     "output_type": "stream",
     "text": [
      "[nltk_data] Downloading package stopwords to /aiffel/nltk_data...\n",
      "[nltk_data]   Package stopwords is already up-to-date!\n"
     ]
    },
    {
     "data": {
      "text/plain": [
       "True"
      ]
     },
     "execution_count": 10,
     "metadata": {},
     "output_type": "execute_result"
    }
   ],
   "source": [
    "import nltk\n",
    "nltk.download('stopwords')"
   ]
  },
  {
   "cell_type": "code",
   "execution_count": 11,
   "id": "56986ce2",
   "metadata": {},
   "outputs": [
    {
     "name": "stdout",
     "output_type": "stream",
     "text": [
      "불용어 개수 : 179\n",
      "['i', 'me', 'my', 'myself', 'we', 'our', 'ours', 'ourselves', 'you', \"you're\", \"you've\", \"you'll\", \"you'd\", 'your', 'yours', 'yourself', 'yourselves', 'he', 'him', 'his', 'himself', 'she', \"she's\", 'her', 'hers', 'herself', 'it', \"it's\", 'its', 'itself', 'they', 'them', 'their', 'theirs', 'themselves', 'what', 'which', 'who', 'whom', 'this', 'that', \"that'll\", 'these', 'those', 'am', 'is', 'are', 'was', 'were', 'be', 'been', 'being', 'have', 'has', 'had', 'having', 'do', 'does', 'did', 'doing', 'a', 'an', 'the', 'and', 'but', 'if', 'or', 'because', 'as', 'until', 'while', 'of', 'at', 'by', 'for', 'with', 'about', 'against', 'between', 'into', 'through', 'during', 'before', 'after', 'above', 'below', 'to', 'from', 'up', 'down', 'in', 'out', 'on', 'off', 'over', 'under', 'again', 'further', 'then', 'once', 'here', 'there', 'when', 'where', 'why', 'how', 'all', 'any', 'both', 'each', 'few', 'more', 'most', 'other', 'some', 'such', 'no', 'nor', 'not', 'only', 'own', 'same', 'so', 'than', 'too', 'very', 's', 't', 'can', 'will', 'just', 'don', \"don't\", 'should', \"should've\", 'now', 'd', 'll', 'm', 'o', 're', 've', 'y', 'ain', 'aren', \"aren't\", 'couldn', \"couldn't\", 'didn', \"didn't\", 'doesn', \"doesn't\", 'hadn', \"hadn't\", 'hasn', \"hasn't\", 'haven', \"haven't\", 'isn', \"isn't\", 'ma', 'mightn', \"mightn't\", 'mustn', \"mustn't\", 'needn', \"needn't\", 'shan', \"shan't\", 'shouldn', \"shouldn't\", 'wasn', \"wasn't\", 'weren', \"weren't\", 'won', \"won't\", 'wouldn', \"wouldn't\"]\n"
     ]
    }
   ],
   "source": [
    "# 불용어 사전 - 문맥과 무관하게 자주 나와 context vector에 담겨있는 정보를 희석할 \n",
    "#               염려가 있는 단어는 사용하지 않도록 합니다.\n",
    " \n",
    "print('불용어 개수 :', len(stopwords.words('english') ))\n",
    "print(stopwords.words('english'))"
   ]
  },
  {
   "cell_type": "markdown",
   "id": "5ac27797",
   "metadata": {},
   "source": [
    "불용어 사전에서 의문이 드는 점은, 부정어(no, not, nor, but)등도 포함되어 있다는 점인데, 이들은 사용하도록 하겠습니다. 또한, 뉴스에서 의미를 파악하는데 중요할 것 같은 단어도 사용하도록 하겠습니다"
   ]
  },
  {
   "cell_type": "code",
   "execution_count": 12,
   "id": "d93cb763",
   "metadata": {},
   "outputs": [],
   "source": [
    "selection = ['but', 'no', 'not', 'nor', 'only', 'while', 'before', 'after', 'under', \\\n",
    "            'again', 'further']\n",
    "\n",
    "my_stopwords = list(\n",
    "                    filter(lambda word: word not in selection,\n",
    "                        stopwords.words('english')\n",
    "                        )\n",
    "                    )"
   ]
  },
  {
   "cell_type": "code",
   "execution_count": 13,
   "id": "9838b470",
   "metadata": {},
   "outputs": [
    {
     "name": "stdout",
     "output_type": "stream",
     "text": [
      "사용자화 불용어 개수:  168\n",
      "['i', 'me', 'my', 'myself', 'we', 'our', 'ours', 'ourselves', 'you', \"you're\", \"you've\", \"you'll\", \"you'd\", 'your', 'yours', 'yourself', 'yourselves', 'he', 'him', 'his', 'himself', 'she', \"she's\", 'her', 'hers', 'herself', 'it', \"it's\", 'its', 'itself', 'they', 'them', 'their', 'theirs', 'themselves', 'what', 'which', 'who', 'whom', 'this', 'that', \"that'll\", 'these', 'those', 'am', 'is', 'are', 'was', 'were', 'be', 'been', 'being', 'have', 'has', 'had', 'having', 'do', 'does', 'did', 'doing', 'a', 'an', 'the', 'and', 'if', 'or', 'because', 'as', 'until', 'of', 'at', 'by', 'for', 'with', 'about', 'against', 'between', 'into', 'through', 'during', 'above', 'below', 'to', 'from', 'up', 'down', 'in', 'out', 'on', 'off', 'over', 'then', 'once', 'here', 'there', 'when', 'where', 'why', 'how', 'all', 'any', 'both', 'each', 'few', 'more', 'most', 'other', 'some', 'such', 'own', 'same', 'so', 'than', 'too', 'very', 's', 't', 'can', 'will', 'just', 'don', \"don't\", 'should', \"should've\", 'now', 'd', 'll', 'm', 'o', 're', 've', 'y', 'ain', 'aren', \"aren't\", 'couldn', \"couldn't\", 'didn', \"didn't\", 'doesn', \"doesn't\", 'hadn', \"hadn't\", 'hasn', \"hasn't\", 'haven', \"haven't\", 'isn', \"isn't\", 'ma', 'mightn', \"mightn't\", 'mustn', \"mustn't\", 'needn', \"needn't\", 'shan', \"shan't\", 'shouldn', \"shouldn't\", 'wasn', \"wasn't\", 'weren', \"weren't\", 'won', \"won't\", 'wouldn', \"wouldn't\"]\n"
     ]
    }
   ],
   "source": [
    "print('사용자화 불용어 개수: ', len(my_stopwords))\n",
    "print(my_stopwords)"
   ]
  },
  {
   "cell_type": "markdown",
   "id": "1634b7d2",
   "metadata": {},
   "source": [
    "정규표현식과 불용어 사전을 이용해 전처리를 진행합니다"
   ]
  },
  {
   "cell_type": "code",
   "execution_count": 14,
   "id": "15e88252",
   "metadata": {},
   "outputs": [
    {
     "name": "stdout",
     "output_type": "stream",
     "text": [
      "=3\n"
     ]
    }
   ],
   "source": [
    "# 데이터 전처리 함수\n",
    "def preprocess_sentence(sentence, remove_stopwords=True):\n",
    "    sentence = sentence.lower() # 텍스트 소문자화\n",
    "    sentence = BeautifulSoup(sentence, \"lxml\").text # <br />, <a href = ...> 등의 html 태그 제거\n",
    "    sentence = re.sub(r'\\([^)]*\\)', '', sentence) # 괄호로 닫힌 문자열 (...) 제거 Ex) my husband (and myself!) for => my husband for\n",
    "    sentence = re.sub('\"','', sentence) # 쌍따옴표 \" 제거\n",
    "    sentence = ' '.join([contractions[t] if t in contractions else t for t in sentence.split(\" \")]) # 약어 정규화\n",
    "    sentence = re.sub(r\"'s\\b\",\"\", sentence) # 소유격 제거. Ex) roland's -> roland\n",
    "    sentence = re.sub(\"[^a-zA-Z]\", \" \", sentence) # 영어 외 문자(숫자, 특수문자 등) 공백으로 변환\n",
    "    sentence = re.sub('[m]{2,}', 'mm', sentence) # m이 3개 이상이면 2개로 변경. Ex) ummmmmmm yeah -> umm yeah\n",
    "    \n",
    "    # 불용어 제거 (Text)\n",
    "    if remove_stopwords:\n",
    "        tokens = ' '.join(word for word in sentence.split() if not word in stopwords.words('english') if len(word) > 1)\n",
    "    # 불용어 미제거 (Summary)\n",
    "    else:\n",
    "        tokens = ' '.join(word for word in sentence.split() if len(word) > 1)\n",
    "    return tokens\n",
    "print('=3')"
   ]
  },
  {
   "cell_type": "code",
   "execution_count": 15,
   "id": "36508d5f",
   "metadata": {},
   "outputs": [
    {
     "name": "stdout",
     "output_type": "stream",
     "text": [
      "text:  everything bought great infact ordered twice third ordered wasfor mother father\n",
      "summary: great way to start the day\n"
     ]
    }
   ],
   "source": [
    "temp_text = 'Everything I bought was great, infact I ordered twice and the third ordered was<br />for my mother and father.'\n",
    "temp_summary = 'Great way to start (or finish) the day!!!'\n",
    "\n",
    "print(\"text: \", preprocess_sentence(temp_text))\n",
    "print(\"summary:\", preprocess_sentence(temp_summary, False))  # 불용어를 제거하지 않습니다."
   ]
  },
  {
   "cell_type": "markdown",
   "id": "85365571",
   "metadata": {},
   "source": [
    "결과를 보면 기본적으로 모든 알파벳이 소문자로 변환되고, ```<br />```과 같은 ```html``` 태그가 제거되었죠. (or finish)와 같은 괄호로 묶였던 단어 시퀀스가 제거된 것도 확인할 수 있어요. 또한 특수문자가 제거되면서 영어만 남았어요.\n",
    "\n",
    "이제 함수가 잘 작동하는 것을 확인했으니, 훈련 데이터 전체에 대해서 전처리를 수행해볼게요. \n",
    "\n",
    "이때, Text의 경우에는 불용어를 제거하고, Summary의 경우에는 불용어를 제거하지 않을 것이므로 따로 호출해서 진행해야 해요. 먼저 Text를 전처리하고, 결과를 확인하기 위해서 상위 5개의 줄을 출력해볼게요."
   ]
  },
  {
   "cell_type": "code",
   "execution_count": 16,
   "id": "523a489f",
   "metadata": {},
   "outputs": [],
   "source": [
    "# data.to_csv('clean_data.csv') #전처리 후 데이터 백업"
   ]
  },
  {
   "cell_type": "code",
   "execution_count": 17,
   "id": "62378ab4",
   "metadata": {},
   "outputs": [
    {
     "name": "stdout",
     "output_type": "stream",
     "text": [
      "Text 전처리 후 결과:  ['saurav kant alumnus upgrad iiit pg program machine learning artificial intelligence sr systems engineer infosys almost years work experience program upgrad degree career support helped transition data scientist tech mahindra salary hike upgrad online power learning powered lakh careers', 'kunal shah credit card bill payment platform cred gave users chance win free food swiggy one year pranav kaushik delhi techie bagged reward spending cred coins users get one cred coin per rupee bill paid used avail rewards brands like ixigo bookmyshow ubereats cult fit', 'new zealand defeated india wickets fourth odi hamilton thursday win first match five match odi series india lost international match rohit sharma captaincy consecutive victories dating back march match witnessed india getting seventh lowest total odi cricket history', 'aegon life iterm insurance plan customers enjoy tax benefits premiums paid save taxes plan provides life cover age years also customers options insure critical illnesses disability accidental death benefit rider life cover age years', 'speaking sexual harassment allegations rajkumar hirani sonam kapoor said known hirani many years true metoo movement get derailed metoo movement always believe woman case need reserve judgment added hirani accused assistant worked sanju']\n"
     ]
    }
   ],
   "source": [
    "clean_text = []\n",
    "# 전체 Text 데이터에 대한 전처리 : 10분 이상 시간이 걸릴 수 있습니다. \n",
    "for s in data['Text']:\n",
    "    clean_text.append(preprocess_sentence(s))\n",
    "\n",
    "# 전처리 후 출력\n",
    "print(\"Text 전처리 후 결과: \", clean_text[:5])"
   ]
  },
  {
   "cell_type": "markdown",
   "id": "f1a7cf99",
   "metadata": {},
   "source": [
    "이제 Summary에 대해서 전처리 함수를 호출해 줄 때는, 불용어 제거를 수행하지 않는다는 의미에서 두 번째 인자로 False를 넣어줄게요."
   ]
  },
  {
   "cell_type": "code",
   "execution_count": 18,
   "id": "42b7aace",
   "metadata": {},
   "outputs": [
    {
     "name": "stdout",
     "output_type": "stream",
     "text": [
      "Summary 전처리 후 결과:  ['upgrad learner switches to career in ml al with salary hike', 'delhi techie wins free food from swiggy for one year on cred', 'new zealand end rohit sharma led india match winning streak', 'aegon life iterm insurance plan helps customers save tax', 'have known hirani for yrs what if metoo claims are not true sonam']\n"
     ]
    }
   ],
   "source": [
    "clean_summary = []\n",
    "# 전체 Summary 데이터에 대한 전처리 : 5분 이상 시간이 걸릴 수 있습니다. \n",
    "for s in data['Summary']:\n",
    "    clean_summary.append(preprocess_sentence(s, False))\n",
    "\n",
    "print(\"Summary 전처리 후 결과: \", clean_summary[:5])"
   ]
  },
  {
   "cell_type": "code",
   "execution_count": 19,
   "id": "7ef1ba34",
   "metadata": {},
   "outputs": [
    {
     "name": "stdout",
     "output_type": "stream",
     "text": [
      "=3\n"
     ]
    }
   ],
   "source": [
    "data['Text'] = clean_text\n",
    "data['Summary'] = clean_summary\n",
    "\n",
    "# 빈 값을 Null 값으로 변환\n",
    "data.replace('', np.nan, inplace=True)\n",
    "print('=3')"
   ]
  },
  {
   "cell_type": "code",
   "execution_count": 20,
   "id": "0e4bbc45",
   "metadata": {},
   "outputs": [
    {
     "data": {
      "text/plain": [
       "Summary    0\n",
       "Text       0\n",
       "dtype: int64"
      ]
     },
     "execution_count": 20,
     "metadata": {},
     "output_type": "execute_result"
    }
   ],
   "source": [
    "data.isnull().sum()"
   ]
  },
  {
   "cell_type": "markdown",
   "id": "bac2eecb",
   "metadata": {},
   "source": [
    "없으므로 넘어간다."
   ]
  },
  {
   "cell_type": "code",
   "execution_count": 21,
   "id": "2093f1a3",
   "metadata": {},
   "outputs": [
    {
     "name": "stdout",
     "output_type": "stream",
     "text": [
      "전체 샘플수 : 98360\n"
     ]
    }
   ],
   "source": [
    "# 결측치 제거\n",
    "data.dropna(axis=0, inplace=True)\n",
    "print('전체 샘플수 :', (len(data)))"
   ]
  },
  {
   "cell_type": "markdown",
   "id": "4afc269c",
   "metadata": {},
   "source": [
    "자연어 관련 전처리가 완료되었습니다"
   ]
  },
  {
   "cell_type": "markdown",
   "id": "5cf4b98a",
   "metadata": {},
   "source": [
    "# 샘플의 최대 길이 정하기\n",
    "필요 없는 단어를 모두 솎아낸 데이터를 가지게 되었으니, 이제 훈련에 사용할 샘플의 최대 길이를 정해줄 차례에요.\n",
    "\n",
    "Text와 Summary의 최소, 최대, 평균 길이를 구하고 또한 길이 분포를 시각화해서 볼게요."
   ]
  },
  {
   "cell_type": "code",
   "execution_count": 22,
   "id": "18bac582",
   "metadata": {},
   "outputs": [
    {
     "name": "stdout",
     "output_type": "stream",
     "text": [
      "텍스트의 최소 길이 : 1\n",
      "텍스트의 최대 길이 : 60\n",
      "텍스트의 평균 길이 : 35.09968483123221\n",
      "요약의 최소 길이 : 1\n",
      "요약의 최대 길이 : 16\n",
      "요약의 평균 길이 : 9.299532330215534\n"
     ]
    },
    {
     "data": {
      "image/png": "[encoded data removed]",
      "text/plain": [
       "<Figure size 432x288 with 2 Axes>"
      ]
     },
     "metadata": {
      "needs_background": "light"
     },
     "output_type": "display_data"
    },
    {
     "data": {
      "image/png": "[encoded data removed]",
      "text/plain": [
       "<Figure size 432x288 with 1 Axes>"
      ]
     },
     "metadata": {
      "needs_background": "light"
     },
     "output_type": "display_data"
    },
    {
     "data": {
      "image/png": "[encoded data removed]",
      "text/plain": [
       "<Figure size 432x288 with 1 Axes>"
      ]
     },
     "metadata": {
      "needs_background": "light"
     },
     "output_type": "display_data"
    }
   ],
   "source": [
    "# 길이 분포 출력\n",
    "import matplotlib.pyplot as plt\n",
    "\n",
    "text_len = [len(s.split()) for s in data['Text']]\n",
    "summary_len = [len(s.split()) for s in data['Summary']]\n",
    "\n",
    "print('텍스트의 최소 길이 : {}'.format(np.min(text_len)))\n",
    "print('텍스트의 최대 길이 : {}'.format(np.max(text_len)))\n",
    "print('텍스트의 평균 길이 : {}'.format(np.mean(text_len)))\n",
    "print('요약의 최소 길이 : {}'.format(np.min(summary_len)))\n",
    "print('요약의 최대 길이 : {}'.format(np.max(summary_len)))\n",
    "print('요약의 평균 길이 : {}'.format(np.mean(summary_len)))\n",
    "\n",
    "plt.subplot(1,2,1)\n",
    "plt.boxplot(text_len)\n",
    "plt.title('Text')\n",
    "plt.subplot(1,2,2)\n",
    "plt.boxplot(summary_len)\n",
    "plt.title('Summary')\n",
    "plt.tight_layout()\n",
    "plt.show()\n",
    "\n",
    "plt.title('Text')\n",
    "plt.hist(text_len, bins = 40)\n",
    "plt.xlabel('length of samples')\n",
    "plt.ylabel('number of samples')\n",
    "plt.show()\n",
    "\n",
    "plt.title('Summary')\n",
    "plt.hist(summary_len, bins = 40)\n",
    "plt.xlabel('length of samples')\n",
    "plt.ylabel('number of samples')\n",
    "plt.show()"
   ]
  },
  {
   "cell_type": "markdown",
   "id": "52fa8c0d",
   "metadata": {},
   "source": [
    "## 위에서부터 그래프의 의미는 차례대로 아래과 같다.\n",
    "\n",
    "* Summary 과 실제 Text 의 길이 분포\n",
    "* 요약본 샘플 길이별 개수\n",
    "* 실제 텍스트 샘플 길이별 개수\n",
    "* Text의 경우 최소 길이가 1, 최대 길이가 60으로 그 차이가 굉장히 크다. 하지만 평균 길이는 35로 시각화된 그래프로 봤을 때는 대체적으로는 50 내외의 길이를 가진다는 것을 확인 할 수 있다.\n",
    "\n",
    "Summary의 경우 최소 길이가 1, 최대 길이가 28, 그리고 평균 길이가 9로 Text에 비해 상대적으로 길이가 매우 짧다. 그래프로 봤을 때에도 대체적으로 11이하의 길이를 가지고 있다.\n",
    "\n",
    "이로부터 Text의 최대 길이와 Summary의 적절한 최대 길이를 임의로 정하자."
   ]
  },
  {
   "cell_type": "code",
   "execution_count": 23,
   "id": "9a930b00",
   "metadata": {},
   "outputs": [
    {
     "name": "stdout",
     "output_type": "stream",
     "text": [
      "=3\n"
     ]
    }
   ],
   "source": [
    "text_max_len = 50\n",
    "summary_max_len = 12\n",
    "print('=3')"
   ]
  },
  {
   "cell_type": "code",
   "execution_count": 24,
   "id": "d5087a8d",
   "metadata": {},
   "outputs": [
    {
     "name": "stdout",
     "output_type": "stream",
     "text": [
      "=3\n"
     ]
    }
   ],
   "source": [
    "def below_threshold_len(max_len, nested_list):\n",
    "  cnt = 0\n",
    "  for s in nested_list:\n",
    "    if(len(s.split()) <= max_len):\n",
    "        cnt = cnt + 1\n",
    "  print('전체 샘플 중 길이가 %s 이하인 샘플의 비율: %s'%(max_len, (cnt / len(nested_list))))\n",
    "print('=3')"
   ]
  },
  {
   "cell_type": "code",
   "execution_count": 25,
   "id": "95bbd54e",
   "metadata": {},
   "outputs": [],
   "source": [
    "# 최소, 최대 사이에 있는 샘플을 골라 냅니다.\n",
    "def bandpass_len(min_len, max_len, nested_list):\n",
    "    cnt = 0\n",
    "    for s in nested_list:\n",
    "        if(len(s.split()) <= max_len) and (len(s.split()) >= min_len):\n",
    "            cnt = cnt + 1\n",
    "    print(f'전체 샘플 중 길이가 {min_len} 이상,{max_len} 이하인 샘플의 비율:{cnt / len(nested_list)}')"
   ]
  },
  {
   "cell_type": "code",
   "execution_count": 26,
   "id": "d6bdaf6b",
   "metadata": {},
   "outputs": [
    {
     "name": "stdout",
     "output_type": "stream",
     "text": [
      "전체 샘플 중 길이가 50 이하인 샘플의 비율: 0.9998576657177715\n",
      "전체 샘플 중 길이가 12 이하인 샘플의 비율: 0.9880337535583571\n"
     ]
    }
   ],
   "source": [
    "below_threshold_len(text_max_len, data['Text'])\n",
    "below_threshold_len(summary_max_len,  data['Summary'])"
   ]
  },
  {
   "cell_type": "code",
   "execution_count": 27,
   "id": "62b43c6f",
   "metadata": {},
   "outputs": [
    {
     "name": "stdout",
     "output_type": "stream",
     "text": [
      "전체 샘플 중 길이가 1 이상,29 이하인 샘플의 비율:0.06987596583977226\n",
      "전체 샘플 중 길이가 1 이상,6 이하인 샘플의 비율:0.019662464416429444\n"
     ]
    }
   ],
   "source": [
    "bandpass_len(1,29, data['Text'])\n",
    "bandpass_len(1,6,data['Summary'])"
   ]
  },
  {
   "cell_type": "code",
   "execution_count": 28,
   "id": "b1f8a338",
   "metadata": {},
   "outputs": [
    {
     "name": "stdout",
     "output_type": "stream",
     "text": [
      "전체 샘플 중 길이가 30 이상,50 이하인 샘플의 비율:0.9299816998779992\n",
      "전체 샘플 중 길이가 7 이상,12 이하인 샘플의 비율:0.9683712891419276\n"
     ]
    }
   ],
   "source": [
    "bandpass_len(30,50, data['Text'])\n",
    "bandpass_len(7,12,data['Summary'])"
   ]
  },
  {
   "cell_type": "markdown",
   "id": "ab61d5a3",
   "metadata": {},
   "source": [
    "텍스트 비율은 30이상 50이하 이렇게 쓰기로했다.\n",
    "요약은 7이상 12이하로 하겠다."
   ]
  },
  {
   "cell_type": "code",
   "execution_count": 29,
   "id": "071f1e57",
   "metadata": {},
   "outputs": [],
   "source": [
    "text_max_len = 46; text_min_len = 30"
   ]
  },
  {
   "cell_type": "code",
   "execution_count": 30,
   "id": "f3e54918",
   "metadata": {},
   "outputs": [],
   "source": [
    "data = data[data['Text'].apply(lambda x: len(x.split()) <= text_max_len \\\n",
    "            and len(x.split()) >= text_min_len)]"
   ]
  },
  {
   "cell_type": "code",
   "execution_count": 31,
   "id": "dff988e1",
   "metadata": {},
   "outputs": [
    {
     "name": "stdout",
     "output_type": "stream",
     "text": [
      "전체 샘플수 : 90280\n"
     ]
    }
   ],
   "source": [
    "data = data[data['Text'].apply(lambda x: len(x.split()) <= text_max_len)]\n",
    "data = data[data['Summary'].apply(lambda x: len(x.split()) <= summary_max_len)]\n",
    "print('전체 샘플수 :', (len(data)))"
   ]
  },
  {
   "cell_type": "code",
   "execution_count": 32,
   "id": "757b6fdc",
   "metadata": {},
   "outputs": [],
   "source": [
    "summary_max_len = 13; summary_min_len = 7"
   ]
  },
  {
   "cell_type": "code",
   "execution_count": 33,
   "id": "7aea83fe",
   "metadata": {},
   "outputs": [],
   "source": [
    "data = data[data['Summary'].apply(lambda x: len(x.split()) <= summary_max_len \\\n",
    "            and len(x.split()) >= summary_min_len)]"
   ]
  },
  {
   "cell_type": "code",
   "execution_count": 34,
   "id": "b96d7764",
   "metadata": {},
   "outputs": [
    {
     "name": "stdout",
     "output_type": "stream",
     "text": [
      "전체 샘플수 : 88510\n"
     ]
    }
   ],
   "source": [
    "data\n",
    "print('전체 샘플수 :', (len(data)))"
   ]
  },
  {
   "cell_type": "code",
   "execution_count": 35,
   "id": "362cc28a",
   "metadata": {},
   "outputs": [
    {
     "data": {
      "text/html": [
       "<div>\n",
       "<style scoped>\n",
       "    .dataframe tbody tr th:only-of-type {\n",
       "        vertical-align: middle;\n",
       "    }\n",
       "\n",
       "    .dataframe tbody tr th {\n",
       "        vertical-align: top;\n",
       "    }\n",
       "\n",
       "    .dataframe thead th {\n",
       "        text-align: right;\n",
       "    }\n",
       "</style>\n",
       "<table border=\"1\" class=\"dataframe\">\n",
       "  <thead>\n",
       "    <tr style=\"text-align: right;\">\n",
       "      <th></th>\n",
       "      <th>Summary</th>\n",
       "      <th>Text</th>\n",
       "      <th>decoder_input</th>\n",
       "      <th>decoder_target</th>\n",
       "    </tr>\n",
       "  </thead>\n",
       "  <tbody>\n",
       "    <tr>\n",
       "      <th>0</th>\n",
       "      <td>upgrad learner switches to career in ml al wit...</td>\n",
       "      <td>saurav kant alumnus upgrad iiit pg program mac...</td>\n",
       "      <td>sostoken upgrad learner switches to career in ...</td>\n",
       "      <td>upgrad learner switches to career in ml al wit...</td>\n",
       "    </tr>\n",
       "    <tr>\n",
       "      <th>1</th>\n",
       "      <td>delhi techie wins free food from swiggy for on...</td>\n",
       "      <td>kunal shah credit card bill payment platform c...</td>\n",
       "      <td>sostoken delhi techie wins free food from swig...</td>\n",
       "      <td>delhi techie wins free food from swiggy for on...</td>\n",
       "    </tr>\n",
       "    <tr>\n",
       "      <th>2</th>\n",
       "      <td>new zealand end rohit sharma led india match w...</td>\n",
       "      <td>new zealand defeated india wickets fourth odi ...</td>\n",
       "      <td>sostoken new zealand end rohit sharma led indi...</td>\n",
       "      <td>new zealand end rohit sharma led india match w...</td>\n",
       "    </tr>\n",
       "    <tr>\n",
       "      <th>3</th>\n",
       "      <td>aegon life iterm insurance plan helps customer...</td>\n",
       "      <td>aegon life iterm insurance plan customers enjo...</td>\n",
       "      <td>sostoken aegon life iterm insurance plan helps...</td>\n",
       "      <td>aegon life iterm insurance plan helps customer...</td>\n",
       "    </tr>\n",
       "    <tr>\n",
       "      <th>5</th>\n",
       "      <td>rahat fateh ali khan denies getting notice for...</td>\n",
       "      <td>pakistani singer rahat fateh ali khan denied r...</td>\n",
       "      <td>sostoken rahat fateh ali khan denies getting n...</td>\n",
       "      <td>rahat fateh ali khan denies getting notice for...</td>\n",
       "    </tr>\n",
       "  </tbody>\n",
       "</table>\n",
       "</div>"
      ],
      "text/plain": [
       "                                             Summary  \\\n",
       "0  upgrad learner switches to career in ml al wit...   \n",
       "1  delhi techie wins free food from swiggy for on...   \n",
       "2  new zealand end rohit sharma led india match w...   \n",
       "3  aegon life iterm insurance plan helps customer...   \n",
       "5  rahat fateh ali khan denies getting notice for...   \n",
       "\n",
       "                                                Text  \\\n",
       "0  saurav kant alumnus upgrad iiit pg program mac...   \n",
       "1  kunal shah credit card bill payment platform c...   \n",
       "2  new zealand defeated india wickets fourth odi ...   \n",
       "3  aegon life iterm insurance plan customers enjo...   \n",
       "5  pakistani singer rahat fateh ali khan denied r...   \n",
       "\n",
       "                                       decoder_input  \\\n",
       "0  sostoken upgrad learner switches to career in ...   \n",
       "1  sostoken delhi techie wins free food from swig...   \n",
       "2  sostoken new zealand end rohit sharma led indi...   \n",
       "3  sostoken aegon life iterm insurance plan helps...   \n",
       "5  sostoken rahat fateh ali khan denies getting n...   \n",
       "\n",
       "                                      decoder_target  \n",
       "0  upgrad learner switches to career in ml al wit...  \n",
       "1  delhi techie wins free food from swiggy for on...  \n",
       "2  new zealand end rohit sharma led india match w...  \n",
       "3  aegon life iterm insurance plan helps customer...  \n",
       "5  rahat fateh ali khan denies getting notice for...  "
      ]
     },
     "execution_count": 35,
     "metadata": {},
     "output_type": "execute_result"
    }
   ],
   "source": [
    "# 요약 데이터에는 시작 토큰과 종료 토큰을 추가\n",
    "data['decoder_input'] = data['Summary'].apply(lambda x : 'sostoken '+ x)\n",
    "data['decoder_target'] = data['Summary'].apply(lambda x : x + ' eostoken')\n",
    "data.head()"
   ]
  },
  {
   "cell_type": "code",
   "execution_count": 36,
   "id": "88478ba2",
   "metadata": {},
   "outputs": [],
   "source": [
    "# 인코더의 입력, 디코더의 입력과 레이블을 각각 다시 Numpy 타입으로 저장 \n",
    "encoder_input = np.array(data['Text']) # 인코더의 입력\n",
    "decoder_input = np.array(data['decoder_input']) # 디코더의 입력\n",
    "decoder_target = np.array(data['decoder_target']) # 디코더의 레이블"
   ]
  },
  {
   "cell_type": "markdown",
   "id": "bfd86fe3",
   "metadata": {},
   "source": [
    "## 랜덤 섞기"
   ]
  },
  {
   "cell_type": "code",
   "execution_count": 37,
   "id": "430a758e",
   "metadata": {},
   "outputs": [
    {
     "name": "stdout",
     "output_type": "stream",
     "text": [
      "[16288 10392 69445 ... 71375 18913 11991]\n"
     ]
    }
   ],
   "source": [
    "indices = np.arange(encoder_input.shape[0])\n",
    "np.random.shuffle(indices)\n",
    "print(indices)"
   ]
  },
  {
   "cell_type": "code",
   "execution_count": 38,
   "id": "1604731a",
   "metadata": {},
   "outputs": [
    {
     "name": "stdout",
     "output_type": "stream",
     "text": [
      "=3\n"
     ]
    }
   ],
   "source": [
    "encoder_input = encoder_input[indices]\n",
    "decoder_input = decoder_input[indices]\n",
    "decoder_target = decoder_target[indices]\n",
    "print('=3')"
   ]
  },
  {
   "cell_type": "markdown",
   "id": "7cf3af58",
   "metadata": {},
   "source": [
    "## 훈련데이터 테스트 데이터 분리"
   ]
  },
  {
   "cell_type": "code",
   "execution_count": 39,
   "id": "7701fb5d",
   "metadata": {},
   "outputs": [
    {
     "name": "stdout",
     "output_type": "stream",
     "text": [
      "테스트 데이터의 수 : 17702\n"
     ]
    }
   ],
   "source": [
    "n_of_val = int(len(encoder_input)*0.2)\n",
    "print('테스트 데이터의 수 :', n_of_val)"
   ]
  },
  {
   "cell_type": "code",
   "execution_count": 40,
   "id": "0b022476",
   "metadata": {},
   "outputs": [
    {
     "name": "stdout",
     "output_type": "stream",
     "text": [
      "훈련 데이터의 개수 : 70808\n",
      "훈련 레이블의 개수 : 70808\n",
      "테스트 데이터의 개수 : 17702\n",
      "테스트 레이블의 개수 : 17702\n"
     ]
    }
   ],
   "source": [
    "encoder_input_train = encoder_input[:-n_of_val]\n",
    "decoder_input_train = decoder_input[:-n_of_val]\n",
    "decoder_target_train = decoder_target[:-n_of_val]\n",
    "\n",
    "encoder_input_test = encoder_input[-n_of_val:]\n",
    "decoder_input_test = decoder_input[-n_of_val:]\n",
    "decoder_target_test = decoder_target[-n_of_val:]\n",
    "\n",
    "print('훈련 데이터의 개수 :', len(encoder_input_train))\n",
    "print('훈련 레이블의 개수 :', len(decoder_input_train))\n",
    "print('테스트 데이터의 개수 :', len(encoder_input_test))\n",
    "print('테스트 레이블의 개수 :', len(decoder_input_test))"
   ]
  },
  {
   "cell_type": "markdown",
   "id": "8e281b4e",
   "metadata": {},
   "source": [
    "# 데이터 전처리 - 정수 인코딩\n",
    "## 단어 집합(vocabulary) 만들기 및 정수 인코딩\n",
    "기계가 텍스트를 숫자로 처리할 수 있도록 훈련 데이터와 테스트 데이터의 단어들을 고유한 정수로 맵핑하는 적업이 필요하다. 이 과정을 단어 집합(vocabulary) 을 만든다고 표현한다.\n",
    "\n",
    "Keras의 토크나이저를 사용하면, 입력된 훈련 데이터로부터 단어 집합을 만들 수 있다."
   ]
  },
  {
   "cell_type": "code",
   "execution_count": 41,
   "id": "60ebcef6",
   "metadata": {},
   "outputs": [],
   "source": [
    "src_tokenizer = Tokenizer() # 토크나이저 정의\n",
    "src_tokenizer.fit_on_texts(encoder_input_train) # 입력된 데이터로부터 단어 집합 생성"
   ]
  },
  {
   "cell_type": "markdown",
   "id": "9a445316",
   "metadata": {},
   "source": [
    "현재 생성된 단어 집합은 ```src_tokenizer.word_index``` 에 저장되어 있다.\n",
    "\n",
    "만든 단어 집합에 있는 모든 단어를 사용하는 것이 아니라, 빈도수가 낮은 단어들은 훈련 데이터에서 제외한다.\n",
    "\n",
    "```src_tokenizer.word_counts.items()``` 를 사용하여 등장 빈도수가 7회 미만인 단어들이 이 데이터에서 얼만큼의 비중을 차지하는지 확인해보자."
   ]
  },
  {
   "cell_type": "code",
   "execution_count": 42,
   "id": "7b82afde",
   "metadata": {},
   "outputs": [
    {
     "name": "stdout",
     "output_type": "stream",
     "text": [
      "단어 집합(vocabulary)의 크기 : 67099\n",
      "등장 빈도가 6번 이하인 희귀 단어의 수: 45823\n",
      "단어 집합에서 희귀 단어를 제외시킬 경우의 단어 집합의 크기 21276\n",
      "단어 집합에서 희귀 단어의 비율: 68.29162878731427\n",
      "전체 등장 빈도에서 희귀 단어 등장 빈도 비율: 3.692618409350681\n"
     ]
    }
   ],
   "source": [
    "threshold = 7\n",
    "total_cnt = len(src_tokenizer.word_index) # 단어의 수\n",
    "rare_cnt = 0 # 등장 빈도수가 threshold보다 작은 단어의 개수를 카운트\n",
    "total_freq = 0 # 훈련 데이터의 전체 단어 빈도수 총 합\n",
    "rare_freq = 0 # 등장 빈도수가 threshold보다 작은 단어의 등장 빈도수의 총 합\n",
    "\n",
    "# 단어와 빈도수의 쌍(pair)을 key와 value로 받는다.\n",
    "for key, value in src_tokenizer.word_counts.items():\n",
    "    total_freq = total_freq + value\n",
    "\n",
    "    # 단어의 등장 빈도수가 threshold보다 작으면\n",
    "    if(value < threshold):\n",
    "        rare_cnt = rare_cnt + 1\n",
    "        rare_freq = rare_freq + value\n",
    "\n",
    "print('단어 집합(vocabulary)의 크기 :', total_cnt)\n",
    "print('등장 빈도가 %s번 이하인 희귀 단어의 수: %s'%(threshold - 1, rare_cnt))\n",
    "print('단어 집합에서 희귀 단어를 제외시킬 경우의 단어 집합의 크기 %s'%(total_cnt - rare_cnt))\n",
    "print(\"단어 집합에서 희귀 단어의 비율:\", (rare_cnt / total_cnt)*100)\n",
    "print(\"전체 등장 빈도에서 희귀 단어 등장 빈도 비율:\", (rare_freq / total_freq)*100)"
   ]
  },
  {
   "cell_type": "markdown",
   "id": "773b36cb",
   "metadata": {},
   "source": [
    "* 등장 빈도가 threshold 값인 7회 미만, 즉, 6회 이하인 단어들은 단어 집합에서 무려 68% 이상을 차지함.\n",
    "* 하지만, 실제로 훈련 데이터에서 등장 빈도로 차지하는 비중은 상대적으로 적은 수치인 3.68%밖에 되지 않음.\n",
    "* 그래서 등장 빈도가 6회 이하인 단어들은 정수 인코딩 과정에서 빼고, 훈련 데이터에서 제거한다.\n",
    "\n",
    "* 위에서 이를 제외한 단어 집합의 크기를 8천여 개로 계산했는데, 이와 비슷한 값으로 어림잡아 단어 집합의 크기를 21,000으로 제한한다."
   ]
  },
  {
   "cell_type": "code",
   "execution_count": 43,
   "id": "f7f17668",
   "metadata": {},
   "outputs": [],
   "source": [
    "src_vocab = 21000\n",
    "src_tokenizer = Tokenizer(num_words=src_vocab) # 단어 집합의 크기를 12,000으로 제한\n",
    "src_tokenizer.fit_on_texts(encoder_input_train) # 단어 집합 재생성."
   ]
  },
  {
   "cell_type": "markdown",
   "id": "a9d9d2c5",
   "metadata": {},
   "source": [
    "texts_to_sequences()는 생성된 단어 집합에 기반하여 입력으로 주어진 텍스트 데이터의 단어들을 모두 정수로 변환하는 정수 인코딩을 수행한다.\n",
    "\n",
    "현재 단어 집합의 크기를 12,000으로 제한했으니까 이제 12,000이 넘는 숫자들은 정수 인코딩 후에는 데이터에 존재하지 않는다"
   ]
  },
  {
   "cell_type": "code",
   "execution_count": 44,
   "id": "80777afd",
   "metadata": {},
   "outputs": [
    {
     "name": "stdout",
     "output_type": "stream",
     "text": [
      "[104, 840, 358, 2199, 801, 609, 8348, 686, 7153, 6317, 1575, 5206, 11, 314, 55, 2199, 801, 277, 16791, 14156, 609, 8348, 370, 1495, 1852]\n"
     ]
    }
   ],
   "source": [
    "# 텍스트 시퀀스를 정수 시퀀스로 변환\n",
    "encoder_input_train = src_tokenizer.texts_to_sequences(encoder_input_train) \n",
    "encoder_input_test = src_tokenizer.texts_to_sequences(encoder_input_test)\n",
    "\n",
    "# 잘 진행되었는지 샘플 출력\n",
    "print(encoder_input_train[0])"
   ]
  },
  {
   "cell_type": "code",
   "execution_count": 45,
   "id": "1e0d6dd6",
   "metadata": {},
   "outputs": [],
   "source": [
    "# 전체 단어 집합과 각 단어에 대한 빈도수를 계산\n",
    "tar_tokenizer = Tokenizer()\n",
    "tar_tokenizer.fit_on_texts(decoder_input_train)"
   ]
  },
  {
   "cell_type": "code",
   "execution_count": 46,
   "id": "612dd51f",
   "metadata": {},
   "outputs": [
    {
     "name": "stdout",
     "output_type": "stream",
     "text": [
      "단어 집합(vocabulary)의 크기 : 29058\n",
      "등장 빈도가 5번 이하인 희귀 단어의 수: 19175\n",
      "단어 집합에서 희귀 단어를 제외시킬 경우의 단어 집합의 크기 9883\n",
      "단어 집합에서 희귀 단어의 비율: 65.98871223071099\n",
      "전체 등장 빈도에서 희귀 단어 등장 빈도 비율: 5.011720440118958\n"
     ]
    }
   ],
   "source": [
    "# 등장 빈도수가 6회 미만인 단어들이 이 데이터에서 얼만큼의 비중을 차지하는지 확인\n",
    "threshold = 6\n",
    "total_cnt = len(tar_tokenizer.word_index) # 단어의 수\n",
    "rare_cnt = 0 # 등장 빈도수가 threshold보다 작은 단어의 개수를 카운트\n",
    "total_freq = 0 # 훈련 데이터의 전체 단어 빈도수 총 합\n",
    "rare_freq = 0 # 등장 빈도수가 threshold보다 작은 단어의 등장 빈도수의 총 합\n",
    "\n",
    "# 단어와 빈도수의 쌍(pair)을 key와 value로 받는다.\n",
    "for key, value in tar_tokenizer.word_counts.items():\n",
    "    total_freq = total_freq + value\n",
    "\n",
    "    # 단어의 등장 빈도수가 threshold보다 작으면\n",
    "    if(value < threshold):\n",
    "        rare_cnt = rare_cnt + 1\n",
    "        rare_freq = rare_freq + value\n",
    "\n",
    "print('단어 집합(vocabulary)의 크기 :', total_cnt)\n",
    "print('등장 빈도가 %s번 이하인 희귀 단어의 수: %s'%(threshold - 1, rare_cnt))\n",
    "print('단어 집합에서 희귀 단어를 제외시킬 경우의 단어 집합의 크기 %s'%(total_cnt - rare_cnt))\n",
    "print(\"단어 집합에서 희귀 단어의 비율:\", (rare_cnt / total_cnt)*100)\n",
    "print(\"전체 등장 빈도에서 희귀 단어 등장 빈도 비율:\", (rare_freq / total_freq)*100)"
   ]
  },
  {
   "cell_type": "code",
   "execution_count": 47,
   "id": "0101a70b",
   "metadata": {},
   "outputs": [
    {
     "name": "stdout",
     "output_type": "stream",
     "text": [
      "input\n",
      "input  [[1, 57, 369, 1194, 1497, 3, 75, 652, 5, 731], [1, 145, 1902, 711, 17, 3, 794, 66, 3648, 795], [1, 29, 69, 91, 1044, 145, 93, 123, 7, 1355, 2213], [1, 7237, 186, 12, 50, 3, 2634, 1023, 704, 73], [1, 63, 6466, 213, 22, 5, 1195, 60, 3, 5315]]\n",
      "target\n",
      "decoder  [[57, 369, 1194, 1497, 3, 75, 652, 5, 731, 2], [145, 1902, 711, 17, 3, 794, 66, 3648, 795, 2], [29, 69, 91, 1044, 145, 93, 123, 7, 1355, 2213, 2], [7237, 186, 12, 50, 3, 2634, 1023, 704, 73, 2], [63, 6466, 213, 22, 5, 1195, 60, 3, 5315, 2]]\n"
     ]
    }
   ],
   "source": [
    "# 5,000을 단어 집합의 크기로 제한\n",
    "tar_vocab = 9400\n",
    "tar_tokenizer = Tokenizer(num_words=tar_vocab) \n",
    "tar_tokenizer.fit_on_texts(decoder_input_train)\n",
    "tar_tokenizer.fit_on_texts(decoder_target_train)\n",
    "\n",
    "# 텍스트 시퀀스를 정수 시퀀스로 변환\n",
    "decoder_input_train = tar_tokenizer.texts_to_sequences(decoder_input_train) \n",
    "decoder_target_train = tar_tokenizer.texts_to_sequences(decoder_target_train)\n",
    "decoder_input_test = tar_tokenizer.texts_to_sequences(decoder_input_test)\n",
    "decoder_target_test = tar_tokenizer.texts_to_sequences(decoder_target_test)\n",
    "\n",
    "# 잘 변환되었는지 확인\n",
    "print('input')\n",
    "print('input ',decoder_input_train[:5])\n",
    "print('target')\n",
    "print('decoder ',decoder_target_train[:5])"
   ]
  },
  {
   "cell_type": "markdown",
   "id": "c1d8f6f8",
   "metadata": {},
   "source": [
    "전체 데이터에서 빈도수가 낮은 단어가 삭제되었다는 것은 빈도수가 낮은 단어만으로 구성되었던 샘플들은 이제 빈(empty) 샘플이 되었을 가능성이 있다.\n",
    "\n",
    "```decoder_input```에는 ```sostoken``` 또는 ```decoder_target```에는 ```eostoken```이 추가된 상태이므로 길이가 0이 된 요악문의 실제 길이는 1로 나올 것이다.\n",
    "\n",
    "훈련 데이터와 테스트 데이터에 대해서 요약문의 길이가 1인 경우의 인덱스를 각각 ```drop_train```과 ```drop_test```에 라는 변수에 저장하고 샘플들은 모두 삭제한다."
   ]
  },
  {
   "cell_type": "code",
   "execution_count": 48,
   "id": "adbf2141",
   "metadata": {},
   "outputs": [
    {
     "name": "stdout",
     "output_type": "stream",
     "text": [
      "삭제할 훈련 데이터의 개수 : 0\n",
      "삭제할 테스트 데이터의 개수 : 0\n",
      "훈련 데이터의 개수 : 70808\n",
      "훈련 레이블의 개수 : 70808\n",
      "테스트 데이터의 개수 : 17702\n",
      "테스트 레이블의 개수 : 17702\n"
     ]
    }
   ],
   "source": [
    "drop_train = [index for index, sentence in enumerate(decoder_input_train) if len(sentence) == 1]\n",
    "drop_test = [index for index, sentence in enumerate(decoder_input_test) if len(sentence) == 1]\n",
    "\n",
    "print('삭제할 훈련 데이터의 개수 :', len(drop_train))\n",
    "print('삭제할 테스트 데이터의 개수 :', len(drop_test))\n",
    "\n",
    "encoder_input_train = np.delete(encoder_input_train, drop_train, axis=0)\n",
    "decoder_input_train = np.delete(decoder_input_train, drop_train, axis=0)\n",
    "decoder_target_train = np.delete(decoder_target_train, drop_train, axis=0)\n",
    "\n",
    "encoder_input_test = np.delete(encoder_input_test, drop_test, axis=0)\n",
    "decoder_input_test = np.delete(decoder_input_test, drop_test, axis=0)\n",
    "decoder_target_test = np.delete(decoder_target_test, drop_test, axis=0)\n",
    "\n",
    "print('훈련 데이터의 개수 :', len(encoder_input_train))\n",
    "print('훈련 레이블의 개수 :', len(decoder_input_train))\n",
    "print('테스트 데이터의 개수 :', len(encoder_input_test))\n",
    "print('테스트 레이블의 개수 :', len(decoder_input_test))"
   ]
  },
  {
   "cell_type": "markdown",
   "id": "106cdbe7",
   "metadata": {},
   "source": [
    "겹치는게 없다."
   ]
  },
  {
   "cell_type": "markdown",
   "id": "c18deada",
   "metadata": {},
   "source": [
    "## 패딩하기\n",
    "최대 길이보다 짧은 데이터들은 뒤의 공간에 숫자 0을 넣어 아까 정해두었던 최대 길이로 길이를 맞춘다."
   ]
  },
  {
   "cell_type": "code",
   "execution_count": 49,
   "id": "481667e1",
   "metadata": {},
   "outputs": [],
   "source": [
    "encoder_input_train = pad_sequences(encoder_input_train, maxlen=text_max_len, padding='post')\n",
    "encoder_input_test = pad_sequences(encoder_input_test, maxlen=text_max_len, padding='post')\n",
    "decoder_input_train = pad_sequences(decoder_input_train, maxlen=summary_max_len, padding='post')\n",
    "decoder_target_train = pad_sequences(decoder_target_train, maxlen=summary_max_len, padding='post')\n",
    "decoder_input_test = pad_sequences(decoder_input_test, maxlen=summary_max_len, padding='post')\n",
    "decoder_target_test = pad_sequences(decoder_target_test, maxlen=summary_max_len, padding='post')"
   ]
  },
  {
   "cell_type": "markdown",
   "id": "0df41f0d",
   "metadata": {},
   "source": [
    "# 모델 설계\n",
    "함수형 API 를 이용해서 인코더를 설계한다."
   ]
  },
  {
   "cell_type": "code",
   "execution_count": 50,
   "id": "f7969869",
   "metadata": {},
   "outputs": [],
   "source": [
    "from tensorflow.keras.layers import Input, LSTM, Embedding, Dense, Concatenate\n",
    "from tensorflow.keras.models import Model\n",
    "from tensorflow.keras.callbacks import EarlyStopping, ModelCheckpoint\n",
    "\n",
    "\n",
    "# 인코더 설계 시작\n",
    "embedding_dim = 128\n",
    "hidden_size = 256\n",
    "\n",
    "# 인코더\n",
    "encoder_inputs = Input(shape=(text_max_len,))\n",
    "\n",
    "# 인코더의 임베딩 층\n",
    "enc_emb = Embedding(src_vocab, embedding_dim)(encoder_inputs)\n",
    "\n",
    "#인코더의 LSTM 1\n",
    "encoder_lstm1 = LSTM(hidden_size, return_sequences=True, return_state=True ,dropout = 0.4 )\n",
    "encoder_output1, state_h1, state_c1 = encoder_lstm1(enc_emb)\n",
    "\n",
    "# 인코더의 LSTM 2\n",
    "encoder_lstm2 = LSTM(hidden_size, return_sequences=True, return_state=True, dropout=0.4)\n",
    "encoder_output2, state_h2, state_c2 = encoder_lstm2(encoder_output1)\n",
    "\n",
    "# 인코더의 LSTM 3\n",
    "encoder_lstm3 = LSTM(hidden_size, return_state=True, return_sequences=True, dropout=0.4)\n",
    "encoder_outputs, state_h, state_c= encoder_lstm3(encoder_output2)\n",
    "\n",
    "# # 인코더의 LSTM 1\n",
    "# encoder_lstm1 = LSTM(hidden_size, return_sequences=True, return_state=True ,dropout = 0.4, recurrent_dropout = 0.4)\n",
    "# encoder_output1, state_h1, state_c1 = encoder_lstm1(enc_emb)\n",
    "\n",
    "# # 인코더의 LSTM 2\n",
    "# encoder_lstm2 = LSTM(hidden_size, return_sequences=True, return_state=True, dropout=0.4, recurrent_dropout=0.4)\n",
    "# encoder_output2, state_h2, state_c2 = encoder_lstm2(encoder_output1)\n",
    "\n",
    "# # 인코더의 LSTM 3\n",
    "# encoder_lstm3 = LSTM(hidden_size, return_state=True, return_sequences=True, dropout=0.4, recurrent_dropout=0.4)\n",
    "# encoder_outputs, state_h, state_c= encoder_lstm3(encoder_output2)"
   ]
  },
  {
   "cell_type": "markdown",
   "id": "e4763f60",
   "metadata": {},
   "source": [
    "인코더의 LSTM은 총 3개의 층으로 구성해서 모델의 복잡도를 높였다. 3개의 층을 지나서 인코더로부터 나온 출력 벡터는 디코더로 보내야한다."
   ]
  },
  {
   "cell_type": "code",
   "execution_count": 51,
   "id": "d348102e",
   "metadata": {},
   "outputs": [],
   "source": [
    "# 디코더 설계\n",
    "decoder_inputs = Input(shape=(None,))\n",
    "\n",
    "# 디코더의 임베딩 층\n",
    "dec_emb_layer = Embedding(tar_vocab, embedding_dim)\n",
    "dec_emb = dec_emb_layer(decoder_inputs)\n",
    "\n",
    "# 디코더의 LSTM\n",
    "decoder_lstm = LSTM(hidden_size, return_sequences=True, return_state=True, dropout=0.4)\n",
    "decoder_outputs, _, _ = decoder_lstm(dec_emb, initial_state=[state_h, state_c])\n",
    "\n",
    "# decoder_lstm = LSTM(hidden_size, return_sequences=True, return_state=True, dropout=0.4, recurrent_dropout=0.2)\n",
    "# decoder_outputs, _, _ = decoder_lstm(dec_emb, initial_state=[state_h, state_c])"
   ]
  },
  {
   "cell_type": "markdown",
   "id": "cc3b928c",
   "metadata": {},
   "source": [
    "디코더의 임베딩 층과 LSTM을 설계하는 것은 인코더와 거의 동일하다.\n",
    "\n",
    "하지만 LSTM의 입력을 정의할 때, ```initial_state```의 인자값으로 인코더의 hidden state와 cell state의 값을 넣어줘야한다."
   ]
  },
  {
   "cell_type": "code",
   "execution_count": 52,
   "id": "643c0789",
   "metadata": {},
   "outputs": [
    {
     "name": "stdout",
     "output_type": "stream",
     "text": [
      "Model: \"model\"\n",
      "__________________________________________________________________________________________________\n",
      "Layer (type)                    Output Shape         Param #     Connected to                     \n",
      "==================================================================================================\n",
      "input_1 (InputLayer)            [(None, 46)]         0                                            \n",
      "__________________________________________________________________________________________________\n",
      "embedding (Embedding)           (None, 46, 128)      2688000     input_1[0][0]                    \n",
      "__________________________________________________________________________________________________\n",
      "lstm (LSTM)                     [(None, 46, 256), (N 394240      embedding[0][0]                  \n",
      "__________________________________________________________________________________________________\n",
      "input_2 (InputLayer)            [(None, None)]       0                                            \n",
      "__________________________________________________________________________________________________\n",
      "lstm_1 (LSTM)                   [(None, 46, 256), (N 525312      lstm[0][0]                       \n",
      "__________________________________________________________________________________________________\n",
      "embedding_1 (Embedding)         (None, None, 128)    1203200     input_2[0][0]                    \n",
      "__________________________________________________________________________________________________\n",
      "lstm_2 (LSTM)                   [(None, 46, 256), (N 525312      lstm_1[0][0]                     \n",
      "__________________________________________________________________________________________________\n",
      "lstm_3 (LSTM)                   [(None, None, 256),  394240      embedding_1[0][0]                \n",
      "                                                                 lstm_2[0][1]                     \n",
      "                                                                 lstm_2[0][2]                     \n",
      "__________________________________________________________________________________________________\n",
      "dense (Dense)                   (None, None, 9400)   2415800     lstm_3[0][0]                     \n",
      "==================================================================================================\n",
      "Total params: 8,146,104\n",
      "Trainable params: 8,146,104\n",
      "Non-trainable params: 0\n",
      "__________________________________________________________________________________________________\n"
     ]
    }
   ],
   "source": [
    "# 디코더의 출력층 설계\n",
    "decoder_softmax_layer = Dense(tar_vocab, activation='softmax')\n",
    "decoder_softmax_outputs = decoder_softmax_layer(decoder_outputs) \n",
    "\n",
    "# 모델 정의\n",
    "model = Model([encoder_inputs, decoder_inputs], decoder_softmax_outputs)\n",
    "model.summary()"
   ]
  },
  {
   "cell_type": "markdown",
   "id": "ddcef66e",
   "metadata": {},
   "source": [
    "# 어텐션 메커니즘\n",
    "지금까지 설계한 것은 인코더의 hidden state와 cell state를 디코더의 초기 state로 사용하는 가장 기본적인 seq2seq 이다.\n",
    "\n",
    "디코더의 출력층의 설계를 수정해서 성능을 높일 수 있는 방법인 어텐션 메커니즘을 사용해보자.\n",
    "\n",
    "깃허브에 공개되어있는 어텐션 함수를 다운로드하자."
   ]
  },
  {
   "cell_type": "code",
   "execution_count": 53,
   "id": "b9b77148",
   "metadata": {},
   "outputs": [],
   "source": [
    "#urllib.request.urlretrieve(\"https://raw.githubusercontent.com/thushv89/attention_keras/master/src/layers/attention.py\", filename=\"attention.py\")\n",
    "# from attention import AttentionLayer"
   ]
  },
  {
   "cell_type": "code",
   "execution_count": 54,
   "id": "86a6273f",
   "metadata": {},
   "outputs": [
    {
     "name": "stdout",
     "output_type": "stream",
     "text": [
      "Model: \"model_1\"\n",
      "__________________________________________________________________________________________________\n",
      "Layer (type)                    Output Shape         Param #     Connected to                     \n",
      "==================================================================================================\n",
      "input_1 (InputLayer)            [(None, 46)]         0                                            \n",
      "__________________________________________________________________________________________________\n",
      "embedding (Embedding)           (None, 46, 128)      2688000     input_1[0][0]                    \n",
      "__________________________________________________________________________________________________\n",
      "lstm (LSTM)                     [(None, 46, 256), (N 394240      embedding[0][0]                  \n",
      "__________________________________________________________________________________________________\n",
      "input_2 (InputLayer)            [(None, None)]       0                                            \n",
      "__________________________________________________________________________________________________\n",
      "lstm_1 (LSTM)                   [(None, 46, 256), (N 525312      lstm[0][0]                       \n",
      "__________________________________________________________________________________________________\n",
      "embedding_1 (Embedding)         (None, None, 128)    1203200     input_2[0][0]                    \n",
      "__________________________________________________________________________________________________\n",
      "lstm_2 (LSTM)                   [(None, 46, 256), (N 525312      lstm_1[0][0]                     \n",
      "__________________________________________________________________________________________________\n",
      "lstm_3 (LSTM)                   [(None, None, 256),  394240      embedding_1[0][0]                \n",
      "                                                                 lstm_2[0][1]                     \n",
      "                                                                 lstm_2[0][2]                     \n",
      "__________________________________________________________________________________________________\n",
      "attention_layer (AdditiveAttent (None, None, 256)    256         lstm_3[0][0]                     \n",
      "                                                                 lstm_2[0][0]                     \n",
      "__________________________________________________________________________________________________\n",
      "concat_layer (Concatenate)      (None, None, 512)    0           lstm_3[0][0]                     \n",
      "                                                                 attention_layer[0][0]            \n",
      "__________________________________________________________________________________________________\n",
      "dense_1 (Dense)                 (None, None, 9400)   4822200     concat_layer[0][0]               \n",
      "==================================================================================================\n",
      "Total params: 10,552,760\n",
      "Trainable params: 10,552,760\n",
      "Non-trainable params: 0\n",
      "__________________________________________________________________________________________________\n"
     ]
    }
   ],
   "source": [
    "from tensorflow.keras.layers import AdditiveAttention\n",
    "\n",
    "# 어텐션 층(어텐션 함수)\n",
    "attn_layer = AdditiveAttention(name='attention_layer')\n",
    "\n",
    "# 인코더와 디코더의 모든 time step의 hidden state를 어텐션 층에 전달하고 결과를 리턴\n",
    "attn_out = attn_layer([decoder_outputs, encoder_outputs])\n",
    "\n",
    "\n",
    "# 어텐션의 결과와 디코더의 hidden state들을 연결\n",
    "decoder_concat_input = Concatenate(axis=-1, name='concat_layer')([decoder_outputs, attn_out])\n",
    "\n",
    "# 디코더의 출력층\n",
    "decoder_softmax_layer = Dense(tar_vocab, activation='softmax')\n",
    "decoder_softmax_outputs = decoder_softmax_layer(decoder_concat_input)\n",
    "\n",
    "# 모델 정의\n",
    "model = Model([encoder_inputs, decoder_inputs], decoder_softmax_outputs)\n",
    "model.summary()"
   ]
  },
  {
   "cell_type": "markdown",
   "id": "fc25fa77",
   "metadata": {},
   "source": [
    "위의 코드는 인코더의 hidden state들과 디코더의 hidden state들을 어텐션 함수의 입력으로 사용하고, 어텐션 함수가 리턴한 값을 예측 시에 디코더의 hidden state와 함께 활용하는 형태로 작동한다."
   ]
  },
  {
   "cell_type": "code",
   "execution_count": 55,
   "id": "ffdade65",
   "metadata": {},
   "outputs": [
    {
     "name": "stdout",
     "output_type": "stream",
     "text": [
      "Epoch 1/50\n",
      "277/277 [==============================] - 59s 113ms/step - loss: 5.2386 - val_loss: 4.8120\n",
      "Epoch 2/50\n",
      "277/277 [==============================] - 31s 112ms/step - loss: 4.6862 - val_loss: 4.4879\n",
      "Epoch 3/50\n",
      "277/277 [==============================] - 31s 111ms/step - loss: 4.3667 - val_loss: 4.2278\n",
      "Epoch 4/50\n",
      "277/277 [==============================] - 31s 112ms/step - loss: 4.1289 - val_loss: 4.0681\n",
      "Epoch 5/50\n",
      "277/277 [==============================] - 31s 111ms/step - loss: 3.9420 - val_loss: 3.9445\n",
      "Epoch 6/50\n",
      "277/277 [==============================] - 31s 112ms/step - loss: 3.7859 - val_loss: 3.8479\n",
      "Epoch 7/50\n",
      "277/277 [==============================] - 31s 111ms/step - loss: 3.6501 - val_loss: 3.7693\n",
      "Epoch 8/50\n",
      "277/277 [==============================] - 33s 120ms/step - loss: 3.5326 - val_loss: 3.7083\n",
      "Epoch 9/50\n",
      "277/277 [==============================] - 59s 212ms/step - loss: 3.4275 - val_loss: 3.6536\n",
      "Epoch 10/50\n",
      "277/277 [==============================] - 60s 216ms/step - loss: 3.3332 - val_loss: 3.6117\n",
      "Epoch 11/50\n",
      "277/277 [==============================] - 60s 216ms/step - loss: 3.2460 - val_loss: 3.5801\n",
      "Epoch 12/50\n",
      "277/277 [==============================] - 60s 217ms/step - loss: 3.1671 - val_loss: 3.5429\n",
      "Epoch 13/50\n",
      "277/277 [==============================] - 60s 216ms/step - loss: 3.0936 - val_loss: 3.5167\n",
      "Epoch 14/50\n",
      "277/277 [==============================] - 60s 216ms/step - loss: 3.0279 - val_loss: 3.4989\n",
      "Epoch 15/50\n",
      "277/277 [==============================] - 60s 216ms/step - loss: 2.9644 - val_loss: 3.4785\n",
      "Epoch 16/50\n",
      "277/277 [==============================] - 60s 216ms/step - loss: 2.9068 - val_loss: 3.4676\n",
      "Epoch 17/50\n",
      "277/277 [==============================] - 60s 216ms/step - loss: 2.8546 - val_loss: 3.4563\n",
      "Epoch 18/50\n",
      "277/277 [==============================] - 49s 179ms/step - loss: 2.8033 - val_loss: 3.4441\n",
      "Epoch 19/50\n",
      "277/277 [==============================] - 31s 112ms/step - loss: 2.7563 - val_loss: 3.4372\n",
      "Epoch 20/50\n",
      "277/277 [==============================] - 31s 112ms/step - loss: 2.7123 - val_loss: 3.4311\n",
      "Epoch 21/50\n",
      "277/277 [==============================] - 31s 112ms/step - loss: 2.6698 - val_loss: 3.4292\n",
      "Epoch 22/50\n",
      "277/277 [==============================] - 31s 112ms/step - loss: 2.6278 - val_loss: 3.4219\n",
      "Epoch 23/50\n",
      "277/277 [==============================] - 31s 112ms/step - loss: 2.5870 - val_loss: 3.4264\n",
      "Epoch 24/50\n",
      "277/277 [==============================] - 31s 112ms/step - loss: 2.5509 - val_loss: 3.4238\n",
      "Epoch 00024: early stopping\n"
     ]
    }
   ],
   "source": [
    "model.compile(optimizer='rmsprop', loss='sparse_categorical_crossentropy')\n",
    "es = EarlyStopping(monitor='val_loss', patience=2, verbose=1)\n",
    "history = model.fit(x=[encoder_input_train, decoder_input_train], y=decoder_target_train, \\\n",
    "          validation_data=([encoder_input_test, decoder_input_test], decoder_target_test), \\\n",
    "          batch_size=256, callbacks=[es], epochs=50)"
   ]
  },
  {
   "cell_type": "markdown",
   "id": "9426b5c0",
   "metadata": {},
   "source": [
    "* 조기 종료'를 뜻하는 ```EarlyStopping``` 은 특정 조건이 충족되면 훈련을 멈추는 역할을 한다.\n",
    "\n",
    "* 위 코드에서는```val_loss```(검증 데이터의 손실)을 관찰하다가, 검증 데이터의 손실이 줄어들지 않고 증가하는 현상이 2회(patience=2) 관측되면 학습을 멈추도록 설정했다.\n",
    "\n",
    "* 훈련 데이터의 손실과 검증 데이터의 손실이 줄어드는 과정을 시각화 하였다."
   ]
  },
  {
   "cell_type": "code",
   "execution_count": 56,
   "id": "d234ab98",
   "metadata": {},
   "outputs": [
    {
     "data": {
      "image/png": "[encoded data removed]",
      "text/plain": [
       "<Figure size 432x288 with 1 Axes>"
      ]
     },
     "metadata": {
      "needs_background": "light"
     },
     "output_type": "display_data"
    }
   ],
   "source": [
    "\n",
    "plt.plot(history.history['loss'], label='train')\n",
    "plt.plot(history.history['val_loss'], label='test')\n",
    "plt.legend()\n",
    "plt.show()"
   ]
  },
  {
   "cell_type": "markdown",
   "id": "4823d02c",
   "metadata": {},
   "source": [
    "# 7. 인퍼런스 모델 구현\n",
    "테스트 단계에서는 정수 인덱스 행렬로 존재하던 텍스트 데이터를 실제 데이터로 복원해야 하므로, 필요한 3개의 사전을 아래와 같이 미리 준비해둔다."
   ]
  },
  {
   "cell_type": "code",
   "execution_count": 57,
   "id": "1a828426",
   "metadata": {},
   "outputs": [],
   "source": [
    "src_index_to_word = src_tokenizer.index_word # 원문 단어 집합에서 정수 -> 단어를 얻음\n",
    "tar_word_to_index = tar_tokenizer.word_index # 요약 단어 집합에서 단어 -> 정수를 얻음\n",
    "tar_index_to_word = tar_tokenizer.index_word # 요약 단어 집합에서 정수 -> 단어를 얻음"
   ]
  },
  {
   "cell_type": "markdown",
   "id": "653e3e65",
   "metadata": {},
   "source": [
    "seq2seq는 훈련할 때와 실제 동작할 때(인퍼런스 단계)의 방식이 다르므로 그에 맞게 모델 설계를 별개로 진행해야한다.\n",
    "\n",
    "훈련 단계에서는 디코더의 입력부에 정답이 되는 문장 전체를 한꺼번에 넣고 디코더의 출력과 한 번에 비교할 수 있으므로, 인코더와 디코더를 엮은 통짜 모델 하나만 준비했다.\n",
    "\n",
    "그러나 정답 문장이 없는 인퍼런스 단계에서는 만들어야 할 문장의 길이만큼 디코더가 반복 구조로 동작해야 하기 때문에 부득이하게 인퍼런스를 위한 모델 설계를 별도로 인코더 모델과 디코더 모델을 분리해서 설계한다."
   ]
  },
  {
   "cell_type": "code",
   "execution_count": 58,
   "id": "b5fc42e1",
   "metadata": {},
   "outputs": [],
   "source": [
    "# 인코더 설계\n",
    "encoder_model = Model(inputs=encoder_inputs, outputs=[encoder_outputs, state_h, state_c])\n",
    "\n",
    "# 이전 시점의 상태들을 저장하는 텐서\n",
    "decoder_state_input_h = Input(shape=(hidden_size,))\n",
    "decoder_state_input_c = Input(shape=(hidden_size,))\n",
    "\n",
    "dec_emb2 = dec_emb_layer(decoder_inputs)\n",
    "\n",
    "# 문장의 다음 단어를 예측하기 위해서 초기 상태(initial_state)를 이전 시점의 상태로 사용. 이는 뒤의 함수 decode_sequence()에 구현\n",
    "# 훈련 과정에서와 달리 LSTM의 리턴하는 은닉 상태와 셀 상태인 state_h와 state_c를 버리지 않음.\n",
    "decoder_outputs2, state_h2, state_c2 = decoder_lstm(dec_emb2, initial_state=[decoder_state_input_h, decoder_state_input_c])"
   ]
  },
  {
   "cell_type": "code",
   "execution_count": 59,
   "id": "f82db02f",
   "metadata": {},
   "outputs": [
    {
     "name": "stdout",
     "output_type": "stream",
     "text": [
      "=3\n"
     ]
    }
   ],
   "source": [
    "# 어텐션 함수\n",
    "decoder_hidden_state_input = Input(shape=(text_max_len, hidden_size))\n",
    "attn_out_inf = attn_layer([decoder_outputs2, decoder_hidden_state_input])\n",
    "decoder_inf_concat = Concatenate(axis=-1, name='concat')([decoder_outputs2, attn_out_inf])\n",
    "\n",
    "# 디코더의 출력층\n",
    "decoder_outputs2 = decoder_softmax_layer(decoder_inf_concat) \n",
    "\n",
    "# 최종 디코더 모델\n",
    "decoder_model = Model(\n",
    "    [decoder_inputs] + [decoder_hidden_state_input,decoder_state_input_h, decoder_state_input_c],\n",
    "    [decoder_outputs2] + [state_h2, state_c2])\n",
    "\n",
    "print('=3')"
   ]
  },
  {
   "cell_type": "code",
   "execution_count": null,
   "id": "00ba54cf",
   "metadata": {},
   "outputs": [],
   "source": []
  },
  {
   "cell_type": "markdown",
   "id": "25e5d410",
   "metadata": {},
   "source": [
    "인퍼런스 단계에서 단어 시퀀스를 완성하는 함수를 만들어주세요."
   ]
  },
  {
   "cell_type": "code",
   "execution_count": 60,
   "id": "7dec1ba1",
   "metadata": {},
   "outputs": [
    {
     "name": "stdout",
     "output_type": "stream",
     "text": [
      "=3\n"
     ]
    }
   ],
   "source": [
    "def decode_sequence(input_seq):\n",
    "    # 입력으로부터 인코더의 상태를 얻음\n",
    "    e_out, e_h, e_c = encoder_model.predict(input_seq)\n",
    "\n",
    "     # <SOS>에 해당하는 토큰 생성\n",
    "    target_seq = np.zeros((1,1))\n",
    "    target_seq[0, 0] = tar_word_to_index['sostoken']\n",
    "\n",
    "    stop_condition = False\n",
    "    decoded_sentence = ''\n",
    "    while not stop_condition: # stop_condition이 True가 될 때까지 루프 반복\n",
    "\n",
    "        output_tokens, h, c = decoder_model.predict([target_seq] + [e_out, e_h, e_c])\n",
    "        sampled_token_index = np.argmax(output_tokens[0, -1, :])\n",
    "        sampled_token = tar_index_to_word[sampled_token_index]\n",
    "\n",
    "        if (sampled_token!='eostoken'):\n",
    "            decoded_sentence += ' '+sampled_token\n",
    "\n",
    "        #  <eos>에 도달하거나 최대 길이를 넘으면 중단.\n",
    "        if (sampled_token == 'eostoken'  or len(decoded_sentence.split()) >= (summary_max_len-1)):\n",
    "            stop_condition = True\n",
    "\n",
    "        # 길이가 1인 타겟 시퀀스를 업데이트\n",
    "        target_seq = np.zeros((1,1))\n",
    "        target_seq[0, 0] = sampled_token_index\n",
    "\n",
    "        # 상태를 업데이트 합니다.\n",
    "        e_h, e_c = h, c\n",
    "\n",
    "    return decoded_sentence\n",
    "print('=3')"
   ]
  },
  {
   "cell_type": "code",
   "execution_count": 61,
   "id": "8a6761bd",
   "metadata": {},
   "outputs": [
    {
     "name": "stdout",
     "output_type": "stream",
     "text": [
      "=3\n"
     ]
    }
   ],
   "source": [
    "# 원문의 정수 시퀀스를 텍스트 시퀀스로 변환\n",
    "def seq2text(input_seq):\n",
    "    temp=''\n",
    "    for i in input_seq:\n",
    "        if (i!=0):\n",
    "            temp = temp + src_index_to_word[i]+' '\n",
    "    return temp\n",
    "\n",
    "# 요약문의 정수 시퀀스를 텍스트 시퀀스로 변환\n",
    "def seq2summary(input_seq):\n",
    "    temp=''\n",
    "    for i in input_seq:\n",
    "        if ((i!=0 and i!=tar_word_to_index['sostoken']) and i!=tar_word_to_index['eostoken']):\n",
    "            temp = temp + tar_index_to_word[i] + ' '\n",
    "    return temp\n",
    "\n",
    "print('=3')"
   ]
  },
  {
   "cell_type": "code",
   "execution_count": 62,
   "id": "9b07b698",
   "metadata": {},
   "outputs": [
    {
     "name": "stdout",
     "output_type": "stream",
     "text": [
      "원문 : university chicago led team observed first interactions particles called atom nucleus using world smallest detector measuring inch inch predicted nucleus interactions imagined balls striking bowling ball said physicist study would help look dark matter makes universe mass \n",
      "실제 요약 : world smallest detector confirms yr old theory \n",
      "예측 요약 :  world cup final was once made\n",
      "\n",
      "\n",
      "원문 : karnataka government launch poorna scheme october meet needs pregnant women rural areas women provided one full meal including rice dal day apart calcium iron tablets scheme scheme expected benefit nearly lakh women state \n",
      "실제 요약 : karnataka to launch scheme for pregnant women \n",
      "예측 요약 :  karnataka govt to provide free for women\n",
      "\n",
      "\n",
      "원문 : following india win australia dharamsala test former australian pacer mitchell johnson said ajinkya rahane continue india captain instead virat kohli rahane stay captain tough series believe stay field players johnson tweeted response article shared cricket australia regarding kohli \n",
      "실제 요약 : rahane should continue as india captain mitchell johnson \n",
      "예측 요약 :  rahane should not be better than aus captain rahane\n",
      "\n",
      "\n",
      "원문 : verified twitter account us first lady melania trump tuesday liked tweet suggested husband president donald trump built wall seems wall built one melania trump tweet read however melania retracted like within hour \n",
      "실제 요약 : melania trump likes tweet that mocks her marriage \n",
      "예측 요약 :  kim kardashian trolls trump over trump kim summit\n",
      "\n",
      "\n",
      "원문 : tennis court installed inside th century milan church decree issued presently serves studio art projects latest untitled aimed exploring subject space entry free providing visitors practice coaches \n",
      "실제 요약 : tennis court installed inside th century church building \n",
      "예측 요약 :  golf court makes women from the red\n",
      "\n",
      "\n",
      "원문 : anil ambani led reliance communications paid lakh settle case markets regulator sebi non compliance listing norms including alleged failure inform interest payment default company also reached settlement regarding alleged non cooperation credit rating agencies trustees violation listing norms sebi order said \n",
      "실제 요약 : anil ambani rcom pays lakh to settle case with sebi \n",
      "예측 요약 :  rcom denies reports of ambani being rcom\n",
      "\n",
      "\n",
      "원문 : facebook coo sheryl sandberg recent event said interactions social media equally good people terms psychological well sandberg also said facebook changed news feed favour meaningful connections social media earlier company admitted passive social media posts make people feel worse \n",
      "실제 요약 : not all social media are good for you fb coo \n",
      "예측 요약 :  facebook coo sandberg sandberg sandberg sandberg\n",
      "\n",
      "\n",
      "원문 : kerala girl found issued death certificate instead birth certificate produced document identity verification school according document girl died years ago panchayat officials reportedly typed wrong title document girl father kept away without reading \n",
      "실제 요약 : kerala girl issued death certificate when born due to typo \n",
      "예측 요약 :  kerala girl who died as parents gets life for\n",
      "\n",
      "\n",
      "원문 : per reports tv film producer ekta kapoor responsible getting pahlaj nihalani fired censor board chief long time ekta nihalani high said source reported complained information broadcasting minister smriti irani censor board slammed film lipstick burkha \n",
      "실제 요약 : ekta responsible for pahlaj censor board exit report \n",
      "예측 요약 :  kangana denies reports of kangana being makers\n",
      "\n",
      "\n",
      "원문 : bjp leader raja earlier party city general secretary shot dead three unidentified bike borne assailants town muzaffarnagar wednesday meanwhile protesting murder people blocked delhi dehradun national highway security area sho kp singh said \n",
      "실제 요약 : bjp leader shot dead in up muzaffarnagar \n",
      "예측 요약 :  bjp leader shot dead in bjp leader house in jharkhand\n",
      "\n",
      "\n",
      "원문 : group eight burglars popularly called gang suspected stolen jewellery weighing ten apartment hyderabad group called gang wear owner apartment resides us reports said \n",
      "실제 요약 : gang jewellery from hyd apartment \n",
      "예측 요약 :  man steals lakh stolen from atm store in up\n",
      "\n",
      "\n",
      "원문 : three women sunday embarked day road trip coimbatore london celebrate years independent india promote literacy coimbatore based meenakshi arvind based mumbai based priya rajpal covering countries road trip journey flagged aiadmk mla sp \n",
      "실제 요약 : women to drive from to london via countries \n",
      "예측 요약 :  indian women in india at delhi royal house\n",
      "\n",
      "\n",
      "원문 : shops establishments maharashtra remain open operate round clock three shifts starting today state government amended maharashtra shops establishments act notification covers hotels restaurants malls bars pubs wine shops earlier shops asked shut pm commercial establishments pm \n",
      "실제 요약 : shops in maharashtra can now stay open \n",
      "예측 요약 :  delhi schools to get toilets by\n",
      "\n",
      "\n",
      "원문 : addition four bjp mlas two aap mlas member delhi vidhan sabha also voted nda backed presidential candidate ram nath kovind polls thursday prior polls aap announced support opposition candidate meira kumar two mlas cross voted suspected among suspended legislators \n",
      "실제 요약 : aap mlas cross voted for kovind in delhi assembly \n",
      "예측 요약 :  aap mlas elected aap mlas to contest polls\n",
      "\n",
      "\n",
      "원문 : ahead summit us president donald trump russian president vladimir putin finland largest newspaper mocked two leaders billboards reading mr president welcome land free press welcome presidents want remind importance free press newspaper senior editor chief tweeted \n",
      "실제 요약 : trump putin mocked by newspaper over press freedom \n",
      "예측 요약 :  putin to meet putin as he is his new putin\n",
      "\n",
      "\n",
      "원문 : kristen starring wonder woman rival film sequel confirmed director patty jenkins gal gadot playing role wonder woman sequel welcomed cast tweeting going wonderful film yet titled release december next year \n",
      "실제 요약 : to play villain in wonder woman sequel \n",
      "예측 요약 :  wonder woman actress gal gadot to star in film\n",
      "\n",
      "\n",
      "원문 : uttarakhand cm trivendra singh rawat saturday said government allow slaughterhouses state licences issued previous regimes cancelled reiterating government commitment cow protection added shelter houses set across state accommodate stray cows fair haridwar \n",
      "실제 요약 : no in khand will cancel all licences cm \n",
      "예측 요약 :  khand cm orders reservation for cow slaughter\n",
      "\n",
      "\n",
      "원문 : bangladesh transport minister wednesday accused pakistan inter services intelligence conspiring terror groups among rohingya refugees cannot tolerate anything good happening country minister added lakh rohingya muslims fled bangladesh year escape ethnic violence myanmar nnnn \n",
      "실제 요약 : desh accuses pak of conspiring with rohingya terrorists \n",
      "예측 요약 :  pak to return to india after rohingya muslims\n",
      "\n",
      "\n",
      "원문 : year old lawyer died suffocation car got locked heavy rainfall mumbai sion tuesday deceased identified gone park car doors vehicle got due water logging police found next morning rushed hospital declared dead \n",
      "실제 요약 : mumbai man dies after being trapped in car due to heavy rain \n",
      "예측 요약 :  man dies after falling into river while taking selfie\n",
      "\n",
      "\n",
      "원문 : air india denied allegations made italian dj claimed ai staff assaulted hyderabad airport august uploaded facebook video saying female staffer slapped went ask help flight delayed nine hours ai said staff member objected filmed \n",
      "실제 요약 : italian dj says air india staff slapped her airline denies \n",
      "예측 요약 :  air india apologises for air hostess not sexually harassed\n",
      "\n",
      "\n",
      "원문 : vancouver captain chris gayle pulled one handed catch right hand almost dropped catch left hand global canada final sunday west indies hodge edged fawad ahmed delivery towards slips gayle completed catch cannot commentator screamed \n",
      "실제 요약 : gayle almost drops catch with left hand takes it with right \n",
      "예측 요약 :  ben stokes takes one handed catch to dismiss fans\n",
      "\n",
      "\n",
      "원문 : pakistan punjab province banned dance performances government private schools according reports followed reports increased cases sexual abuse children critics suggesting making children dance leads schools found violating ban either allowing forcing students dance would licences suspended \n",
      "실제 요약 : pakistan province bans dance in schools \n",
      "예측 요약 :  pakistan bans mandatory from pakistan for protests\n",
      "\n",
      "\n",
      "원문 : father son duo arrested delhi airport wednesday allegedly trying smuggle gold worth lakh officials said accused aged respectively arrived dubai customs department said personal baggage search resulted recovery two gold two gold chains two belt \n",
      "실제 요약 : father son smuggle gold worth lakh at delhi airport \n",
      "예측 요약 :  father of gold worth cr from delhi airport\n",
      "\n",
      "\n",
      "원문 : india captain virat kohli wife anushka sharma gave business class seats indian fast bowlers give comfort space team flight adelaide perth danger australia relaxed skipper managing troops great human touches former england captain michael vaughan tweeted \n",
      "실제 요약 : kohli anushka give up their business class seats for india \n",
      "예측 요약 :  kohli is the reason anushka on virat kohli\n",
      "\n",
      "\n",
      "원문 : microsoft ceo satya nadella revealed romantic inside chooses batsman ml sachin tendulkar favourite cricketer asked choose one two nadella said oh tough look romantic heart ml played tests finished runs \n",
      "실제 요약 : romantic in me over sachin satya nadella \n",
      "예측 요약 :  microsoft ceo reveals he is not being given to his his day\n",
      "\n",
      "\n",
      "원문 : andhra pradesh municipal department official arrested monday night disproportionate assets worth crore three days retirement reddy director state town planning owns hotel shirdi acres land near vijayawada among others interestingly planning retirement party abroad already made bookings \n",
      "실제 요약 : official arrested over cr wealth days before retirement \n",
      "예측 요약 :  andhra police arrests cr worth crore in\n",
      "\n",
      "\n",
      "원문 : saudi arabia crown prince mohammed bin salman said kingdom develop nuclear bomb soon possible iran comparing iran supreme leader ayatollah khamenei adolf hitler salman said iran far equal saudi earlier year khamenei accused saudi betraying muslim world us \n",
      "실제 요약 : saudi will develop nuclear bomb if iran does crown prince \n",
      "예측 요약 :  saudi crown prince threatens to iran crown prince\n",
      "\n",
      "\n",
      "원문 : saudi arabia united arab emirates pledged combined million women entrepreneurs fund proposed us president donald trump daughter ivanka trump according reports fund ivanka first proposed germany trip run world bank help female entrepreneurs capital networking resources start businesses \n",
      "실제 요약 : saudi uae pledge million to ivanka trump proposed fund \n",
      "예측 요약 :  saudi arabia to pay mn to trump for years\n",
      "\n",
      "\n",
      "원문 : russian scientists developing first ever civilian nuclear powered submarine conduct surveys search natural resources ice arctic region russian foundation advanced research projects said project currently early design stage officials added notably arctic considered major source minerals fresh water fish \n",
      "실제 요약 : russia to build st ever civilian nuclear powered submarine \n",
      "예측 요약 :  us nuclear tests radioactive nuclear plant\n",
      "\n",
      "\n",
      "원문 : shares google parent alphabet passed first time ever monday six days amazon crossed threshold comes recent pacific analyst suggested investors buy alphabet instead apple alphabet created part corporate restructuring technology major google achieved milestone \n",
      "실제 요약 : google parent alphabet shares hit for the first time \n",
      "예측 요약 :  google parent tops trillion in years\n",
      "\n",
      "\n",
      "원문 : arjan singh young indian fan seen crying india tied asia cup match afghanistan said cried want ms dhoni lose last match captain liked match liked dhoni captain said arjan contacted bhuvneshwar kumar later day \n",
      "실제 요약 : did not want dhoni to lose as captain indian kid who cried \n",
      "예측 요약 :  indian fan who played dhoni dhoni jersey\n",
      "\n",
      "\n",
      "원문 : prime minister narendra modi tuesday said international organisations imf world bank moody looking india positive way stating old hai hi rahega attitude changed pm modi said government follows motto reform transform speaking first persons indian origin parliamentarian conference \n",
      "실제 요약 : world bank imf looking at india in positive way pm modi \n",
      "예측 요약 :  pm modi pays tribute to pm modi on davos\n",
      "\n",
      "\n",
      "원문 : sentence review board headed delhi home minister satyendar jain thursday rejected jessica lal murder convict manu sharma request early release sharma shot dead jessica restaurant currently serving life sentence tihar jail earlier jessica sister written authorities stating objections sharma release \n",
      "실제 요약 : lal murder convict early release request rejected \n",
      "예측 요약 :  abu salem rejects abu salem murder convict granted bail\n",
      "\n",
      "\n",
      "원문 : eight time olympic gold winner usain bolt secured trial german football club borussia dortmund scheduled take place march makes nervous get nervous different football said bolt revealed talked former manchester united manager sir alex ferguson possible deal club \n",
      "실제 요약 : usain bolt secures trial at german club \n",
      "예측 요약 :  usain bolt to play olympic football match for\n",
      "\n",
      "\n",
      "원문 : financial services secretary rajiv kumar said public sector banks going get easy money part lakh crore recapitalisation plan capital infusion preceded followed whole set reforms added kumar said reforms include strengthening board well dealing hr issues \n",
      "실제 요약 : banks will not get easy cash under plan banking secy \n",
      "예측 요약 :  banks to get loans of crore by banks union minister\n",
      "\n",
      "\n",
      "원문 : indonesia lion air reviewing purchases boeing may cancel orders next delivery according reports comes boeing aircraft operated lion air crashed october killing people airline remaining orders boeing consist jets worth billion \n",
      "실제 요약 : lion air may cancel orders from boeing following jet crash \n",
      "예측 요약 :  air planes planes planes over mid day\n",
      "\n",
      "\n",
      "원문 : former infosys cfo balakrishnan said hiring india sector slower years come said companies become highly productive utilisation levels gone also automation kicking however said third fourth quarter fiscal challenging growth front \n",
      "실제 요약 : it hiring to be for years to come ex infosys cfo \n",
      "예측 요약 :  india has no longer in years infosys ceo\n",
      "\n",
      "\n",
      "원문 : india fourth valuable services firm wipro friday announced would buy us based alight solutions india operations million alight solutions provides cloud based hr financial solutions clients company five offices india across four locations chennai mumbai noida gurugram employees \n",
      "실제 요약 : wipro to buy us based india operations for cr \n",
      "예측 요약 :  india to invest mn in india for million\n",
      "\n",
      "\n",
      "원문 : family dj statement released week demise said could go longer wanted find peace family added achieving worked hard pace led extreme stress sensitive guy loved fans statement read \n",
      "실제 요약 : he could not go on any longer family on his demise \n",
      "예측 요약 :  my mother is the last life of the death\n",
      "\n",
      "\n",
      "원문 : pakistan financial regulatory body banned mumbai terror attack mastermind hafiz saeed charities collecting donations ban imposed saeed led jamaat ud dawa organisations listed banned outfits united nations security council comes amid us calls pakistan act terrorist soil \n",
      "실제 요약 : pak bans hafiz saeed from collecting donations \n",
      "예측 요약 :  pakistan bans pakistan from pakistan over un terror ban\n",
      "\n",
      "\n",
      "원문 : vladimir putin elected president russia fourth term votes lead country another six years putin ruled russia either prime minister president since already country longest serving leader since soviet dictator joseph stalin \n",
      "실제 요약 : vladimir putin elected as russia president for th term \n",
      "예측 요약 :  putin putin elected new putin of the year\n",
      "\n",
      "\n",
      "원문 : asked follow footsteps china president xi jinping planning change country constitution stay power life russian president vladimir putin said plans never changed constitution suit putin added putin running fourth term office \n",
      "실제 요약 : will not alter constitution to stay russian prez forever putin \n",
      "예측 요약 :  putin is not the us prez xi jinping\n",
      "\n",
      "\n",
      "원문 : delhi government directed departments autonomous bodies adopt digital modes payment transactions earliest move reportedly aimed complete digitisation government payment also asked department heads promote payments give wide publicity increase awareness \n",
      "실제 요약 : delhi govt asks to adopt digital payment \n",
      "예측 요약 :  delhi govt to get cr from january\n",
      "\n",
      "\n",
      "원문 : year old woman gang raped five men burnt alive temple uttar pradesh sambhal district saturday woman sleeping children home men entered took turns rape later returned took nearby temple burned \n",
      "실제 요약 : yr old woman gang raped by burnt alive in temple in up \n",
      "예측 요약 :  woman raped by men in haryana\n",
      "\n",
      "\n",
      "원문 : railway minister piyush goyal said credit rating agency standard poor decision retain india credit rating stable outlook huge endorsement government policies said known far conservative compared moody fitch said initiatives like gst bankruptcy code bank recapitalisation praised agency \n",
      "실제 요약 : rating is huge endorsement of govt policies rail min \n",
      "예측 요약 :  rbi to create growth with economic growth jaitley\n",
      "\n",
      "\n",
      "원문 : enforcement directorate friday arrested cn patel director mumbai based private limited buying kilograms gold worth crore using laundered money post demonetisation patel used old demonetised currency notes buy gold probing moved money laundered five bogus companies ed officials said \n",
      "실제 요약 : mumbai trader arrested for buying kg gold post note ban \n",
      "예측 요약 :  gold worth cr seized from gold in kolkata\n",
      "\n",
      "\n",
      "원문 : year old bengaluru businessman approached police duped lakh woman met dating website woman introduced arpita kolkata sought businessman help saying father admitted hospital arpita stopped responding calls messages transferred lakh month \n",
      "실제 요약 : woman on dating site dupes bengaluru businessman of lakh \n",
      "예측 요약 :  delhi woman held for trying to buy woman for phone\n",
      "\n",
      "\n",
      "원문 : air india suspended two staffers passenger bought tickets muscat boarded mumbai bound flight passenger alerted cabin crew delhi mumbai flight hearing flight announcement informing passengers journey following plane called back taxiway flyer later able board muscat bound flight \n",
      "실제 요약 : air india passenger boards wrong flight staff get suspended \n",
      "예측 요약 :  air india flight forced to break off for cockpit\n",
      "\n",
      "\n",
      "원문 : award winning restaurant danish capital city copenhagen closed earlier year open new location early pieces old restaurant including plates custom made table auctioned team said new restaurant would fresh look featuring pieces old one \n",
      "실제 요약 : award winning denmark eatery shuts down auctions off pieces \n",
      "예측 요약 :  new zealand restaurant gets free for st time\n",
      "\n",
      "\n",
      "원문 : french astronaut thomas pesquet shared view frozen river passing ukraine magic river back february stunned frozen river north kiev astronaut tweeted pesquet photographed river international space station billion station orbits earth altitude km \n",
      "실제 요약 : astronaut shares view of frozen river from space \n",
      "예측 요약 :  astronaut captures pictures of space from space\n",
      "\n",
      "\n"
     ]
    }
   ],
   "source": [
    "for i in range(50, 100):\n",
    "    print(\"원문 :\", seq2text(encoder_input_test[i]))\n",
    "    print(\"실제 요약 :\", seq2summary(decoder_input_test[i]))\n",
    "    print(\"예측 요약 :\", decode_sequence(encoder_input_test[i].reshape(1, text_max_len)))\n",
    "    print(\"\\n\")"
   ]
  },
  {
   "cell_type": "code",
   "execution_count": 63,
   "id": "f1cf9791",
   "metadata": {},
   "outputs": [],
   "source": [
    "def decode_sequence_penalty(input_seq):\n",
    "    # 입력으로부터 인코더의 상태를 얻음\n",
    "    e_out, e_h, e_c = encoder_model.predict(input_seq)\n",
    "\n",
    "     # <SOS>에 해당하는 토큰 생성\n",
    "    target_seq = np.zeros((1,1))\n",
    "    target_seq[0, 0] = tar_word_to_index['sostoken']\n",
    "\n",
    "    #### 이미 나온 단어를 기록하는 set을 만듭니다.\n",
    "    token_bag = set()\n",
    "    ####\n",
    "    stop_condition = False\n",
    "    decoded_sentence = ''\n",
    "    while not stop_condition: # stop_condition이 True가 될 때까지 루프 반복\n",
    "\n",
    "        output_tokens, h, c = decoder_model.predict([target_seq] + [e_out, e_h, e_c])\n",
    "        sampled_token_index = np.argmax(output_tokens[0, -1, :])\n",
    "        \n",
    "        #### 만일 예측된 단어가 이미 나온 단어라면, 그 예측치를 15%로 삭감해 다른 토큰이 선택될 수 있도록 합니다\n",
    "        if sampled_token_index in token_bag:\n",
    "            output_tokens[0, -1, sampled_token_index] *= 0.15\n",
    "            sampled_token_index = np.argmax(output_tokens[0, -1, :])\n",
    "        ####\n",
    "        \n",
    "        sampled_token = tar_index_to_word[sampled_token_index]\n",
    "        \n",
    "        #### 현재까지 나온 단어를 기록합니다.\n",
    "        token_bag.add(sampled_token_index)\n",
    "        ####\n",
    "\n",
    "        if (sampled_token!='eostoken'):\n",
    "            decoded_sentence += ' '+sampled_token\n",
    "\n",
    "        #  <eos>에 도달하거나 최대 길이를 넘으면 중단.\n",
    "        if (sampled_token == 'eostoken'  or len(decoded_sentence.split()) >= (summary_max_len-1)):\n",
    "            stop_condition = True\n",
    "\n",
    "        # 길이가 1인 타겟 시퀀스를 업데이트\n",
    "        target_seq = np.zeros((1,1))\n",
    "        target_seq[0, 0] = sampled_token_index\n",
    "\n",
    "        # 상태를 업데이트 합니다.\n",
    "        e_h, e_c = h, c\n",
    "\n",
    "    return decoded_sentence"
   ]
  },
  {
   "cell_type": "code",
   "execution_count": 64,
   "id": "49a1c83c",
   "metadata": {},
   "outputs": [
    {
     "name": "stdout",
     "output_type": "stream",
     "text": [
      "id: 1680\n",
      "원문 : former victoria secret model scott knows code slammed trolls post questioning programming abilities come shapes sizes races wrote listing qualifications said think twice doubting women girls encounter tech trying stating facts added \n",
      "실제 요약 : victoria secret model who can code shuts down trolls \n",
      "예측 요약 :  we are not racist on social media\n",
      "\n",
      "\n",
      "id: 1681\n",
      "원문 : chinese scientist jiankui hong kong conference wednesday apologised leak trial results claimed birth world first genetically edited babies clinical trial due current situation added embryos seven couples hiv positive males reportedly altered one resulting birth hiv resistant twins \n",
      "실제 요약 : chinese scientist apologises for leak of baby gene editing results \n",
      "예측 요약 :  china apologises for cancer sex at world largest site\n",
      "\n",
      "\n",
      "id: 1682\n",
      "원문 : metre high replica paris eiffel tower development hangzhou china interestingly community also features square kilometres style architecture although first opened populated often called ghost town \n",
      "실제 요약 : there is replica of the eiffel tower in china \n",
      "예측 요약 :  world largest hotel has been built in china\n",
      "\n",
      "\n",
      "id: 1683\n",
      "원문 : mural footballer cristiano ronaldo winking unveiled near portugal team hotel russia ahead confederations cup match thursday three floor high artwork took five days paint visible player hotel room depicts ronaldo wink portugal teammates wayne rooney red world cup \n",
      "실제 요약 : ronaldo mural created near portugal team hotel \n",
      "예측 요약 :  ronaldo gets foot from the wall of wine at kmph\n",
      "\n",
      "\n",
      "id: 1684\n",
      "원문 : cricketing legend bradman ex australia teammate neil harvey said entirely fault bradman average tests second last test bradman unbeaten harvey hit four give australia victory england bradman needed four final test get batting average got duck \n",
      "실제 요약 : entirely my fault bradman did not average in tests ex teammate \n",
      "예측 요약 :  smith once hit yo test rating for the world\n",
      "\n",
      "\n",
      "id: 1685\n",
      "원문 : bruce paddock brother las vegas shooter stephen paddock arrested possessing images child pornography counts sexual exploitation child previously convicted theft criminal threats vandalism brother stephen paddock killed people wounded hundreds fired upon las vegas concert \n",
      "실제 요약 : las vegas shooter brother arrested on child porn charges \n",
      "예측 요약 :  man who killed for porn actress charged with\n",
      "\n",
      "\n",
      "id: 1686\n",
      "원문 : bjp leader lk advani others part larger conspiracy demolish disputed babri masjid central bureau investigation told supreme court thursday accused include senior bjp leaders murli manohar joshi uma bharti kalyan singh vishwa hindu parishad members cbi wants trial held lucknow court \n",
      "실제 요약 : lk advani others conspired to demolish babri masjid cbi \n",
      "예측 요약 :  advani moves bjp mp for babri masjid dispute\n",
      "\n",
      "\n",
      "id: 1687\n",
      "원문 : tuesday swore country president making first new president country years comes previous president jose eduardo dos santos announced retirement chose successor served defence minister earlier vowed attract foreign investment \n",
      "실제 요약 : in its first new president after years \n",
      "예측 요약 :  president elected new new zealand president\n",
      "\n",
      "\n",
      "id: 1688\n",
      "원문 : army chief general bipin rawat said recent report released united nations alleged human rights violations kashmir motivated un called international inquiry alleged violations speaking army record honouring human rights said well known people kashmir international community \n",
      "실제 요약 : un report on kashmir human rights abuse army chief \n",
      "예측 요약 :  un calls for india human rights chief\n",
      "\n",
      "\n",
      "id: 1689\n",
      "원문 : announcement hike customs duty union budget luxury car prices witness rise lakh lakh prices imported luxury buses also rise lakh lakh custom duty imports motor vehicles motor cars motor cycles increased \n",
      "실제 요약 : luxury vehicles to get costlier as govt hikes customs duty \n",
      "예측 요약 :  petrol diesel cars hiked by lakh in\n",
      "\n",
      "\n",
      "id: 1690\n",
      "원문 : woman allegedly killed parents rescued agra delhi commission women police sunday dcw said fianc filed complaint couple planning marriage even though got engaged four years ago parents forcing marry another man \n",
      "실제 요약 : dcw police rescue woman about to be killed by her parents \n",
      "예측 요약 :  delhi woman dies after being denied entry into\n",
      "\n",
      "\n",
      "id: 1691\n",
      "원문 : women groups led india democratic women association burnt effigy ram gopal varma visakhapatnam protesting release upcoming film god sex truth leader women group said message varma would giving youth india dirty film \n",
      "실제 요약 : women burn effigy of rgv over his film god sex and truth \n",
      "예측 요약 :  women in up to be molested by police on police\n",
      "\n",
      "\n",
      "id: 1692\n",
      "원문 : ranveer singh revealed father singh bhavnani keeps complaining makes less money per popularity said wants make money adding making money want hindi films make money ranveer said reason films well china \n",
      "실제 요약 : my father says make less money than my ranveer \n",
      "예측 요약 :  am not going to get money from my life ranveer\n",
      "\n",
      "\n",
      "id: 1693\n",
      "원문 : group greek activists proposed using brexit negotiations recover art stolen british brexit deal finalised eu nations must vote deal could stalled country activists said government take advantage recover art \n",
      "실제 요약 : greek activists seek brexit to stolen art \n",
      "예측 요약 :  eu imposes brexit deal to vote in france\n",
      "\n",
      "\n",
      "id: 1694\n",
      "원문 : actress bhumi pednekar look upcoming film revealed film also star actor sushant singh rajput lead role along manoj bajpayee ashutosh rana directed udta punjab director abhishek set tale \n",
      "실제 요약 : bhumi look as from revealed \n",
      "예측 요약 :  richa chadha to star in upcoming film\n",
      "\n",
      "\n",
      "id: 1695\n",
      "원문 : tesla ceo elon musk tweeted company electric semi truck transform robot fight aliens make one hell earlier musk said truck blow mind clear skull alternate dimension tesla semi truck launch live company website thursday \n",
      "실제 요약 : can into robot fight aliens musk on semi truck \n",
      "예측 요약 :  elon musk shares video of tesla car race\n",
      "\n",
      "\n",
      "id: 1696\n",
      "원문 : rcb mandeep singh pulled boundary save dd ipl saturday dd rishabh pant pulled umesh yadav delivery th towards square leg mandeep leapt left flicked ball back play left hand pant managed take single delivery \n",
      "실제 요약 : jumps to save ball from going for four with one hand \n",
      "예측 요약 :  raina takes catch at boundary to dismiss rcb\n",
      "\n",
      "\n",
      "id: 1697\n",
      "원문 : telugu desam party mp sivaprasad dressed lord shiva protest parliament demanding special category status andhra pradesh mp chittoor previously dressed schoolboy tantrik ravana lord krishna actor turned politician previously served information culture minister \n",
      "실제 요약 : tdp mp dresses as lord shiva to demand special status for andhra \n",
      "예측 요약 :  tdp mp to give andhra cm for calling tdp mp\n",
      "\n",
      "\n",
      "id: 1698\n",
      "원문 : uk prince harry spotted stealing samosas folded napkin lunch hosted wife duchess sussex meghan markle kensington palace smiled realising caught camera lunch hosted celebrate meghan charity project women whose community affected grenfell tower fire \n",
      "실제 요약 : prince harry steals at event hosted by meghan markle \n",
      "예측 요약 :  couple who gave up to marry prince harry meghan\n",
      "\n",
      "\n",
      "id: 1699\n",
      "원문 : abhishek bachchan speaking patch filmmaker anurag kashyap film yuva said called reconciliation like earlier tiff due differences arose making yuva starred abhishek written kashyap history put behind us abhishek earlier said \n",
      "실제 요약 : it was like abhishek on his patch up with kashyap \n",
      "예측 요약 :  do not know why abhishek kashyap is an actor\n",
      "\n",
      "\n",
      "id: 1700\n",
      "원문 : gst council thursday decided put items tax slab reduce rates services new rates come force january finance minister arun jaitley said added discussion regarding inclusion real estate petroleum products gst take place future meetings \n",
      "실제 요약 : govt reduces gst rates on goods services \n",
      "예측 요약 :  gst council to cut tax on gst rates by\n",
      "\n",
      "\n",
      "id: 1701\n",
      "원문 : reacting media reports india muslim personal law board said never demanded parallel court system body added darul run arbitration centers whose opinions legally binding call courts made section media aimplb secretary said \n",
      "실제 요약 : never demanded court system muslim body \n",
      "예측 요약 :  no law in law if it is not allowed to quit govt\n",
      "\n",
      "\n",
      "id: 1702\n",
      "원문 : goa chief minister manohar parrikar treated pancreatic ailment aiims new delhi discharged sunday although condition remains critical parrikar admitted aiims last month flown back goa special flight earlier today briefly shifted icu condition deteriorated \n",
      "실제 요약 : goa cm discharged from aiims condition remains critical \n",
      "예측 요약 :  goa cm parrikar visits aiims for medical check in andhra\n",
      "\n",
      "\n",
      "id: 1703\n",
      "원문 : actress ali recently revealed diagnosed cancer said wants get better welcome third children reason overcome cancer daughter three months pregnant due first week june added suffering stage ovarian cancer \n",
      "실제 요약 : have to get better to welcome on cancer diagnosis \n",
      "예측 요약 :  want to get married to cancer my parents\n",
      "\n",
      "\n",
      "id: 1704\n",
      "원문 : mumbai indians captain rohit sharma fined match fee showing dissent umpire decision match rising pune supergiant ipl monday game final rohit approached umpire signalling wide jaydev unadkat delivery rohit dismissed next ball \n",
      "실제 요약 : rohit sharma fined of his match fee for showing dissent \n",
      "예측 요약 :  rohit sharma gets off handed catch for his own game\n",
      "\n",
      "\n",
      "id: 1705\n",
      "원문 : former england chelsea football captain john terry picture statutory warning packs cigarette brand gold india terry posted picture pack instagram stories saying hates smoking earlier terry taken legal action company usage image \n",
      "실제 요약 : ex england captain pic on indian cigarette packs \n",
      "예측 요약 :  former footballer offers lakh to player who asked him\n",
      "\n",
      "\n",
      "id: 1706\n",
      "원문 : ex employee former turing pharmaceuticals ceo martin shkreli hedge fund testified shkreli sent letter wife said hope see four children homeless accusing ex employee stealing million shkreli letter said making enemy mistake \n",
      "실제 요약 : hope to see you homeless shkreli to ex employee family \n",
      "예측 요약 :  ex google ceo accused of sexual harassment\n",
      "\n",
      "\n",
      "id: 1707\n",
      "원문 : police odisha said english lecturer responsible bomb sent wedding gift couple wedding bomb killed groom relative left bride injured police suspect held grudge groom mother replacing principal private college \n",
      "실제 요약 : prof sent wedding gift bomb that killed groom odisha police \n",
      "예측 요약 :  police officer wedding in attack on road for not attack\n",
      "\n",
      "\n",
      "id: 1708\n",
      "원문 : congress president rahul gandhi claimed minimum support price hike announced pm narendra modi led centre like applying band aid massive comparing crore hike crore indian farmers crore small loan waivers karnataka farmers gandhi suggested two schemes show difference marketing action \n",
      "실제 요약 : centre crop price hike like band aid on rahul \n",
      "예측 요약 :  pm modi announces crore loan for loans in gujarat\n",
      "\n",
      "\n",
      "id: 1709\n",
      "원문 : wild elephant swept away flood waters saved officials kerala dam shut gates two hours climbed rocky terrain could move water engulfed sides elephant tired water controlled save said forest official nn \n",
      "실제 요약 : dam gates closed to rescue elephant in flood hit kerala \n",
      "예측 요약 :  kerala floods rescue floods in flood relief\n",
      "\n",
      "\n"
     ]
    }
   ],
   "source": [
    "for i in range(1680, 1710):\n",
    "    print('id:', i)\n",
    "    print(\"원문 :\", seq2text(encoder_input_test[i]))\n",
    "    print(\"실제 요약 :\", seq2summary(decoder_input_test[i]))\n",
    "    print(\"예측 요약 :\", decode_sequence_penalty(encoder_input_test[i].reshape(1, text_max_len)))\n",
    "    print(\"\\n\")"
   ]
  },
  {
   "cell_type": "code",
   "execution_count": 65,
   "id": "1cee13e4",
   "metadata": {},
   "outputs": [],
   "source": [
    "def show_better_expectation(idx):\n",
    "    print(\"원문 :\", seq2text(encoder_input_test[idx]))\n",
    "    print(\"실제 요약 :\", seq2summary(decoder_input_test[idx]))\n",
    "    print(\"예측 요약(현행) :\", decode_sequence(encoder_input_test[idx].reshape(1, text_max_len)))\n",
    "    print(\"예측 요약(개선) :\", decode_sequence_penalty(encoder_input_test[idx].reshape(1, text_max_len)))\n",
    "    print(\"\\n\")"
   ]
  },
  {
   "cell_type": "code",
   "execution_count": 66,
   "id": "9dda3256",
   "metadata": {},
   "outputs": [
    {
     "name": "stdout",
     "output_type": "stream",
     "text": [
      "원문 : wild elephant swept away flood waters saved officials kerala dam shut gates two hours climbed rocky terrain could move water engulfed sides elephant tired water controlled save said forest official nn \n",
      "실제 요약 : dam gates closed to rescue elephant in flood hit kerala \n",
      "예측 요약(현행) :  kerala floods rescue rescue floods in kerala floods\n",
      "예측 요약(개선) :  kerala floods rescue floods in flood relief\n",
      "\n",
      "\n"
     ]
    }
   ],
   "source": [
    "show_better_expectation(1709)"
   ]
  },
  {
   "cell_type": "markdown",
   "id": "8f023a71",
   "metadata": {},
   "source": [
    "뭐라는건지 모르겠다. 단어는 맞게나왔다."
   ]
  },
  {
   "cell_type": "markdown",
   "id": "930c579e",
   "metadata": {},
   "source": [
    "# 추출적 요약 해보기"
   ]
  },
  {
   "cell_type": "code",
   "execution_count": 67,
   "id": "2d97eb56",
   "metadata": {},
   "outputs": [],
   "source": [
    "data4 = pd.read_csv('news_summary_more.csv', encoding='iso-8859-1')"
   ]
  },
  {
   "cell_type": "code",
   "execution_count": 68,
   "id": "e5018165",
   "metadata": {},
   "outputs": [],
   "source": [
    "data4 = data4[['text', 'headlines']]\n",
    "data4.rename(columns = {'text': 'Text', 'headlines': 'Summary'}, inplace = True)"
   ]
  },
  {
   "cell_type": "code",
   "execution_count": 69,
   "id": "9e4be8ee",
   "metadata": {},
   "outputs": [],
   "source": [
    "import requests\n",
    "from summa.summarizer import summarize"
   ]
  },
  {
   "cell_type": "code",
   "execution_count": 70,
   "id": "798f56c8",
   "metadata": {},
   "outputs": [
    {
     "name": "stdout",
     "output_type": "stream",
     "text": [
      "Summary:\n",
      "Users get one CRED coin per rupee of bill paid, which can be used to avail rewards from brands like Ixigo, BookMyShow, UberEats, Cult.Fit and more.\n"
     ]
    }
   ],
   "source": [
    "print('Summary:')\n",
    "print(summarize(data4['Text'].apply(str).iloc[1], ratio=0.4))"
   ]
  },
  {
   "cell_type": "code",
   "execution_count": 71,
   "id": "45c83c55",
   "metadata": {},
   "outputs": [
    {
     "data": {
      "text/plain": [
       "\"Kunal Shah's credit card bill payment platform, CRED, gave users a chance to win free food from Swiggy for one year. Pranav Kaushik, a Delhi techie, bagged this reward after spending 2000 CRED coins. Users get one CRED coin per rupee of bill paid, which can be used to avail rewards from brands like Ixigo, BookMyShow, UberEats, Cult.Fit and more.\""
      ]
     },
     "execution_count": 71,
     "metadata": {},
     "output_type": "execute_result"
    }
   ],
   "source": [
    "data4['Text'].apply(str).iloc[1]"
   ]
  },
  {
   "cell_type": "code",
   "execution_count": 72,
   "id": "7d93807b",
   "metadata": {},
   "outputs": [],
   "source": [
    "def summarize_news(idx):\n",
    "    for i in idx:\n",
    "        print('원문\\n',data4['Text'].apply(str).iloc[i], '\\n')\n",
    "        print('요약\\n',summarize(data4['Text'].apply(str).iloc[i], ratio=0.4),'\\n\\n')\n",
    "        print('======================================================================================')"
   ]
  },
  {
   "cell_type": "code",
   "execution_count": 73,
   "id": "1e7b495f",
   "metadata": {},
   "outputs": [
    {
     "name": "stdout",
     "output_type": "stream",
     "text": [
      "원문\n",
      " Italian third division football side Lucchese's head coach Giancarlo Favarin has been banned for five months for headbutting Alessandria's assistant coach Gaetano Mancino during a brawl following the teams' 2-2 draw on Sunday. Mancino was caught off-balance and knocked to the ground after the headbutt. Earlier in the match, Favarin had told his own player to break an opponent's legs. \n",
      "\n",
      "요약\n",
      " Italian third division football side Lucchese's head coach Giancarlo Favarin has been banned for five months for headbutting Alessandria's assistant coach Gaetano Mancino during a brawl following the teams' 2-2 draw on Sunday. \n",
      "\n",
      "\n",
      "======================================================================================\n",
      "원문\n",
      " The death toll from the mine dam collapse in Brazil last week has risen to 58 and more than 300 others are still missing, authorities said. The dam break caused a sea of muddy sludge to bury the cafeteria at the iron-ore mine where workers were eating lunch, before engulfing nearby houses, vehicles and roads. \n",
      "\n",
      "요약\n",
      "  \n",
      "\n",
      "\n",
      "======================================================================================\n",
      "원문\n",
      " Road Transport Minister Nitin Gadkari on Saturday said the leadership should have the tendency to own up to defeat and failures, adding that loyalty towards the organisation is not proved until one takes responsibility for defeat. \"Success has many fathers but failure is an orphan,\" he added. Gadkari's remarks come days after BJP lost Assembly elections in three states. \n",
      "\n",
      "요약\n",
      " Road Transport Minister Nitin Gadkari on Saturday said the leadership should have the tendency to own up to defeat and failures, adding that loyalty towards the organisation is not proved until one takes responsibility for defeat. \n",
      "\n",
      "\n",
      "======================================================================================\n",
      "원문\n",
      " Indian cricket team coach Ravi Shastri hoisted the Indian tricolour alongside captain Virat Kohli and the rest of the squad in a London hotel on the occasion of the 72nd Indian Independence Day. The team was seen standing in a formation around the flag, while Shastri and Kohli were seen standing together beside the hoisted tricolour. \n",
      "\n",
      "요약\n",
      "  \n",
      "\n",
      "\n",
      "======================================================================================\n",
      "원문\n",
      " Rohit Sharma became the first cricketer in ODI history to score three double hundreds after slamming 208*(153) against Sri Lanka today. Sharma slammed 12 sixes during his knock, taking his tally to 45 sixes in 2017, most for an Indian batsman in a calendar year. With his fifth 150+ score, Sharma also equalled record of most 150+ scores in ODIs.   \n",
      "\n",
      "요약\n",
      " Rohit Sharma became the first cricketer in ODI history to score three double hundreds after slamming 208*(153) against Sri Lanka today. \n",
      "\n",
      "\n",
      "======================================================================================\n"
     ]
    }
   ],
   "source": [
    "summarize_news([30, 400, 5060, 21454, 56645])"
   ]
  },
  {
   "cell_type": "code",
   "execution_count": 74,
   "id": "a5424768",
   "metadata": {},
   "outputs": [],
   "source": [
    "def summarize_news(idx):\n",
    "    for i in idx:\n",
    "        print('원문\\n',data4['Text'].apply(str).iloc[i], '\\n')\n",
    "        print('요약\\n',summarize(data4['Text'].apply(str).iloc[i], ratio=0.05 ),'\\n\\n')\n",
    "        print('======================================================================================')"
   ]
  },
  {
   "cell_type": "code",
   "execution_count": 75,
   "id": "ea6d1f27",
   "metadata": {},
   "outputs": [
    {
     "name": "stdout",
     "output_type": "stream",
     "text": [
      "원문\n",
      " Italian third division football side Lucchese's head coach Giancarlo Favarin has been banned for five months for headbutting Alessandria's assistant coach Gaetano Mancino during a brawl following the teams' 2-2 draw on Sunday. Mancino was caught off-balance and knocked to the ground after the headbutt. Earlier in the match, Favarin had told his own player to break an opponent's legs. \n",
      "\n",
      "요약\n",
      "  \n",
      "\n",
      "\n",
      "======================================================================================\n",
      "원문\n",
      " The death toll from the mine dam collapse in Brazil last week has risen to 58 and more than 300 others are still missing, authorities said. The dam break caused a sea of muddy sludge to bury the cafeteria at the iron-ore mine where workers were eating lunch, before engulfing nearby houses, vehicles and roads. \n",
      "\n",
      "요약\n",
      "  \n",
      "\n",
      "\n",
      "======================================================================================\n",
      "원문\n",
      " Road Transport Minister Nitin Gadkari on Saturday said the leadership should have the tendency to own up to defeat and failures, adding that loyalty towards the organisation is not proved until one takes responsibility for defeat. \"Success has many fathers but failure is an orphan,\" he added. Gadkari's remarks come days after BJP lost Assembly elections in three states. \n",
      "\n",
      "요약\n",
      "  \n",
      "\n",
      "\n",
      "======================================================================================\n",
      "원문\n",
      " Indian cricket team coach Ravi Shastri hoisted the Indian tricolour alongside captain Virat Kohli and the rest of the squad in a London hotel on the occasion of the 72nd Indian Independence Day. The team was seen standing in a formation around the flag, while Shastri and Kohli were seen standing together beside the hoisted tricolour. \n",
      "\n",
      "요약\n",
      "  \n",
      "\n",
      "\n",
      "======================================================================================\n",
      "원문\n",
      " Rohit Sharma became the first cricketer in ODI history to score three double hundreds after slamming 208*(153) against Sri Lanka today. Sharma slammed 12 sixes during his knock, taking his tally to 45 sixes in 2017, most for an Indian batsman in a calendar year. With his fifth 150+ score, Sharma also equalled record of most 150+ scores in ODIs.   \n",
      "\n",
      "요약\n",
      "  \n",
      "\n",
      "\n",
      "======================================================================================\n"
     ]
    }
   ],
   "source": [
    "summarize_news([30, 400, 5060, 21454, 56645])"
   ]
  },
  {
   "cell_type": "markdown",
   "id": "e4d121af",
   "metadata": {},
   "source": [
    "ratio를 줄이니 원본에 가깝게 나왔다."
   ]
  },
  {
   "cell_type": "code",
   "execution_count": 76,
   "id": "c2742df5",
   "metadata": {},
   "outputs": [],
   "source": [
    "def summarize_news(idx):\n",
    "    for i in idx:\n",
    "        print('원문\\n',data4['Text'].apply(str).iloc[i], '\\n')\n",
    "        print('요약\\n',summarize(data4['Text'].apply(str).iloc[i], ratio=0.3, words=10),'\\n\\n')\n",
    "        print('======================================================================================')"
   ]
  },
  {
   "cell_type": "code",
   "execution_count": 77,
   "id": "826e0dc0",
   "metadata": {},
   "outputs": [
    {
     "name": "stdout",
     "output_type": "stream",
     "text": [
      "원문\n",
      " Italian third division football side Lucchese's head coach Giancarlo Favarin has been banned for five months for headbutting Alessandria's assistant coach Gaetano Mancino during a brawl following the teams' 2-2 draw on Sunday. Mancino was caught off-balance and knocked to the ground after the headbutt. Earlier in the match, Favarin had told his own player to break an opponent's legs. \n",
      "\n",
      "요약\n",
      "  \n",
      "\n",
      "\n",
      "======================================================================================\n",
      "원문\n",
      " The death toll from the mine dam collapse in Brazil last week has risen to 58 and more than 300 others are still missing, authorities said. The dam break caused a sea of muddy sludge to bury the cafeteria at the iron-ore mine where workers were eating lunch, before engulfing nearby houses, vehicles and roads. \n",
      "\n",
      "요약\n",
      "  \n",
      "\n",
      "\n",
      "======================================================================================\n",
      "원문\n",
      " Road Transport Minister Nitin Gadkari on Saturday said the leadership should have the tendency to own up to defeat and failures, adding that loyalty towards the organisation is not proved until one takes responsibility for defeat. \"Success has many fathers but failure is an orphan,\" he added. Gadkari's remarks come days after BJP lost Assembly elections in three states. \n",
      "\n",
      "요약\n",
      "  \n",
      "\n",
      "\n",
      "======================================================================================\n",
      "원문\n",
      " Indian cricket team coach Ravi Shastri hoisted the Indian tricolour alongside captain Virat Kohli and the rest of the squad in a London hotel on the occasion of the 72nd Indian Independence Day. The team was seen standing in a formation around the flag, while Shastri and Kohli were seen standing together beside the hoisted tricolour. \n",
      "\n",
      "요약\n",
      "  \n",
      "\n",
      "\n",
      "======================================================================================\n",
      "원문\n",
      " Rohit Sharma became the first cricketer in ODI history to score three double hundreds after slamming 208*(153) against Sri Lanka today. Sharma slammed 12 sixes during his knock, taking his tally to 45 sixes in 2017, most for an Indian batsman in a calendar year. With his fifth 150+ score, Sharma also equalled record of most 150+ scores in ODIs.   \n",
      "\n",
      "요약\n",
      "  \n",
      "\n",
      "\n",
      "======================================================================================\n"
     ]
    }
   ],
   "source": [
    "summarize_news([30, 400, 5060, 21454, 56645])"
   ]
  },
  {
   "cell_type": "code",
   "execution_count": 78,
   "id": "bbb082f4",
   "metadata": {},
   "outputs": [],
   "source": [
    "def summarize_news(idx):\n",
    "    for i in idx:\n",
    "        print('원문\\n',data4['Text'].apply(str).iloc[i], '\\n')\n",
    "        print('요약\\n',summarize(data4['Text'].apply(str).iloc[i], ratio=0.7),'\\n\\n')\n",
    "        print('======================================================================================')"
   ]
  },
  {
   "cell_type": "code",
   "execution_count": 79,
   "id": "e547b50d",
   "metadata": {},
   "outputs": [
    {
     "name": "stdout",
     "output_type": "stream",
     "text": [
      "원문\n",
      " Italian third division football side Lucchese's head coach Giancarlo Favarin has been banned for five months for headbutting Alessandria's assistant coach Gaetano Mancino during a brawl following the teams' 2-2 draw on Sunday. Mancino was caught off-balance and knocked to the ground after the headbutt. Earlier in the match, Favarin had told his own player to break an opponent's legs. \n",
      "\n",
      "요약\n",
      " Italian third division football side Lucchese's head coach Giancarlo Favarin has been banned for five months for headbutting Alessandria's assistant coach Gaetano Mancino during a brawl following the teams' 2-2 draw on Sunday.\n",
      "Mancino was caught off-balance and knocked to the ground after the headbutt. \n",
      "\n",
      "\n",
      "======================================================================================\n",
      "원문\n",
      " The death toll from the mine dam collapse in Brazil last week has risen to 58 and more than 300 others are still missing, authorities said. The dam break caused a sea of muddy sludge to bury the cafeteria at the iron-ore mine where workers were eating lunch, before engulfing nearby houses, vehicles and roads. \n",
      "\n",
      "요약\n",
      " The death toll from the mine dam collapse in Brazil last week has risen to 58 and more than 300 others are still missing, authorities said. \n",
      "\n",
      "\n",
      "======================================================================================\n",
      "원문\n",
      " Road Transport Minister Nitin Gadkari on Saturday said the leadership should have the tendency to own up to defeat and failures, adding that loyalty towards the organisation is not proved until one takes responsibility for defeat. \"Success has many fathers but failure is an orphan,\" he added. Gadkari's remarks come days after BJP lost Assembly elections in three states. \n",
      "\n",
      "요약\n",
      " Road Transport Minister Nitin Gadkari on Saturday said the leadership should have the tendency to own up to defeat and failures, adding that loyalty towards the organisation is not proved until one takes responsibility for defeat.\n",
      "\"Success has many fathers but failure is an orphan,\" he added. \n",
      "\n",
      "\n",
      "======================================================================================\n",
      "원문\n",
      " Indian cricket team coach Ravi Shastri hoisted the Indian tricolour alongside captain Virat Kohli and the rest of the squad in a London hotel on the occasion of the 72nd Indian Independence Day. The team was seen standing in a formation around the flag, while Shastri and Kohli were seen standing together beside the hoisted tricolour. \n",
      "\n",
      "요약\n",
      "  \n",
      "\n",
      "\n",
      "======================================================================================\n",
      "원문\n",
      " Rohit Sharma became the first cricketer in ODI history to score three double hundreds after slamming 208*(153) against Sri Lanka today. Sharma slammed 12 sixes during his knock, taking his tally to 45 sixes in 2017, most for an Indian batsman in a calendar year. With his fifth 150+ score, Sharma also equalled record of most 150+ scores in ODIs.   \n",
      "\n",
      "요약\n",
      " Rohit Sharma became the first cricketer in ODI history to score three double hundreds after slamming 208*(153) against Sri Lanka today.\n",
      "With his fifth 150+ score, Sharma also equalled record of most 150+ scores in ODIs. \n",
      "\n",
      "\n",
      "======================================================================================\n"
     ]
    }
   ],
   "source": [
    "summarize_news([30, 400, 5060, 21454, 56645])"
   ]
  },
  {
   "cell_type": "markdown",
   "id": "28863ffd",
   "metadata": {},
   "source": [
    "summarize 함수를 썻을때 첫문장 과 끝문장만 출력되는 느낌을 받았다."
   ]
  },
  {
   "cell_type": "markdown",
   "id": "b68c645d",
   "metadata": {},
   "source": [
    "# 회고\n",
    "불용어에서 의미를 추출해 낼 수 있는 단어는 제외하고, 여러 전처리 방법을 통해 추출적 요약에서 의미있는 결과를 얻었다. inference mode를 수정하여 동어반복을 해결헀다\n",
    "\n",
    "이 방식으로 제대로 된 요약을 하려면, 임베딩이 잘 되어있는 것이 매우 중요하고, 특히 뉴스의 경우, 빈도수가 작은 단어도 포함시켜야 할 것 같다.\n",
    "\n",
    "\n",
    "요약을 하는방법은 신기했고, 그중 흥미로운것을 뽑자면\n",
    "\n",
    "원문 : english premier league side chelsea want send racist supporters trips attend educational courses nazi concentration camp poland instead imposing bans club owner roman jewish reportedly behind new initiative new initiative designed tackle among fans \n",
    "실제 요약 : chelsea to send racist fans on nazi camp trips instead of ban \n",
    "예측 요약 :  pl pl chelsea footballer to give nazi\n",
    "\n",
    "이었다.\n",
    "\n",
    "요약을 이상하게 했었는데, 첼시 팬은 없고, 첼시 선수가 간걸로 요약이됬다. 흔한 가짜뉴스가 만들어졌다. 이런걸로 코드를 짜서, 가짜뉴스를 만들면 세상이 혼란할수도 있겠다는 생각이 들었다.\n",
    "\n",
    "요약을 정말 잘하고싶었지만, 역시 힘들었고, 모델의 설계또한 학습이 오래걸려서 섣불리 건들기 어려웠다. \n",
    "\n",
    "아직은 요약봇이 유의미한 상승세가 없다는 걸 깨달았다.\n",
    "\n",
    "좀더 공부하도록하자."
   ]
  }
 ],
 "metadata": {
  "kernelspec": {
   "display_name": "Python 3 (ipykernel)",
   "language": "python",
   "name": "python3"
  },
  "language_info": {
   "codemirror_mode": {
    "name": "ipython",
    "version": 3
   },
   "file_extension": ".py",
   "mimetype": "text/x-python",
   "name": "python",
   "nbconvert_exporter": "python",
   "pygments_lexer": "ipython3",
   "version": "3.9.7"
  }
 },
 "nbformat": 4,
 "nbformat_minor": 5
}
