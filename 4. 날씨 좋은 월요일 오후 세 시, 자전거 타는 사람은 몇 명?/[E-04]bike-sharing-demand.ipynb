{
 "cells": [
  {
   "cell_type": "code",
   "execution_count": 48,
   "id": "711e2d7b",
   "metadata": {},
   "outputs": [],
   "source": [
    "# 라이브러리 불러오기\n",
    "import pandas as pd\n",
    "import matplotlib.pyplot as plt\n",
    "import seaborn as sns\n",
    "import numpy as np"
   ]
  },
  {
   "cell_type": "code",
   "execution_count": 49,
   "id": "d6fddc86",
   "metadata": {},
   "outputs": [
    {
     "name": "stdout",
     "output_type": "stream",
     "text": [
      "Requirement already satisfied: koreanize-matplotlib in /opt/conda/lib/python3.9/site-packages (0.0.1)\n",
      "Requirement already satisfied: matplotlib in /opt/conda/lib/python3.9/site-packages (from koreanize-matplotlib) (3.4.3)\n",
      "Requirement already satisfied: pyparsing>=2.2.1 in /opt/conda/lib/python3.9/site-packages (from matplotlib->koreanize-matplotlib) (3.0.7)\n",
      "Requirement already satisfied: python-dateutil>=2.7 in /opt/conda/lib/python3.9/site-packages (from matplotlib->koreanize-matplotlib) (2.8.2)\n",
      "Requirement already satisfied: cycler>=0.10 in /opt/conda/lib/python3.9/site-packages (from matplotlib->koreanize-matplotlib) (0.11.0)\n",
      "Requirement already satisfied: numpy>=1.16 in /opt/conda/lib/python3.9/site-packages (from matplotlib->koreanize-matplotlib) (1.22.2)\n",
      "Requirement already satisfied: kiwisolver>=1.0.1 in /opt/conda/lib/python3.9/site-packages (from matplotlib->koreanize-matplotlib) (1.3.2)\n",
      "Requirement already satisfied: pillow>=6.2.0 in /opt/conda/lib/python3.9/site-packages (from matplotlib->koreanize-matplotlib) (8.3.2)\n",
      "Requirement already satisfied: six>=1.5 in /opt/conda/lib/python3.9/site-packages (from python-dateutil>=2.7->matplotlib->koreanize-matplotlib) (1.16.0)\n",
      "\u001b[33mWARNING: Running pip as the 'root' user can result in broken permissions and conflicting behaviour with the system package manager. It is recommended to use a virtual environment instead: https://pip.pypa.io/warnings/venv\u001b[0m\u001b[33m\n",
      "\u001b[0m"
     ]
    }
   ],
   "source": [
    "# matplib 한글폰트\n",
    "!pip install koreanize-matplotlib\n",
    "import koreanize_matplotlib"
   ]
  },
  {
   "cell_type": "markdown",
   "id": "b7816657",
   "metadata": {},
   "source": [
    "# (1) 데이터 가져오기\n",
    "* 터미널에서 ~/data/data/bike-sharing-demand 경로에 train.csv 데이터를 train 변수로 가져 옵니다.\n",
    "* 여기에서 데이터를 상세히 확인할 수 있습니다."
   ]
  },
  {
   "cell_type": "code",
   "execution_count": 50,
   "id": "1e792a06",
   "metadata": {},
   "outputs": [
    {
     "data": {
      "text/plain": [
       "(10886, 12)"
      ]
     },
     "execution_count": 50,
     "metadata": {},
     "output_type": "execute_result"
    }
   ],
   "source": [
    "train = pd.read_csv('~/data/data/bike-sharing-demand/train.csv')\n",
    "#데이터 train 데이터로 설정\n",
    "train.shape"
   ]
  },
  {
   "cell_type": "code",
   "execution_count": 51,
   "id": "3ad4323c",
   "metadata": {},
   "outputs": [
    {
     "data": {
      "text/html": [
       "<div>\n",
       "<style scoped>\n",
       "    .dataframe tbody tr th:only-of-type {\n",
       "        vertical-align: middle;\n",
       "    }\n",
       "\n",
       "    .dataframe tbody tr th {\n",
       "        vertical-align: top;\n",
       "    }\n",
       "\n",
       "    .dataframe thead th {\n",
       "        text-align: right;\n",
       "    }\n",
       "</style>\n",
       "<table border=\"1\" class=\"dataframe\">\n",
       "  <thead>\n",
       "    <tr style=\"text-align: right;\">\n",
       "      <th></th>\n",
       "      <th>datetime</th>\n",
       "      <th>season</th>\n",
       "      <th>holiday</th>\n",
       "      <th>workingday</th>\n",
       "      <th>weather</th>\n",
       "      <th>temp</th>\n",
       "      <th>atemp</th>\n",
       "      <th>humidity</th>\n",
       "      <th>windspeed</th>\n",
       "      <th>casual</th>\n",
       "      <th>registered</th>\n",
       "      <th>count</th>\n",
       "    </tr>\n",
       "  </thead>\n",
       "  <tbody>\n",
       "    <tr>\n",
       "      <th>0</th>\n",
       "      <td>2011-01-01 00:00:00</td>\n",
       "      <td>1</td>\n",
       "      <td>0</td>\n",
       "      <td>0</td>\n",
       "      <td>1</td>\n",
       "      <td>9.84</td>\n",
       "      <td>14.395</td>\n",
       "      <td>81</td>\n",
       "      <td>0.0</td>\n",
       "      <td>3</td>\n",
       "      <td>13</td>\n",
       "      <td>16</td>\n",
       "    </tr>\n",
       "    <tr>\n",
       "      <th>1</th>\n",
       "      <td>2011-01-01 01:00:00</td>\n",
       "      <td>1</td>\n",
       "      <td>0</td>\n",
       "      <td>0</td>\n",
       "      <td>1</td>\n",
       "      <td>9.02</td>\n",
       "      <td>13.635</td>\n",
       "      <td>80</td>\n",
       "      <td>0.0</td>\n",
       "      <td>8</td>\n",
       "      <td>32</td>\n",
       "      <td>40</td>\n",
       "    </tr>\n",
       "    <tr>\n",
       "      <th>2</th>\n",
       "      <td>2011-01-01 02:00:00</td>\n",
       "      <td>1</td>\n",
       "      <td>0</td>\n",
       "      <td>0</td>\n",
       "      <td>1</td>\n",
       "      <td>9.02</td>\n",
       "      <td>13.635</td>\n",
       "      <td>80</td>\n",
       "      <td>0.0</td>\n",
       "      <td>5</td>\n",
       "      <td>27</td>\n",
       "      <td>32</td>\n",
       "    </tr>\n",
       "    <tr>\n",
       "      <th>3</th>\n",
       "      <td>2011-01-01 03:00:00</td>\n",
       "      <td>1</td>\n",
       "      <td>0</td>\n",
       "      <td>0</td>\n",
       "      <td>1</td>\n",
       "      <td>9.84</td>\n",
       "      <td>14.395</td>\n",
       "      <td>75</td>\n",
       "      <td>0.0</td>\n",
       "      <td>3</td>\n",
       "      <td>10</td>\n",
       "      <td>13</td>\n",
       "    </tr>\n",
       "    <tr>\n",
       "      <th>4</th>\n",
       "      <td>2011-01-01 04:00:00</td>\n",
       "      <td>1</td>\n",
       "      <td>0</td>\n",
       "      <td>0</td>\n",
       "      <td>1</td>\n",
       "      <td>9.84</td>\n",
       "      <td>14.395</td>\n",
       "      <td>75</td>\n",
       "      <td>0.0</td>\n",
       "      <td>0</td>\n",
       "      <td>1</td>\n",
       "      <td>1</td>\n",
       "    </tr>\n",
       "  </tbody>\n",
       "</table>\n",
       "</div>"
      ],
      "text/plain": [
       "              datetime  season  holiday  workingday  weather  temp   atemp  \\\n",
       "0  2011-01-01 00:00:00       1        0           0        1  9.84  14.395   \n",
       "1  2011-01-01 01:00:00       1        0           0        1  9.02  13.635   \n",
       "2  2011-01-01 02:00:00       1        0           0        1  9.02  13.635   \n",
       "3  2011-01-01 03:00:00       1        0           0        1  9.84  14.395   \n",
       "4  2011-01-01 04:00:00       1        0           0        1  9.84  14.395   \n",
       "\n",
       "   humidity  windspeed  casual  registered  count  \n",
       "0        81        0.0       3          13     16  \n",
       "1        80        0.0       8          32     40  \n",
       "2        80        0.0       5          27     32  \n",
       "3        75        0.0       3          10     13  \n",
       "4        75        0.0       0           1      1  "
      ]
     },
     "execution_count": 51,
     "metadata": {},
     "output_type": "execute_result"
    }
   ],
   "source": [
    "#train 정보확인\n",
    "train.head()"
   ]
  },
  {
   "cell_type": "markdown",
   "id": "50c6285a",
   "metadata": {},
   "source": [
    "# (2) datetime 컬럼을 datetime 자료형으로 변환하고 연, 월, 일, 시, 분, 초까지 6가지 컬럼 생성하기\n",
    "* to_datetime 활용 : https://pandas.pydata.org/pandas-docs/stable/reference/api/pandas.to_datetime.html#pandas.to_datetime 참조\n",
    "* pandas datetime extract year month day 키워드로 검색해 보기"
   ]
  },
  {
   "cell_type": "code",
   "execution_count": 52,
   "id": "d928a585",
   "metadata": {},
   "outputs": [
    {
     "data": {
      "text/plain": [
       "0        2011-01-01 00:00:00\n",
       "1        2011-01-01 01:00:00\n",
       "2        2011-01-01 02:00:00\n",
       "3        2011-01-01 03:00:00\n",
       "4        2011-01-01 04:00:00\n",
       "                ...         \n",
       "10881    2012-12-19 19:00:00\n",
       "10882    2012-12-19 20:00:00\n",
       "10883    2012-12-19 21:00:00\n",
       "10884    2012-12-19 22:00:00\n",
       "10885    2012-12-19 23:00:00\n",
       "Name: datetime, Length: 10886, dtype: object"
      ]
     },
     "execution_count": 52,
     "metadata": {},
     "output_type": "execute_result"
    }
   ],
   "source": [
    "train['datetime']"
   ]
  },
  {
   "cell_type": "code",
   "execution_count": 53,
   "id": "087c46ad",
   "metadata": {},
   "outputs": [],
   "source": [
    "train['datetime'] = pd.to_datetime(train['datetime'])"
   ]
  },
  {
   "cell_type": "code",
   "execution_count": 54,
   "id": "7df0976d",
   "metadata": {},
   "outputs": [
    {
     "data": {
      "text/plain": [
       "0       2011-01-01 00:00:00\n",
       "1       2011-01-01 01:00:00\n",
       "2       2011-01-01 02:00:00\n",
       "3       2011-01-01 03:00:00\n",
       "4       2011-01-01 04:00:00\n",
       "                ...        \n",
       "10881   2012-12-19 19:00:00\n",
       "10882   2012-12-19 20:00:00\n",
       "10883   2012-12-19 21:00:00\n",
       "10884   2012-12-19 22:00:00\n",
       "10885   2012-12-19 23:00:00\n",
       "Name: datetime, Length: 10886, dtype: datetime64[ns]"
      ]
     },
     "execution_count": 54,
     "metadata": {},
     "output_type": "execute_result"
    }
   ],
   "source": [
    "# pd.to_datetime() 함수를 사용하여 시간 형식의 object 자료형 column을 datetime 형식으로 손쉽게 바꿀 수 있습니다.\n",
    "train['datetime']"
   ]
  },
  {
   "cell_type": "code",
   "execution_count": 55,
   "id": "19917889",
   "metadata": {},
   "outputs": [
    {
     "data": {
      "text/plain": [
       "0        2011\n",
       "1        2011\n",
       "2        2011\n",
       "3        2011\n",
       "4        2011\n",
       "         ... \n",
       "10881    2012\n",
       "10882    2012\n",
       "10883    2012\n",
       "10884    2012\n",
       "10885    2012\n",
       "Name: Year, Length: 10886, dtype: int64"
      ]
     },
     "execution_count": 55,
     "metadata": {},
     "output_type": "execute_result"
    }
   ],
   "source": [
    "#year 칼럼 생성\n",
    "train['Year'] = train['datetime'].dt.year \n",
    "train['Year']"
   ]
  },
  {
   "cell_type": "code",
   "execution_count": 56,
   "id": "d85d2be9",
   "metadata": {},
   "outputs": [
    {
     "data": {
      "text/plain": [
       "0         1\n",
       "1         1\n",
       "2         1\n",
       "3         1\n",
       "4         1\n",
       "         ..\n",
       "10881    12\n",
       "10882    12\n",
       "10883    12\n",
       "10884    12\n",
       "10885    12\n",
       "Name: Month, Length: 10886, dtype: int64"
      ]
     },
     "execution_count": 56,
     "metadata": {},
     "output_type": "execute_result"
    }
   ],
   "source": [
    "# 월 칼럼 생성\n",
    "train['Month'] = train['datetime'].dt.month\n",
    "train['Month']"
   ]
  },
  {
   "cell_type": "code",
   "execution_count": 57,
   "id": "5bd3ea70",
   "metadata": {},
   "outputs": [
    {
     "data": {
      "text/plain": [
       "0         1\n",
       "1         1\n",
       "2         1\n",
       "3         1\n",
       "4         1\n",
       "         ..\n",
       "10881    19\n",
       "10882    19\n",
       "10883    19\n",
       "10884    19\n",
       "10885    19\n",
       "Name: Day, Length: 10886, dtype: int64"
      ]
     },
     "execution_count": 57,
     "metadata": {},
     "output_type": "execute_result"
    }
   ],
   "source": [
    "# 일 칼럼 생성\n",
    "train['Day'] = train['datetime'].dt.day\n",
    "train['Day']"
   ]
  },
  {
   "cell_type": "code",
   "execution_count": 58,
   "id": "049997cc",
   "metadata": {},
   "outputs": [
    {
     "data": {
      "text/plain": [
       "0         0\n",
       "1         1\n",
       "2         2\n",
       "3         3\n",
       "4         4\n",
       "         ..\n",
       "10881    19\n",
       "10882    20\n",
       "10883    21\n",
       "10884    22\n",
       "10885    23\n",
       "Name: Hour, Length: 10886, dtype: int64"
      ]
     },
     "execution_count": 58,
     "metadata": {},
     "output_type": "execute_result"
    }
   ],
   "source": [
    "# 시 칼럼 생성\n",
    "train['Hour'] = train['datetime'].dt.hour\n",
    "train['Hour']"
   ]
  },
  {
   "cell_type": "code",
   "execution_count": 59,
   "id": "0562acea",
   "metadata": {},
   "outputs": [
    {
     "data": {
      "text/plain": [
       "0        0\n",
       "1        0\n",
       "2        0\n",
       "3        0\n",
       "4        0\n",
       "        ..\n",
       "10881    0\n",
       "10882    0\n",
       "10883    0\n",
       "10884    0\n",
       "10885    0\n",
       "Name: Minute, Length: 10886, dtype: int64"
      ]
     },
     "execution_count": 59,
     "metadata": {},
     "output_type": "execute_result"
    }
   ],
   "source": [
    "# 분 칼럼 생성\n",
    "train['Minute'] = train['datetime'].dt.minute\n",
    "train['Minute']"
   ]
  },
  {
   "cell_type": "code",
   "execution_count": 60,
   "id": "98bcbcb8",
   "metadata": {},
   "outputs": [
    {
     "data": {
      "text/plain": [
       "0        0\n",
       "1        0\n",
       "2        0\n",
       "3        0\n",
       "4        0\n",
       "        ..\n",
       "10881    0\n",
       "10882    0\n",
       "10883    0\n",
       "10884    0\n",
       "10885    0\n",
       "Name: Second, Length: 10886, dtype: int64"
      ]
     },
     "execution_count": 60,
     "metadata": {},
     "output_type": "execute_result"
    }
   ],
   "source": [
    "# 초 칼럼 생성\n",
    "train['Second'] = train['datetime'].dt.second\n",
    "train['Second']"
   ]
  },
  {
   "cell_type": "code",
   "execution_count": 61,
   "id": "d2248249",
   "metadata": {},
   "outputs": [],
   "source": [
    "#  어떤 요일인지 확인\n",
    "#  print(\"\\nWeekday:\")\n",
    "#  print(df.Date_time.dt.weekday_name.head())"
   ]
  },
  {
   "cell_type": "markdown",
   "id": "66905de3",
   "metadata": {},
   "source": [
    "# (3) year, month, day, hour, minute, second 데이터 개수 시각화하기\n",
    " * sns.countplot 활용해서 시각화하기\n",
    " * subplot을 활용해서 한 번에 6개의 그래프 함께 시각화하기"
   ]
  },
  {
   "cell_type": "code",
   "execution_count": 62,
   "id": "a89545b1",
   "metadata": {},
   "outputs": [
    {
     "data": {
      "text/html": [
       "<div>\n",
       "<style scoped>\n",
       "    .dataframe tbody tr th:only-of-type {\n",
       "        vertical-align: middle;\n",
       "    }\n",
       "\n",
       "    .dataframe tbody tr th {\n",
       "        vertical-align: top;\n",
       "    }\n",
       "\n",
       "    .dataframe thead th {\n",
       "        text-align: right;\n",
       "    }\n",
       "</style>\n",
       "<table border=\"1\" class=\"dataframe\">\n",
       "  <thead>\n",
       "    <tr style=\"text-align: right;\">\n",
       "      <th></th>\n",
       "      <th>datetime</th>\n",
       "      <th>season</th>\n",
       "      <th>holiday</th>\n",
       "      <th>workingday</th>\n",
       "      <th>weather</th>\n",
       "      <th>temp</th>\n",
       "      <th>atemp</th>\n",
       "      <th>humidity</th>\n",
       "      <th>windspeed</th>\n",
       "      <th>casual</th>\n",
       "      <th>registered</th>\n",
       "      <th>count</th>\n",
       "      <th>Year</th>\n",
       "      <th>Month</th>\n",
       "      <th>Day</th>\n",
       "      <th>Hour</th>\n",
       "      <th>Minute</th>\n",
       "      <th>Second</th>\n",
       "    </tr>\n",
       "  </thead>\n",
       "  <tbody>\n",
       "    <tr>\n",
       "      <th>0</th>\n",
       "      <td>2011-01-01 00:00:00</td>\n",
       "      <td>1</td>\n",
       "      <td>0</td>\n",
       "      <td>0</td>\n",
       "      <td>1</td>\n",
       "      <td>9.84</td>\n",
       "      <td>14.395</td>\n",
       "      <td>81</td>\n",
       "      <td>0.0000</td>\n",
       "      <td>3</td>\n",
       "      <td>13</td>\n",
       "      <td>16</td>\n",
       "      <td>2011</td>\n",
       "      <td>1</td>\n",
       "      <td>1</td>\n",
       "      <td>0</td>\n",
       "      <td>0</td>\n",
       "      <td>0</td>\n",
       "    </tr>\n",
       "    <tr>\n",
       "      <th>1</th>\n",
       "      <td>2011-01-01 01:00:00</td>\n",
       "      <td>1</td>\n",
       "      <td>0</td>\n",
       "      <td>0</td>\n",
       "      <td>1</td>\n",
       "      <td>9.02</td>\n",
       "      <td>13.635</td>\n",
       "      <td>80</td>\n",
       "      <td>0.0000</td>\n",
       "      <td>8</td>\n",
       "      <td>32</td>\n",
       "      <td>40</td>\n",
       "      <td>2011</td>\n",
       "      <td>1</td>\n",
       "      <td>1</td>\n",
       "      <td>1</td>\n",
       "      <td>0</td>\n",
       "      <td>0</td>\n",
       "    </tr>\n",
       "    <tr>\n",
       "      <th>2</th>\n",
       "      <td>2011-01-01 02:00:00</td>\n",
       "      <td>1</td>\n",
       "      <td>0</td>\n",
       "      <td>0</td>\n",
       "      <td>1</td>\n",
       "      <td>9.02</td>\n",
       "      <td>13.635</td>\n",
       "      <td>80</td>\n",
       "      <td>0.0000</td>\n",
       "      <td>5</td>\n",
       "      <td>27</td>\n",
       "      <td>32</td>\n",
       "      <td>2011</td>\n",
       "      <td>1</td>\n",
       "      <td>1</td>\n",
       "      <td>2</td>\n",
       "      <td>0</td>\n",
       "      <td>0</td>\n",
       "    </tr>\n",
       "    <tr>\n",
       "      <th>3</th>\n",
       "      <td>2011-01-01 03:00:00</td>\n",
       "      <td>1</td>\n",
       "      <td>0</td>\n",
       "      <td>0</td>\n",
       "      <td>1</td>\n",
       "      <td>9.84</td>\n",
       "      <td>14.395</td>\n",
       "      <td>75</td>\n",
       "      <td>0.0000</td>\n",
       "      <td>3</td>\n",
       "      <td>10</td>\n",
       "      <td>13</td>\n",
       "      <td>2011</td>\n",
       "      <td>1</td>\n",
       "      <td>1</td>\n",
       "      <td>3</td>\n",
       "      <td>0</td>\n",
       "      <td>0</td>\n",
       "    </tr>\n",
       "    <tr>\n",
       "      <th>4</th>\n",
       "      <td>2011-01-01 04:00:00</td>\n",
       "      <td>1</td>\n",
       "      <td>0</td>\n",
       "      <td>0</td>\n",
       "      <td>1</td>\n",
       "      <td>9.84</td>\n",
       "      <td>14.395</td>\n",
       "      <td>75</td>\n",
       "      <td>0.0000</td>\n",
       "      <td>0</td>\n",
       "      <td>1</td>\n",
       "      <td>1</td>\n",
       "      <td>2011</td>\n",
       "      <td>1</td>\n",
       "      <td>1</td>\n",
       "      <td>4</td>\n",
       "      <td>0</td>\n",
       "      <td>0</td>\n",
       "    </tr>\n",
       "    <tr>\n",
       "      <th>...</th>\n",
       "      <td>...</td>\n",
       "      <td>...</td>\n",
       "      <td>...</td>\n",
       "      <td>...</td>\n",
       "      <td>...</td>\n",
       "      <td>...</td>\n",
       "      <td>...</td>\n",
       "      <td>...</td>\n",
       "      <td>...</td>\n",
       "      <td>...</td>\n",
       "      <td>...</td>\n",
       "      <td>...</td>\n",
       "      <td>...</td>\n",
       "      <td>...</td>\n",
       "      <td>...</td>\n",
       "      <td>...</td>\n",
       "      <td>...</td>\n",
       "      <td>...</td>\n",
       "    </tr>\n",
       "    <tr>\n",
       "      <th>10881</th>\n",
       "      <td>2012-12-19 19:00:00</td>\n",
       "      <td>4</td>\n",
       "      <td>0</td>\n",
       "      <td>1</td>\n",
       "      <td>1</td>\n",
       "      <td>15.58</td>\n",
       "      <td>19.695</td>\n",
       "      <td>50</td>\n",
       "      <td>26.0027</td>\n",
       "      <td>7</td>\n",
       "      <td>329</td>\n",
       "      <td>336</td>\n",
       "      <td>2012</td>\n",
       "      <td>12</td>\n",
       "      <td>19</td>\n",
       "      <td>19</td>\n",
       "      <td>0</td>\n",
       "      <td>0</td>\n",
       "    </tr>\n",
       "    <tr>\n",
       "      <th>10882</th>\n",
       "      <td>2012-12-19 20:00:00</td>\n",
       "      <td>4</td>\n",
       "      <td>0</td>\n",
       "      <td>1</td>\n",
       "      <td>1</td>\n",
       "      <td>14.76</td>\n",
       "      <td>17.425</td>\n",
       "      <td>57</td>\n",
       "      <td>15.0013</td>\n",
       "      <td>10</td>\n",
       "      <td>231</td>\n",
       "      <td>241</td>\n",
       "      <td>2012</td>\n",
       "      <td>12</td>\n",
       "      <td>19</td>\n",
       "      <td>20</td>\n",
       "      <td>0</td>\n",
       "      <td>0</td>\n",
       "    </tr>\n",
       "    <tr>\n",
       "      <th>10883</th>\n",
       "      <td>2012-12-19 21:00:00</td>\n",
       "      <td>4</td>\n",
       "      <td>0</td>\n",
       "      <td>1</td>\n",
       "      <td>1</td>\n",
       "      <td>13.94</td>\n",
       "      <td>15.910</td>\n",
       "      <td>61</td>\n",
       "      <td>15.0013</td>\n",
       "      <td>4</td>\n",
       "      <td>164</td>\n",
       "      <td>168</td>\n",
       "      <td>2012</td>\n",
       "      <td>12</td>\n",
       "      <td>19</td>\n",
       "      <td>21</td>\n",
       "      <td>0</td>\n",
       "      <td>0</td>\n",
       "    </tr>\n",
       "    <tr>\n",
       "      <th>10884</th>\n",
       "      <td>2012-12-19 22:00:00</td>\n",
       "      <td>4</td>\n",
       "      <td>0</td>\n",
       "      <td>1</td>\n",
       "      <td>1</td>\n",
       "      <td>13.94</td>\n",
       "      <td>17.425</td>\n",
       "      <td>61</td>\n",
       "      <td>6.0032</td>\n",
       "      <td>12</td>\n",
       "      <td>117</td>\n",
       "      <td>129</td>\n",
       "      <td>2012</td>\n",
       "      <td>12</td>\n",
       "      <td>19</td>\n",
       "      <td>22</td>\n",
       "      <td>0</td>\n",
       "      <td>0</td>\n",
       "    </tr>\n",
       "    <tr>\n",
       "      <th>10885</th>\n",
       "      <td>2012-12-19 23:00:00</td>\n",
       "      <td>4</td>\n",
       "      <td>0</td>\n",
       "      <td>1</td>\n",
       "      <td>1</td>\n",
       "      <td>13.12</td>\n",
       "      <td>16.665</td>\n",
       "      <td>66</td>\n",
       "      <td>8.9981</td>\n",
       "      <td>4</td>\n",
       "      <td>84</td>\n",
       "      <td>88</td>\n",
       "      <td>2012</td>\n",
       "      <td>12</td>\n",
       "      <td>19</td>\n",
       "      <td>23</td>\n",
       "      <td>0</td>\n",
       "      <td>0</td>\n",
       "    </tr>\n",
       "  </tbody>\n",
       "</table>\n",
       "<p>10886 rows × 18 columns</p>\n",
       "</div>"
      ],
      "text/plain": [
       "                 datetime  season  holiday  workingday  weather   temp  \\\n",
       "0     2011-01-01 00:00:00       1        0           0        1   9.84   \n",
       "1     2011-01-01 01:00:00       1        0           0        1   9.02   \n",
       "2     2011-01-01 02:00:00       1        0           0        1   9.02   \n",
       "3     2011-01-01 03:00:00       1        0           0        1   9.84   \n",
       "4     2011-01-01 04:00:00       1        0           0        1   9.84   \n",
       "...                   ...     ...      ...         ...      ...    ...   \n",
       "10881 2012-12-19 19:00:00       4        0           1        1  15.58   \n",
       "10882 2012-12-19 20:00:00       4        0           1        1  14.76   \n",
       "10883 2012-12-19 21:00:00       4        0           1        1  13.94   \n",
       "10884 2012-12-19 22:00:00       4        0           1        1  13.94   \n",
       "10885 2012-12-19 23:00:00       4        0           1        1  13.12   \n",
       "\n",
       "        atemp  humidity  windspeed  casual  registered  count  Year  Month  \\\n",
       "0      14.395        81     0.0000       3          13     16  2011      1   \n",
       "1      13.635        80     0.0000       8          32     40  2011      1   \n",
       "2      13.635        80     0.0000       5          27     32  2011      1   \n",
       "3      14.395        75     0.0000       3          10     13  2011      1   \n",
       "4      14.395        75     0.0000       0           1      1  2011      1   \n",
       "...       ...       ...        ...     ...         ...    ...   ...    ...   \n",
       "10881  19.695        50    26.0027       7         329    336  2012     12   \n",
       "10882  17.425        57    15.0013      10         231    241  2012     12   \n",
       "10883  15.910        61    15.0013       4         164    168  2012     12   \n",
       "10884  17.425        61     6.0032      12         117    129  2012     12   \n",
       "10885  16.665        66     8.9981       4          84     88  2012     12   \n",
       "\n",
       "       Day  Hour  Minute  Second  \n",
       "0        1     0       0       0  \n",
       "1        1     1       0       0  \n",
       "2        1     2       0       0  \n",
       "3        1     3       0       0  \n",
       "4        1     4       0       0  \n",
       "...    ...   ...     ...     ...  \n",
       "10881   19    19       0       0  \n",
       "10882   19    20       0       0  \n",
       "10883   19    21       0       0  \n",
       "10884   19    22       0       0  \n",
       "10885   19    23       0       0  \n",
       "\n",
       "[10886 rows x 18 columns]"
      ]
     },
     "execution_count": 62,
     "metadata": {},
     "output_type": "execute_result"
    }
   ],
   "source": [
    "train"
   ]
  },
  {
   "cell_type": "code",
   "execution_count": 75,
   "id": "d45f5d2b",
   "metadata": {},
   "outputs": [
    {
     "data": {
      "text/plain": [
       "Text(0.5, 1.0, 'Day')"
      ]
     },
     "execution_count": 75,
     "metadata": {},
     "output_type": "execute_result"
    },
    {
     "data": {
      "image/png": "[encoded data removed]",
      "text/plain": [
       "<Figure size 1080x288 with 2 Axes>"
      ]
     },
     "metadata": {
      "needs_background": "light"
     },
     "output_type": "display_data"
    }
   ],
   "source": [
    "# year, month, day, hour, minute, second 시각화\n",
    "plt.figure(figsize=(15, 4)) \n",
    "sns.countplot\n",
    "# plt.subplot(총 행 개수(row), 총 열 개수(column), 그래프 번호)\n",
    "#plt1\n",
    "x = train['Year']\n",
    "y = train['count']\n",
    "\n",
    "plt.subplot(1,5,1)\n",
    "plt.plot(x,y)\n",
    "plt.title(\"Year\")\n",
    "#plt2\n",
    "x = train['Month']\n",
    "y = train['count']\n",
    "\n",
    "plt.subplot(1,2,2)\n",
    "plt.plot(x,y)\n",
    "plt.title(\"Month\")\n",
    "#plt3\n",
    "x = train['Day']\n",
    "y = train['count']\n",
    "\n",
    "plt.subplot(1,3,3)\n",
    "plt.plot(x,y)\n",
    "plt.title(\"Day\")"
   ]
  },
  {
   "cell_type": "markdown",
   "id": "e563cd2a",
   "metadata": {},
   "source": []
  },
  {
   "cell_type": "markdown",
   "id": "4e9309a9",
   "metadata": {},
   "source": [
    "이것때문에 1시간걸렸는데 조원님이 가르쳐주셨다."
   ]
  },
  {
   "cell_type": "code",
   "execution_count": 84,
   "id": "600bf95d",
   "metadata": {},
   "outputs": [
    {
     "data": {
      "image/png": "[encoded data removed]",
      "text/plain": [
       "<Figure size 1440x720 with 6 Axes>"
      ]
     },
     "metadata": {
      "needs_background": "light"
     },
     "output_type": "display_data"
    }
   ],
   "source": [
    "import seaborn as sns\n",
    "\n",
    "plt.figure(figsize=(20, 10))\n",
    "\n",
    "plt.subplot(2, 6, 1)\n",
    "sns.countplot(x=\"Year\", data=train)\n",
    "\n",
    "plt.subplot(2, 3, 2)\n",
    "sns.countplot(x=\"Month\", data=train)\n",
    "\n",
    "plt.subplot(2, 3, 3)\n",
    "sns.countplot(x=\"Day\", data=train)\n",
    "\n",
    "plt.subplot(2, 3, 4)\n",
    "sns.countplot(x=\"Hour\", data=train)\n",
    "\n",
    "plt.subplot(2, 3, 5)\n",
    "sns.countplot(x=\"Minute\", data=train)\n",
    "\n",
    "plt.subplot(2, 3, 6)\n",
    "sns.countplot(x=\"Second\", data=train)\n",
    "\n",
    "plt.show()"
   ]
  },
  {
   "cell_type": "markdown",
   "id": "971683cc",
   "metadata": {},
   "source": [
    "분과 초는 0밖에없어서, 하나만 가르켰다."
   ]
  },
  {
   "cell_type": "markdown",
   "id": "802b5d6f",
   "metadata": {},
   "source": [
    "# (4) X, y 컬럼 선택 및 train/test 데이터 분리\n",
    "* X(feature) 에는 어떤 데이터 컬럼을 넣어야 될지 고민해 봅시다 데이터 컬럼을 추가하거나 빼면서 잘 조합하여 데이터를 넣기 바랍니다. 만일 모든 데이터 컬럼(특징)을 넣는다면 오차 값이 말도 안 되게 적게 나올 수도 있습니다. ex) count를 예측하는데 casual,registered 컬럼이 필요할까요?\n",
    "\n",
    "* count 값을 맞추고자 하므로, y 변수에 count 컬럼의 데이터 넣기"
   ]
  },
  {
   "cell_type": "code",
   "execution_count": 213,
   "id": "bdd944af",
   "metadata": {},
   "outputs": [],
   "source": [
    "df_X=train[['Year','Month','Hour','Day','temp','humidity','atemp','windspeed']]\n",
    "df_X\n",
    "y=train['count']"
   ]
  },
  {
   "cell_type": "code",
   "execution_count": 214,
   "id": "e3b3fac0",
   "metadata": {},
   "outputs": [
    {
     "data": {
      "text/plain": [
       "10337      6\n",
       "7796      36\n",
       "5560     272\n",
       "377        1\n",
       "6863     366\n",
       "        ... \n",
       "6538     343\n",
       "6735     211\n",
       "3764     226\n",
       "5497       2\n",
       "6777     385\n",
       "Name: count, Length: 2178, dtype: int64"
      ]
     },
     "execution_count": 214,
     "metadata": {},
     "output_type": "execute_result"
    }
   ],
   "source": [
    "from sklearn.model_selection import train_test_split\n",
    "# sklearn model_selection패키지의 train_test_split 함수를 임포트\n",
    "\n",
    "X_train, X_test, y_train, y_test = train_test_split(df_X, \n",
    "                                                    y, \n",
    "                                                    test_size=0.2,\n",
    "                                                    \n",
    "                                                    random_state=2178)\n",
    "y_test"
   ]
  },
  {
   "cell_type": "code",
   "execution_count": 215,
   "id": "218d33d9",
   "metadata": {},
   "outputs": [
    {
     "name": "stdout",
     "output_type": "stream",
     "text": [
      "(8708, 8) (8708,)\n",
      "(2178, 8) (2178,)\n"
     ]
    }
   ],
   "source": [
    "print(X_train.shape, y_train.shape)\n",
    "print(X_test.shape, y_test.shape)"
   ]
  },
  {
   "cell_type": "markdown",
   "id": "2b696ba6",
   "metadata": {},
   "source": [
    "# (5) LinearRegression 모델 학습\n",
    "* sklearn의 LinearRegression 모델 불러오기 및 학습하기"
   ]
  },
  {
   "cell_type": "code",
   "execution_count": 216,
   "id": "0acec982",
   "metadata": {},
   "outputs": [
    {
     "name": "stdout",
     "output_type": "stream",
     "text": [
      "슝=3\n"
     ]
    },
    {
     "data": {
      "text/plain": [
       "LinearRegression()"
      ]
     },
     "execution_count": 216,
     "metadata": {},
     "output_type": "execute_result"
    }
   ],
   "source": [
    "from sklearn.linear_model import LinearRegression\n",
    "\n",
    "model = LinearRegression()\n",
    "print(\"슝=3\")\n",
    "model.fit(X_train, y_train)"
   ]
  },
  {
   "cell_type": "markdown",
   "id": "47b79e65",
   "metadata": {},
   "source": [
    "# (6) 학습된 모델로 X_test에 대한 예측값 출력 및 손실함수값 계산\n",
    "* 학습된 모델에 X_test를 입력해서 예측값 출력하기\n",
    "* 모델이 예측한 값과 정답 target 간의 손실함수 값 계산하기\n",
    "* mse 값과 함께 rmse 값도 계산하기"
   ]
  },
  {
   "cell_type": "markdown",
   "id": "4bf0be5a",
   "metadata": {},
   "source": [
    "손실함수값\n",
    "\n",
    "* MAE : Mean Absolute Error, 오차의 절댓값의 평균\n",
    "* MSE : Mean Squared Error, 오차의 제곱의 평균\n",
    "* RMSE : Root Mean Squared Error, MSE의 제곱근 (이것이 손실함수) 조원님이 알려주셧다!!\n",
    "* R-squared : Coefficient of Determination, 결정 계수"
   ]
  },
  {
   "cell_type": "code",
   "execution_count": 217,
   "id": "30f652c2",
   "metadata": {},
   "outputs": [
    {
     "name": "stdout",
     "output_type": "stream",
     "text": [
      "슝=3\n"
     ]
    }
   ],
   "source": [
    "def MSE(a, b):\n",
    "    mse = ((a - b) ** 2).mean()  # 두 값의 차이의 제곱의 평균\n",
    "    return mse\n",
    "print(\"슝=3\")"
   ]
  },
  {
   "cell_type": "code",
   "execution_count": 219,
   "id": "33dc37d5",
   "metadata": {},
   "outputs": [
    {
     "name": "stdout",
     "output_type": "stream",
     "text": [
      "슝=3\n"
     ]
    }
   ],
   "source": [
    "def RMSE(a, b):\n",
    "    mse = ((a - b) ** 2).mean()  # 두 값의 차이의 제곱의 평균\n",
    "    rmse = mse ** 0.5        # MSE의 제곱근\n",
    "    return rmse\n",
    "print(\"슝=3\")"
   ]
  },
  {
   "cell_type": "code",
   "execution_count": 220,
   "id": "55ce3db7",
   "metadata": {},
   "outputs": [
    {
     "data": {
      "text/plain": [
       "array([141.56962587, 134.41149278, 305.9405108 , ..., 194.33453303,\n",
       "        43.04611604, 317.19265832])"
      ]
     },
     "execution_count": 220,
     "metadata": {},
     "output_type": "execute_result"
    }
   ],
   "source": [
    "#예측하기\n",
    "predictions = model.predict(X_test)\n",
    "predictions"
   ]
  },
  {
   "cell_type": "code",
   "execution_count": 221,
   "id": "d794edc0",
   "metadata": {},
   "outputs": [
    {
     "data": {
      "text/plain": [
       "19829.313192026126"
      ]
     },
     "execution_count": 221,
     "metadata": {},
     "output_type": "execute_result"
    }
   ],
   "source": [
    "MSE(y_test,predictions)"
   ]
  },
  {
   "cell_type": "markdown",
   "id": "afa115f0",
   "metadata": {},
   "source": [
    "loss("
   ]
  },
  {
   "cell_type": "code",
   "execution_count": 222,
   "id": "ff35a45f",
   "metadata": {},
   "outputs": [
    {
     "data": {
      "text/plain": [
       "19829.313192026126"
      ]
     },
     "execution_count": 222,
     "metadata": {},
     "output_type": "execute_result"
    }
   ],
   "source": [
    "from sklearn.metrics import mean_squared_error\n",
    "\n",
    "mse = mean_squared_error(y_test, predictions)\n",
    "mse"
   ]
  },
  {
   "cell_type": "code",
   "execution_count": 223,
   "id": "03b672f9",
   "metadata": {},
   "outputs": [
    {
     "data": {
      "text/plain": [
       "140.816594164275"
      ]
     },
     "execution_count": 223,
     "metadata": {},
     "output_type": "execute_result"
    }
   ],
   "source": [
    "RMSE(y_test,predictions)"
   ]
  },
  {
   "cell_type": "markdown",
   "id": "5314eb3b",
   "metadata": {},
   "source": [
    "150밑으로 내려보자."
   ]
  },
  {
   "cell_type": "markdown",
   "id": "fd6da800",
   "metadata": {},
   "source": [
    "df_X=train[['Year','Month','Hour','Day']]을 했을때는 155가 나왔지만, 컬럼을 더했을때는 140이 된다는것을 알게되었다."
   ]
  },
  {
   "cell_type": "markdown",
   "id": "b3269295",
   "metadata": {},
   "source": [
    "# (7) x축은 temp 또는 humidity로, y축은 count로 예측 결과 시각화하기\n",
    " * x축에 X 데이터 중 temp 데이터를, y축에는 count 데이터를 넣어서 시각화하기\n",
    " * x축에 X 데이터 중 humidity 데이터를, y축에는 count 데이터를 넣어서 시각화하기"
   ]
  },
  {
   "cell_type": "code",
   "execution_count": 245,
   "id": "9280a386",
   "metadata": {},
   "outputs": [
    {
     "data": {
      "image/png": "[encoded data removed]",
      "text/plain": [
       "<Figure size 1080x360 with 2 Axes>"
      ]
     },
     "metadata": {
      "needs_background": "light"
     },
     "output_type": "display_data"
    }
   ],
   "source": [
    "\n",
    "\n",
    "plt.figure(figsize=(15, 5))\n",
    "\n",
    "plt.subplot(1, 2, 1)\n",
    "plt.scatter(X_test['temp'], y_test,label =\"답\")\n",
    "plt.scatter(X_test['temp'], predictions,label = \"예측\")\n",
    "plt.legend()\n",
    "plt.title('TEMP', fontsize = '20')\n",
    "\n",
    "plt.subplot(1, 2, 2)\n",
    "plt.scatter(X_test['humidity'], y_test,label = \"답\")\n",
    "plt.scatter(X_test['humidity'], predictions,label = \"예측\") \n",
    "plt.legend()\n",
    "plt.title('HUMIDITY', fontsize = '20')\n",
    "plt.show()"
   ]
  },
  {
   "cell_type": "markdown",
   "id": "53b6ae2b",
   "metadata": {},
   "source": [
    "# 회고\n",
    "\n",
    "시각화부분은 정말로 어려웠다. 하지만, 조원분들의 조언으로, 여러 시각화들을 해낼수 있었다. \n",
    "더욱더 해내고싶었지만, 다음시간에 더집중해서 해내야겠다.\n",
    "\n",
    "* 새로알아낸사실\n",
    "\n",
    "RMSE는 손실함수라고 알려주셨다.\n",
    "\n",
    "또한, 컬럼이 적을수록  오차가 적을줄 알았는데, 오히려 많은것을보고 놀랐다."
   ]
  }
 ],
 "metadata": {
  "kernelspec": {
   "display_name": "Python 3 (ipykernel)",
   "language": "python",
   "name": "python3"
  },
  "language_info": {
   "codemirror_mode": {
    "name": "ipython",
    "version": 3
   },
   "file_extension": ".py",
   "mimetype": "text/x-python",
   "name": "python",
   "nbconvert_exporter": "python",
   "pygments_lexer": "ipython3",
   "version": "3.9.7"
  }
 },
 "nbformat": 4,
 "nbformat_minor": 5
}
