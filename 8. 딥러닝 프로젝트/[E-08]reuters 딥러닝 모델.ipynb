{
 "cells": [
  {
   "cell_type": "code",
   "execution_count": 1,
   "id": "51ca5f9d",
   "metadata": {},
   "outputs": [],
   "source": [
    "import numpy as np\n",
    "import matplotlib.pyplot as plt\n",
    "from sklearn.model_selection import train_test_split\n",
    "\n",
    "from tensorflow.keras import models, layers\n",
    "from tensorflow.keras import callbacks\n",
    "from tensorflow.keras import utils\n",
    "from keras.datasets import reuters"
   ]
  },
  {
   "cell_type": "code",
   "execution_count": 2,
   "id": "ab0e5b41",
   "metadata": {},
   "outputs": [
    {
     "data": {
      "text/plain": [
       "<function keras.datasets.reuters.load_data(path='reuters.npz', num_words=None, skip_top=0, maxlen=None, test_split=0.2, seed=113, start_char=1, oov_char=2, index_from=3, **kwargs)>"
      ]
     },
     "execution_count": 2,
     "metadata": {},
     "output_type": "execute_result"
    }
   ],
   "source": [
    "reuters.load_data"
   ]
  },
  {
   "cell_type": "code",
   "execution_count": null,
   "id": "88a0cf43",
   "metadata": {},
   "outputs": [],
   "source": []
  },
  {
   "cell_type": "code",
   "execution_count": 3,
   "id": "6e086eb0",
   "metadata": {},
   "outputs": [],
   "source": [
    "# 문제 2-1: reuters 데이터셋을 로드하고, 훈련 데이터셋에서 25%를 검증 데이터셋으로 분리합니다.\n",
    "# [[YOUR CODE]]\n",
    "(train_data, train_labels), (test_data, test_labels) = reuters.load_data(num_words=10000)\n",
    "x_train,x_val,y_train ,y_val = train_test_split(train_data,train_labels,\n",
    "                                                test_size=0.25,\n",
    "                                                random_state=2023)\n",
    "\n",
    "\n"
   ]
  },
  {
   "cell_type": "code",
   "execution_count": 4,
   "id": "8ef4b238",
   "metadata": {},
   "outputs": [
    {
     "name": "stdout",
     "output_type": "stream",
     "text": [
      "8982\n",
      "2246\n",
      "2246\n",
      "46\n"
     ]
    }
   ],
   "source": [
    "# 훈련, 검증, 테스트 데이터와 레이블 종류가 몇 개인지 출력합니다.\n",
    "print(len(train_data))\n",
    "print(len(x_val))\n",
    "print(len(test_data))\n",
    "print(len(set(train_labels)))"
   ]
  },
  {
   "cell_type": "code",
   "execution_count": 5,
   "id": "b8bc1ee7",
   "metadata": {},
   "outputs": [],
   "source": [
    "# 문제 2-2: 텍스트 데이터의 전처리를 위해서 각 데이터셋마다 원-핫 인코딩을 수행합니다.\n",
    "def one_hot_encoding(data, dim=10000):\n",
    "    results = np.zeros((len(data), dim))\n",
    "    for i, d in enumerate(data):\n",
    "        results[i, d] = 1.\n",
    "    return results\n",
    "x_train = one_hot_encoding(train_data)\n",
    "x_val = one_hot_encoding(x_val)\n",
    "x_test = one_hot_encoding(test_data)\n",
    "\n",
    "# 레이블 데이터들은 범주형 형태로 to_categorical() 함수를 사용해 변환합니다.\n",
    "# [[YOUR CODE]]\n",
    "y_train = utils.to_categorical(train_labels)\n",
    "y_test = utils.to_categorical(test_labels)\n",
    "y_val = utils.to_categorical(y_val)"
   ]
  },
  {
   "cell_type": "code",
   "execution_count": 6,
   "id": "60600367",
   "metadata": {},
   "outputs": [
    {
     "data": {
      "text/plain": [
       "array([[0., 1., 1., ..., 0., 0., 0.],\n",
       "       [0., 1., 1., ..., 0., 0., 0.],\n",
       "       [0., 1., 1., ..., 0., 0., 0.],\n",
       "       ...,\n",
       "       [0., 1., 1., ..., 0., 0., 0.],\n",
       "       [0., 1., 1., ..., 0., 0., 0.],\n",
       "       [0., 1., 1., ..., 0., 0., 0.]])"
      ]
     },
     "execution_count": 6,
     "metadata": {},
     "output_type": "execute_result"
    }
   ],
   "source": [
    "train_data.shape\n",
    "x_train"
   ]
  },
  {
   "cell_type": "code",
   "execution_count": 7,
   "id": "b9efa79e",
   "metadata": {},
   "outputs": [
    {
     "data": {
      "text/plain": [
       "[1,\n",
       " 2,\n",
       " 2,\n",
       " 8,\n",
       " 43,\n",
       " 10,\n",
       " 447,\n",
       " 5,\n",
       " 25,\n",
       " 207,\n",
       " 270,\n",
       " 5,\n",
       " 3095,\n",
       " 111,\n",
       " 16,\n",
       " 369,\n",
       " 186,\n",
       " 90,\n",
       " 67,\n",
       " 7,\n",
       " 89,\n",
       " 5,\n",
       " 19,\n",
       " 102,\n",
       " 6,\n",
       " 19,\n",
       " 124,\n",
       " 15,\n",
       " 90,\n",
       " 67,\n",
       " 84,\n",
       " 22,\n",
       " 482,\n",
       " 26,\n",
       " 7,\n",
       " 48,\n",
       " 4,\n",
       " 49,\n",
       " 8,\n",
       " 864,\n",
       " 39,\n",
       " 209,\n",
       " 154,\n",
       " 6,\n",
       " 151,\n",
       " 6,\n",
       " 83,\n",
       " 11,\n",
       " 15,\n",
       " 22,\n",
       " 155,\n",
       " 11,\n",
       " 15,\n",
       " 7,\n",
       " 48,\n",
       " 9,\n",
       " 4579,\n",
       " 1005,\n",
       " 504,\n",
       " 6,\n",
       " 258,\n",
       " 6,\n",
       " 272,\n",
       " 11,\n",
       " 15,\n",
       " 22,\n",
       " 134,\n",
       " 44,\n",
       " 11,\n",
       " 15,\n",
       " 16,\n",
       " 8,\n",
       " 197,\n",
       " 1245,\n",
       " 90,\n",
       " 67,\n",
       " 52,\n",
       " 29,\n",
       " 209,\n",
       " 30,\n",
       " 32,\n",
       " 132,\n",
       " 6,\n",
       " 109,\n",
       " 15,\n",
       " 17,\n",
       " 12]"
      ]
     },
     "execution_count": 7,
     "metadata": {},
     "output_type": "execute_result"
    }
   ],
   "source": [
    "train_data[0]"
   ]
  },
  {
   "cell_type": "code",
   "execution_count": 8,
   "id": "fda79b8e",
   "metadata": {},
   "outputs": [],
   "source": [
    "# 문제 2-3: 빠른 학습과 과대적합을 방지하기 위해 BatchNormalization과 Dropout을 적용한 딥러닝 모델을 구성합니다.\n",
    "# [[YOUR CODE]]\n",
    "model = models.Sequential()\n",
    "model.add(layers.Input(shape=(10000)))\n",
    "model.add(layers.Dense(128, activation='softmax'))\n",
    "model.add(layers.BatchNormalization())\n",
    "model.add(layers.Dense(128, activation='softmax'))\n",
    "model.add(layers.Dropout(0.2))\n",
    "model.add(layers.Dense(128, activation='softmax'))\n",
    "model.add(layers.BatchNormalization())\n",
    "model.add(layers.Dropout(0.2))\n",
    "model.add(layers.Dense(46, activation='softmax'))"
   ]
  },
  {
   "cell_type": "code",
   "execution_count": 9,
   "id": "26ed8c5c",
   "metadata": {},
   "outputs": [],
   "source": [
    "model.compile(loss='categorical_crossentropy',\n",
    "              optimizer='Adam',\n",
    "              metrics=['accuracy'])"
   ]
  },
  {
   "cell_type": "code",
   "execution_count": 10,
   "id": "00301d54",
   "metadata": {},
   "outputs": [
    {
     "name": "stdout",
     "output_type": "stream",
     "text": [
      "Model: \"sequential\"\n",
      "_________________________________________________________________\n",
      "Layer (type)                 Output Shape              Param #   \n",
      "=================================================================\n",
      "dense (Dense)                (None, 128)               1280128   \n",
      "_________________________________________________________________\n",
      "batch_normalization (BatchNo (None, 128)               512       \n",
      "_________________________________________________________________\n",
      "dense_1 (Dense)              (None, 128)               16512     \n",
      "_________________________________________________________________\n",
      "dropout (Dropout)            (None, 128)               0         \n",
      "_________________________________________________________________\n",
      "dense_2 (Dense)              (None, 128)               16512     \n",
      "_________________________________________________________________\n",
      "batch_normalization_1 (Batch (None, 128)               512       \n",
      "_________________________________________________________________\n",
      "dropout_1 (Dropout)          (None, 128)               0         \n",
      "_________________________________________________________________\n",
      "dense_3 (Dense)              (None, 46)                5934      \n",
      "=================================================================\n",
      "Total params: 1,320,110\n",
      "Trainable params: 1,319,598\n",
      "Non-trainable params: 512\n",
      "_________________________________________________________________\n"
     ]
    }
   ],
   "source": [
    "model.summary()"
   ]
  },
  {
   "cell_type": "code",
   "execution_count": 11,
   "id": "4cdee740",
   "metadata": {},
   "outputs": [
    {
     "name": "stdout",
     "output_type": "stream",
     "text": [
      "(8982, 10000)\n",
      "(8982, 46)\n"
     ]
    }
   ],
   "source": [
    "print(x_train.shape)\n",
    "print(y_train.shape)"
   ]
  },
  {
   "cell_type": "markdown",
   "id": "5b0499ba",
   "metadata": {},
   "source": [
    "### 모델 학습\n",
    "* ModelCheckpoint와 EarlyStopping 콜백 함수를 적용하여 모델 학습을 진행합니다."
   ]
  },
  {
   "cell_type": "code",
   "execution_count": 12,
   "id": "52396e5b",
   "metadata": {},
   "outputs": [
    {
     "name": "stdout",
     "output_type": "stream",
     "text": [
      "Epoch 1/200\n",
      "281/281 [==============================] - 3s 6ms/step - loss: 2.3341 - accuracy: 0.4399 - val_loss: 2.3718 - val_accuracy: 0.3495\n",
      "INFO:tensorflow:Assets written to: sequential/assets\n",
      "Epoch 2/200\n",
      "281/281 [==============================] - 1s 5ms/step - loss: 1.5795 - accuracy: 0.6048 - val_loss: 1.6771 - val_accuracy: 0.6336\n",
      "INFO:tensorflow:Assets written to: sequential/assets\n",
      "Epoch 3/200\n",
      "281/281 [==============================] - 1s 5ms/step - loss: 1.3371 - accuracy: 0.6758 - val_loss: 1.1135 - val_accuracy: 0.7315\n",
      "INFO:tensorflow:Assets written to: sequential/assets\n",
      "Epoch 4/200\n",
      "281/281 [==============================] - 1s 5ms/step - loss: 1.1788 - accuracy: 0.6994 - val_loss: 0.9577 - val_accuracy: 0.7498\n",
      "INFO:tensorflow:Assets written to: sequential/assets\n",
      "Epoch 5/200\n",
      "281/281 [==============================] - 1s 5ms/step - loss: 1.0374 - accuracy: 0.7337 - val_loss: 0.8426 - val_accuracy: 0.7823\n",
      "INFO:tensorflow:Assets written to: sequential/assets\n",
      "Epoch 6/200\n",
      "281/281 [==============================] - 1s 5ms/step - loss: 0.9545 - accuracy: 0.7531 - val_loss: 0.7553 - val_accuracy: 0.8068\n",
      "INFO:tensorflow:Assets written to: sequential/assets\n",
      "Epoch 7/200\n",
      "281/281 [==============================] - 1s 5ms/step - loss: 0.8965 - accuracy: 0.7642 - val_loss: 0.6926 - val_accuracy: 0.8219\n",
      "INFO:tensorflow:Assets written to: sequential/assets\n",
      "Epoch 8/200\n",
      "281/281 [==============================] - 1s 5ms/step - loss: 0.8227 - accuracy: 0.7774 - val_loss: 0.6348 - val_accuracy: 0.8442\n",
      "INFO:tensorflow:Assets written to: sequential/assets\n",
      "Epoch 9/200\n",
      "281/281 [==============================] - 1s 5ms/step - loss: 0.7660 - accuracy: 0.7927 - val_loss: 0.5733 - val_accuracy: 0.8526\n",
      "INFO:tensorflow:Assets written to: sequential/assets\n",
      "Epoch 10/200\n",
      "281/281 [==============================] - 1s 5ms/step - loss: 0.7241 - accuracy: 0.8009 - val_loss: 0.5376 - val_accuracy: 0.8646\n",
      "INFO:tensorflow:Assets written to: sequential/assets\n",
      "Epoch 11/200\n",
      "281/281 [==============================] - 1s 5ms/step - loss: 0.6876 - accuracy: 0.8136 - val_loss: 0.4962 - val_accuracy: 0.8687\n",
      "INFO:tensorflow:Assets written to: sequential/assets\n",
      "Epoch 12/200\n",
      "281/281 [==============================] - 1s 5ms/step - loss: 0.6468 - accuracy: 0.8243 - val_loss: 0.4605 - val_accuracy: 0.8829\n",
      "INFO:tensorflow:Assets written to: sequential/assets\n",
      "Epoch 13/200\n",
      "281/281 [==============================] - 1s 5ms/step - loss: 0.6243 - accuracy: 0.8248 - val_loss: 0.4320 - val_accuracy: 0.8829\n",
      "INFO:tensorflow:Assets written to: sequential/assets\n",
      "Epoch 14/200\n",
      "281/281 [==============================] - 1s 5ms/step - loss: 0.5931 - accuracy: 0.8348 - val_loss: 0.4204 - val_accuracy: 0.8847\n",
      "INFO:tensorflow:Assets written to: sequential/assets\n",
      "Epoch 15/200\n",
      "281/281 [==============================] - 1s 5ms/step - loss: 0.5419 - accuracy: 0.8445 - val_loss: 0.3933 - val_accuracy: 0.8927\n",
      "INFO:tensorflow:Assets written to: sequential/assets\n",
      "Epoch 16/200\n",
      "281/281 [==============================] - 1s 5ms/step - loss: 0.5295 - accuracy: 0.8483 - val_loss: 0.3697 - val_accuracy: 0.8972\n",
      "INFO:tensorflow:Assets written to: sequential/assets\n",
      "Epoch 17/200\n",
      "281/281 [==============================] - 1s 5ms/step - loss: 0.4944 - accuracy: 0.8575 - val_loss: 0.3598 - val_accuracy: 0.9061\n",
      "INFO:tensorflow:Assets written to: sequential/assets\n",
      "Epoch 18/200\n",
      "281/281 [==============================] - 1s 5ms/step - loss: 0.4845 - accuracy: 0.8591 - val_loss: 0.3368 - val_accuracy: 0.9123\n",
      "INFO:tensorflow:Assets written to: sequential/assets\n",
      "Epoch 19/200\n",
      "281/281 [==============================] - 1s 5ms/step - loss: 0.4685 - accuracy: 0.8628 - val_loss: 0.3221 - val_accuracy: 0.9136\n",
      "INFO:tensorflow:Assets written to: sequential/assets\n",
      "Epoch 20/200\n",
      "281/281 [==============================] - 1s 5ms/step - loss: 0.4356 - accuracy: 0.8711 - val_loss: 0.3030 - val_accuracy: 0.9216\n",
      "INFO:tensorflow:Assets written to: sequential/assets\n",
      "Epoch 21/200\n",
      "281/281 [==============================] - 1s 5ms/step - loss: 0.4106 - accuracy: 0.8778 - val_loss: 0.2918 - val_accuracy: 0.9252\n",
      "INFO:tensorflow:Assets written to: sequential/assets\n",
      "Epoch 22/200\n",
      "281/281 [==============================] - 1s 5ms/step - loss: 0.3913 - accuracy: 0.8813 - val_loss: 0.2706 - val_accuracy: 0.9261\n",
      "INFO:tensorflow:Assets written to: sequential/assets\n",
      "Epoch 23/200\n",
      "281/281 [==============================] - 1s 5ms/step - loss: 0.3706 - accuracy: 0.8880 - val_loss: 0.2544 - val_accuracy: 0.9256\n",
      "INFO:tensorflow:Assets written to: sequential/assets\n",
      "Epoch 24/200\n",
      "281/281 [==============================] - 1s 5ms/step - loss: 0.3532 - accuracy: 0.8936 - val_loss: 0.2471 - val_accuracy: 0.9310\n",
      "INFO:tensorflow:Assets written to: sequential/assets\n",
      "Epoch 25/200\n",
      "281/281 [==============================] - 1s 5ms/step - loss: 0.3306 - accuracy: 0.8998 - val_loss: 0.2371 - val_accuracy: 0.9328\n",
      "INFO:tensorflow:Assets written to: sequential/assets\n",
      "Epoch 26/200\n",
      "281/281 [==============================] - 1s 5ms/step - loss: 0.3197 - accuracy: 0.9006 - val_loss: 0.2135 - val_accuracy: 0.9426\n",
      "INFO:tensorflow:Assets written to: sequential/assets\n",
      "Epoch 27/200\n",
      "281/281 [==============================] - 1s 5ms/step - loss: 0.2981 - accuracy: 0.9098 - val_loss: 0.2108 - val_accuracy: 0.9394\n",
      "INFO:tensorflow:Assets written to: sequential/assets\n",
      "Epoch 28/200\n",
      "281/281 [==============================] - 1s 5ms/step - loss: 0.2856 - accuracy: 0.9103 - val_loss: 0.1993 - val_accuracy: 0.9452\n",
      "INFO:tensorflow:Assets written to: sequential/assets\n",
      "Epoch 29/200\n",
      "281/281 [==============================] - 1s 5ms/step - loss: 0.2828 - accuracy: 0.9162 - val_loss: 0.1899 - val_accuracy: 0.9430\n",
      "INFO:tensorflow:Assets written to: sequential/assets\n",
      "Epoch 30/200\n",
      "281/281 [==============================] - 1s 5ms/step - loss: 0.2577 - accuracy: 0.9205 - val_loss: 0.1929 - val_accuracy: 0.9488\n",
      "Epoch 31/200\n",
      "281/281 [==============================] - 1s 5ms/step - loss: 0.2579 - accuracy: 0.9189 - val_loss: 0.1737 - val_accuracy: 0.9457\n",
      "INFO:tensorflow:Assets written to: sequential/assets\n",
      "Epoch 32/200\n",
      "281/281 [==============================] - 1s 5ms/step - loss: 0.2443 - accuracy: 0.9242 - val_loss: 0.1742 - val_accuracy: 0.9510\n",
      "Epoch 33/200\n",
      "281/281 [==============================] - 1s 5ms/step - loss: 0.2454 - accuracy: 0.9230 - val_loss: 0.1817 - val_accuracy: 0.9470\n",
      "Epoch 34/200\n",
      "281/281 [==============================] - 1s 5ms/step - loss: 0.2366 - accuracy: 0.9254 - val_loss: 0.1836 - val_accuracy: 0.9492\n",
      "Epoch 35/200\n",
      "281/281 [==============================] - 1s 5ms/step - loss: 0.2177 - accuracy: 0.9319 - val_loss: 0.1633 - val_accuracy: 0.9564\n",
      "INFO:tensorflow:Assets written to: sequential/assets\n",
      "Epoch 36/200\n",
      "281/281 [==============================] - 1s 5ms/step - loss: 0.2199 - accuracy: 0.9328 - val_loss: 0.1504 - val_accuracy: 0.9537\n",
      "INFO:tensorflow:Assets written to: sequential/assets\n",
      "Epoch 37/200\n",
      "281/281 [==============================] - 1s 5ms/step - loss: 0.2076 - accuracy: 0.9356 - val_loss: 0.1431 - val_accuracy: 0.9617\n",
      "INFO:tensorflow:Assets written to: sequential/assets\n",
      "Epoch 38/200\n",
      "281/281 [==============================] - 1s 5ms/step - loss: 0.2026 - accuracy: 0.9356 - val_loss: 0.1555 - val_accuracy: 0.9501\n",
      "Epoch 39/200\n",
      "281/281 [==============================] - 1s 5ms/step - loss: 0.1956 - accuracy: 0.9379 - val_loss: 0.1403 - val_accuracy: 0.9537\n",
      "INFO:tensorflow:Assets written to: sequential/assets\n",
      "Epoch 40/200\n",
      "281/281 [==============================] - 1s 5ms/step - loss: 0.1935 - accuracy: 0.9392 - val_loss: 0.1405 - val_accuracy: 0.9555\n",
      "Epoch 41/200\n",
      "281/281 [==============================] - 1s 5ms/step - loss: 0.1945 - accuracy: 0.9372 - val_loss: 0.1292 - val_accuracy: 0.9581\n",
      "INFO:tensorflow:Assets written to: sequential/assets\n",
      "Epoch 42/200\n",
      "281/281 [==============================] - 1s 5ms/step - loss: 0.1789 - accuracy: 0.9427 - val_loss: 0.1417 - val_accuracy: 0.9577\n",
      "Epoch 43/200\n",
      "281/281 [==============================] - 1s 5ms/step - loss: 0.1833 - accuracy: 0.9400 - val_loss: 0.1292 - val_accuracy: 0.9608\n",
      "INFO:tensorflow:Assets written to: sequential/assets\n",
      "Epoch 44/200\n",
      "281/281 [==============================] - 1s 5ms/step - loss: 0.1799 - accuracy: 0.9415 - val_loss: 0.1328 - val_accuracy: 0.9599\n"
     ]
    },
    {
     "name": "stdout",
     "output_type": "stream",
     "text": [
      "Epoch 45/200\n",
      "281/281 [==============================] - 1s 5ms/step - loss: 0.1746 - accuracy: 0.9429 - val_loss: 0.1168 - val_accuracy: 0.9577\n",
      "INFO:tensorflow:Assets written to: sequential/assets\n",
      "Epoch 46/200\n",
      "281/281 [==============================] - 1s 5ms/step - loss: 0.1676 - accuracy: 0.9424 - val_loss: 0.1324 - val_accuracy: 0.9613\n",
      "Epoch 47/200\n",
      "281/281 [==============================] - 1s 5ms/step - loss: 0.1721 - accuracy: 0.9428 - val_loss: 0.1319 - val_accuracy: 0.9564\n",
      "Epoch 48/200\n",
      "281/281 [==============================] - 1s 5ms/step - loss: 0.1650 - accuracy: 0.9441 - val_loss: 0.1193 - val_accuracy: 0.9590\n",
      "Epoch 49/200\n",
      "281/281 [==============================] - 1s 5ms/step - loss: 0.1702 - accuracy: 0.9424 - val_loss: 0.1246 - val_accuracy: 0.9586\n",
      "Epoch 50/200\n",
      "281/281 [==============================] - 1s 5ms/step - loss: 0.1648 - accuracy: 0.9414 - val_loss: 0.1222 - val_accuracy: 0.9595\n",
      "Epoch 51/200\n",
      "281/281 [==============================] - 1s 5ms/step - loss: 0.1558 - accuracy: 0.9447 - val_loss: 0.1083 - val_accuracy: 0.9613\n",
      "INFO:tensorflow:Assets written to: sequential/assets\n",
      "Epoch 52/200\n",
      "281/281 [==============================] - 1s 5ms/step - loss: 0.1537 - accuracy: 0.9448 - val_loss: 0.1221 - val_accuracy: 0.9573\n",
      "Epoch 53/200\n",
      "281/281 [==============================] - 1s 5ms/step - loss: 0.1520 - accuracy: 0.9479 - val_loss: 0.1110 - val_accuracy: 0.9586\n",
      "Epoch 54/200\n",
      "281/281 [==============================] - 1s 5ms/step - loss: 0.1519 - accuracy: 0.9456 - val_loss: 0.1051 - val_accuracy: 0.9595\n",
      "INFO:tensorflow:Assets written to: sequential/assets\n",
      "Epoch 55/200\n",
      "281/281 [==============================] - 1s 5ms/step - loss: 0.1462 - accuracy: 0.9497 - val_loss: 0.1308 - val_accuracy: 0.9573\n",
      "Epoch 56/200\n",
      "281/281 [==============================] - 1s 5ms/step - loss: 0.1544 - accuracy: 0.9468 - val_loss: 0.1110 - val_accuracy: 0.9622\n",
      "Epoch 57/200\n",
      "281/281 [==============================] - 1s 5ms/step - loss: 0.1455 - accuracy: 0.9502 - val_loss: 0.1038 - val_accuracy: 0.9613\n",
      "INFO:tensorflow:Assets written to: sequential/assets\n",
      "Epoch 58/200\n",
      "281/281 [==============================] - 1s 5ms/step - loss: 0.1419 - accuracy: 0.9469 - val_loss: 0.1112 - val_accuracy: 0.9586\n",
      "Epoch 59/200\n",
      "281/281 [==============================] - 1s 5ms/step - loss: 0.1446 - accuracy: 0.9478 - val_loss: 0.1118 - val_accuracy: 0.9595\n",
      "Epoch 60/200\n",
      "281/281 [==============================] - 1s 5ms/step - loss: 0.1460 - accuracy: 0.9457 - val_loss: 0.1106 - val_accuracy: 0.9577\n",
      "Epoch 61/200\n",
      "281/281 [==============================] - 1s 5ms/step - loss: 0.1457 - accuracy: 0.9482 - val_loss: 0.1074 - val_accuracy: 0.9581\n",
      "Epoch 62/200\n",
      "281/281 [==============================] - 1s 5ms/step - loss: 0.1445 - accuracy: 0.9501 - val_loss: 0.1113 - val_accuracy: 0.9586\n",
      "Epoch 63/200\n",
      "281/281 [==============================] - 1s 5ms/step - loss: 0.1435 - accuracy: 0.9490 - val_loss: 0.1122 - val_accuracy: 0.9617\n",
      "Epoch 64/200\n",
      "281/281 [==============================] - 1s 5ms/step - loss: 0.1403 - accuracy: 0.9493 - val_loss: 0.1137 - val_accuracy: 0.9613\n",
      "Epoch 65/200\n",
      "281/281 [==============================] - 1s 5ms/step - loss: 0.1389 - accuracy: 0.9506 - val_loss: 0.1047 - val_accuracy: 0.9608\n",
      "Epoch 66/200\n",
      "281/281 [==============================] - 1s 5ms/step - loss: 0.1352 - accuracy: 0.9498 - val_loss: 0.1337 - val_accuracy: 0.9555\n",
      "Epoch 67/200\n",
      "281/281 [==============================] - 1s 5ms/step - loss: 0.1294 - accuracy: 0.9532 - val_loss: 0.1070 - val_accuracy: 0.9626\n"
     ]
    }
   ],
   "source": [
    "from tensorflow.keras import callbacks\n",
    "\n",
    "check_point_cb = callbacks.ModelCheckpoint('sequential', \n",
    "                                           save_best_only=True)\n",
    "early_stopping_cb = callbacks.EarlyStopping(patience=10, \n",
    "                                            monitor='val_loss',\n",
    "                                            restore_best_weights=True)\n",
    "history = model.fit(x_train, y_train, epochs=200,\n",
    "                    validation_data=(x_val, y_val),\n",
    "                    callbacks=[check_point_cb, early_stopping_cb])\n"
   ]
  },
  {
   "cell_type": "code",
   "execution_count": 13,
   "id": "8af501d2",
   "metadata": {},
   "outputs": [
    {
     "data": {
      "image/png": "[encoded data removed]",
      "text/plain": [
       "<Figure size 864x360 with 2 Axes>"
      ]
     },
     "metadata": {},
     "output_type": "display_data"
    }
   ],
   "source": [
    "# 학습 히스토리의 `loss`, `val_loss`, `accuracy`, `val_accuracy`를 차트로 시각화합니다.\n",
    "plt.style.use('seaborn-white')\n",
    "\n",
    "history_dict = history.history\n",
    "\n",
    "loss = history_dict['loss']\n",
    "val_loss = history_dict['val_loss']\n",
    "\n",
    "epochs = range(1, len(loss) + 1)\n",
    "fig = plt.figure(figsize=(12, 5))\n",
    "\n",
    "ax1 = fig.add_subplot(1, 2, 1)\n",
    "ax1.plot(epochs, loss, 'b-', label='train_loss')\n",
    "ax1.plot(epochs, val_loss, 'r-', label='val_loss')\n",
    "ax1.set_title('Train and Validation Loss')\n",
    "ax1.set_xlabel('Epochs')\n",
    "ax1.set_ylabel('Loss')\n",
    "ax1.grid()\n",
    "ax1.legend()\n",
    "\n",
    "accuracy = history_dict['accuracy']\n",
    "val_accuracy = history_dict['val_accuracy']\n",
    "\n",
    "ax2 = fig.add_subplot(1, 2, 2)\n",
    "ax2.plot(epochs, accuracy, 'b-', label='train_accuracy')\n",
    "ax2.plot(epochs, val_accuracy, 'r-', label='val_accuracy')\n",
    "ax2.set_title('Train and Validation Accuracy')\n",
    "ax2.set_xlabel('Epochs')\n",
    "ax2.set_ylabel('Accuracy')\n",
    "ax2.grid()\n",
    "ax2.legend()\n",
    "\n",
    "plt.show()"
   ]
  },
  {
   "cell_type": "code",
   "execution_count": 14,
   "id": "44eb42b6",
   "metadata": {},
   "outputs": [
    {
     "name": "stdout",
     "output_type": "stream",
     "text": [
      "71/71 [==============================] - 0s 2ms/step - loss: 0.1038 - accuracy: 0.9613\n"
     ]
    },
    {
     "data": {
      "text/plain": [
       "[0.10383936017751694, 0.9612644910812378]"
      ]
     },
     "execution_count": 14,
     "metadata": {},
     "output_type": "execute_result"
    }
   ],
   "source": [
    "# 문제 2-5: 테스트 데이터셋을 이용해 모델을 평가합니다.\n",
    "# [[YOUR CODE]]\n",
    "model.evaluate(x_val, y_val)"
   ]
  },
  {
   "cell_type": "markdown",
   "id": "8a450595",
   "metadata": {},
   "source": [
    "# 회고\n",
    "\n",
    "* 개인적으로 시간이 오래걸렸던 문제였다.\n",
    "원핫 인코딩에 대해서는 많이 다뤘던 주제였지만, 이것을 평가하고 검증데이터로 넣기 까지, 꽤나 오랜 시간이 걸렸다. 조원분들에게 물어보기도 하고, 새로 알게된 사실도 알게 되었는데.\n",
    "\n",
    "> model.compile(loss='sparse_categorical_crossentropy') 이 부분이었다.\n",
    "이 부분은 sparse_를 넣어서 문제가 됬었는데, 이 코드는 원핫 인코딩을 자동으로 넣는다는 코드여서 그렇게 애먹었던 것이었다.\n",
    "\n",
    ">>  model.compile(loss='categorical_crossentropy')\n",
    "이부분을 이렇게 바꾸니 원활히 제대로 평가가 되었다.\n",
    "\n",
    "\n",
    "딥러닝에 대해 얕게나마, 알게되는 시간이었다."
   ]
  }
 ],
 "metadata": {
  "kernelspec": {
   "display_name": "Python 3 (ipykernel)",
   "language": "python",
   "name": "python3"
  },
  "language_info": {
   "codemirror_mode": {
    "name": "ipython",
    "version": 3
   },
   "file_extension": ".py",
   "mimetype": "text/x-python",
   "name": "python",
   "nbconvert_exporter": "python",
   "pygments_lexer": "ipython3",
   "version": "3.9.7"
  }
 },
 "nbformat": 4,
 "nbformat_minor": 5
}
