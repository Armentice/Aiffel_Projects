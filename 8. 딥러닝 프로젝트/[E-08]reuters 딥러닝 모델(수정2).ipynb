{
 "cells": [
  {
   "cell_type": "code",
   "execution_count": 1,
   "id": "51ca5f9d",
   "metadata": {},
   "outputs": [],
   "source": [
    "import numpy as np\n",
    "import matplotlib.pyplot as plt\n",
    "from sklearn.model_selection import train_test_split\n",
    "\n",
    "from tensorflow.keras import models, layers\n",
    "from tensorflow.keras import callbacks\n",
    "from tensorflow.keras import utils\n",
    "from keras.datasets import reuters"
   ]
  },
  {
   "cell_type": "code",
   "execution_count": 2,
   "id": "ab0e5b41",
   "metadata": {},
   "outputs": [
    {
     "data": {
      "text/plain": [
       "<function keras.datasets.reuters.load_data(path='reuters.npz', num_words=None, skip_top=0, maxlen=None, test_split=0.2, seed=113, start_char=1, oov_char=2, index_from=3, **kwargs)>"
      ]
     },
     "execution_count": 2,
     "metadata": {},
     "output_type": "execute_result"
    }
   ],
   "source": [
    "reuters.load_data"
   ]
  },
  {
   "cell_type": "code",
   "execution_count": null,
   "id": "88a0cf43",
   "metadata": {},
   "outputs": [],
   "source": []
  },
  {
   "cell_type": "code",
   "execution_count": 3,
   "id": "6e086eb0",
   "metadata": {},
   "outputs": [],
   "source": [
    "# 문제 2-1: reuters 데이터셋을 로드하고, 훈련 데이터셋에서 25%를 검증 데이터셋으로 분리합니다.\n",
    "# [[YOUR CODE]]\n",
    "(train_data, train_labels), (test_data, test_labels) = reuters.load_data(num_words=10000)\n",
    "x_train,x_val,y_train ,y_val = train_test_split(train_data,train_labels,\n",
    "                                                test_size=0.25,\n",
    "                                                random_state=2023)\n",
    "\n",
    "\n"
   ]
  },
  {
   "cell_type": "code",
   "execution_count": 4,
   "id": "8ef4b238",
   "metadata": {},
   "outputs": [
    {
     "name": "stdout",
     "output_type": "stream",
     "text": [
      "8982\n",
      "2246\n",
      "2246\n",
      "46\n"
     ]
    }
   ],
   "source": [
    "# 훈련, 검증, 테스트 데이터와 레이블 종류가 몇 개인지 출력합니다.\n",
    "print(len(train_data))\n",
    "print(len(x_val))\n",
    "print(len(test_data))\n",
    "print(len(set(train_labels)))"
   ]
  },
  {
   "cell_type": "code",
   "execution_count": 5,
   "id": "b8bc1ee7",
   "metadata": {},
   "outputs": [],
   "source": [
    "# 문제 2-2: 텍스트 데이터의 전처리를 위해서 각 데이터셋마다 원-핫 인코딩을 수행합니다.\n",
    "def one_hot_encoding(data, dim=10000):\n",
    "    results = np.zeros((len(data), dim))\n",
    "    for i, d in enumerate(data):\n",
    "        results[i, d] = 1.\n",
    "    return results\n",
    "x_train = one_hot_encoding(train_data)\n",
    "x_val = one_hot_encoding(x_val)\n",
    "x_test = one_hot_encoding(test_data)\n",
    "\n",
    "# 레이블 데이터들은 범주형 형태로 to_categorical() 함수를 사용해 변환합니다.\n",
    "# [[YOUR CODE]]\n",
    "y_train = utils.to_categorical(train_labels)\n",
    "y_test = utils.to_categorical(test_labels)\n",
    "y_val = utils.to_categorical(y_val)"
   ]
  },
  {
   "cell_type": "code",
   "execution_count": 6,
   "id": "60600367",
   "metadata": {},
   "outputs": [
    {
     "data": {
      "text/plain": [
       "array([[0., 1., 1., ..., 0., 0., 0.],\n",
       "       [0., 1., 1., ..., 0., 0., 0.],\n",
       "       [0., 1., 1., ..., 0., 0., 0.],\n",
       "       ...,\n",
       "       [0., 1., 1., ..., 0., 0., 0.],\n",
       "       [0., 1., 1., ..., 0., 0., 0.],\n",
       "       [0., 1., 1., ..., 0., 0., 0.]])"
      ]
     },
     "execution_count": 6,
     "metadata": {},
     "output_type": "execute_result"
    }
   ],
   "source": [
    "train_data.shape\n",
    "x_train"
   ]
  },
  {
   "cell_type": "code",
   "execution_count": 7,
   "id": "b9efa79e",
   "metadata": {},
   "outputs": [
    {
     "data": {
      "text/plain": [
       "[1,\n",
       " 2,\n",
       " 2,\n",
       " 8,\n",
       " 43,\n",
       " 10,\n",
       " 447,\n",
       " 5,\n",
       " 25,\n",
       " 207,\n",
       " 270,\n",
       " 5,\n",
       " 3095,\n",
       " 111,\n",
       " 16,\n",
       " 369,\n",
       " 186,\n",
       " 90,\n",
       " 67,\n",
       " 7,\n",
       " 89,\n",
       " 5,\n",
       " 19,\n",
       " 102,\n",
       " 6,\n",
       " 19,\n",
       " 124,\n",
       " 15,\n",
       " 90,\n",
       " 67,\n",
       " 84,\n",
       " 22,\n",
       " 482,\n",
       " 26,\n",
       " 7,\n",
       " 48,\n",
       " 4,\n",
       " 49,\n",
       " 8,\n",
       " 864,\n",
       " 39,\n",
       " 209,\n",
       " 154,\n",
       " 6,\n",
       " 151,\n",
       " 6,\n",
       " 83,\n",
       " 11,\n",
       " 15,\n",
       " 22,\n",
       " 155,\n",
       " 11,\n",
       " 15,\n",
       " 7,\n",
       " 48,\n",
       " 9,\n",
       " 4579,\n",
       " 1005,\n",
       " 504,\n",
       " 6,\n",
       " 258,\n",
       " 6,\n",
       " 272,\n",
       " 11,\n",
       " 15,\n",
       " 22,\n",
       " 134,\n",
       " 44,\n",
       " 11,\n",
       " 15,\n",
       " 16,\n",
       " 8,\n",
       " 197,\n",
       " 1245,\n",
       " 90,\n",
       " 67,\n",
       " 52,\n",
       " 29,\n",
       " 209,\n",
       " 30,\n",
       " 32,\n",
       " 132,\n",
       " 6,\n",
       " 109,\n",
       " 15,\n",
       " 17,\n",
       " 12]"
      ]
     },
     "execution_count": 7,
     "metadata": {},
     "output_type": "execute_result"
    }
   ],
   "source": [
    "train_data[0]"
   ]
  },
  {
   "cell_type": "code",
   "execution_count": 8,
   "id": "fda79b8e",
   "metadata": {},
   "outputs": [],
   "source": [
    "# 문제 2-3: 빠른 학습과 과대적합을 방지하기 위해 BatchNormalization과 Dropout을 적용한 딥러닝 모델을 구성합니다.\n",
    "# [[YOUR CODE]]\n",
    "model = models.Sequential()\n",
    "model.add(layers.Input(shape=(10000)))\n",
    "model.add(layers.Dense(128, activation='relu'))\n",
    "model.add(layers.BatchNormalization())\n",
    "model.add(layers.Dense(128, activation='relu'))\n",
    "model.add(layers.Dropout(0.2))\n",
    "model.add(layers.Dense(128, activation='relu'))\n",
    "model.add(layers.BatchNormalization())\n",
    "model.add(layers.Dropout(0.2))\n",
    "model.add(layers.Dense(46, activation='softmax'))"
   ]
  },
  {
   "cell_type": "code",
   "execution_count": 9,
   "id": "26ed8c5c",
   "metadata": {},
   "outputs": [],
   "source": [
    "model.compile(loss='categorical_crossentropy',\n",
    "              optimizer='Adam',\n",
    "              metrics=['accuracy'])"
   ]
  },
  {
   "cell_type": "code",
   "execution_count": 10,
   "id": "00301d54",
   "metadata": {},
   "outputs": [
    {
     "name": "stdout",
     "output_type": "stream",
     "text": [
      "Model: \"sequential\"\n",
      "_________________________________________________________________\n",
      " Layer (type)                Output Shape              Param #   \n",
      "=================================================================\n",
      " dense (Dense)               (None, 128)               1280128   \n",
      "                                                                 \n",
      " batch_normalization (BatchN  (None, 128)              512       \n",
      " ormalization)                                                   \n",
      "                                                                 \n",
      " dense_1 (Dense)             (None, 128)               16512     \n",
      "                                                                 \n",
      " dropout (Dropout)           (None, 128)               0         \n",
      "                                                                 \n",
      " dense_2 (Dense)             (None, 128)               16512     \n",
      "                                                                 \n",
      " batch_normalization_1 (Batc  (None, 128)              512       \n",
      " hNormalization)                                                 \n",
      "                                                                 \n",
      " dropout_1 (Dropout)         (None, 128)               0         \n",
      "                                                                 \n",
      " dense_3 (Dense)             (None, 46)                5934      \n",
      "                                                                 \n",
      "=================================================================\n",
      "Total params: 1,320,110\n",
      "Trainable params: 1,319,598\n",
      "Non-trainable params: 512\n",
      "_________________________________________________________________\n"
     ]
    }
   ],
   "source": [
    "model.summary()"
   ]
  },
  {
   "cell_type": "code",
   "execution_count": 11,
   "id": "4cdee740",
   "metadata": {},
   "outputs": [
    {
     "name": "stdout",
     "output_type": "stream",
     "text": [
      "(8982, 10000)\n",
      "(8982, 46)\n"
     ]
    }
   ],
   "source": [
    "print(x_train.shape)\n",
    "print(y_train.shape)"
   ]
  },
  {
   "cell_type": "markdown",
   "id": "5b0499ba",
   "metadata": {},
   "source": [
    "### 모델 학습\n",
    "* ModelCheckpoint와 EarlyStopping 콜백 함수를 적용하여 모델 학습을 진행합니다."
   ]
  },
  {
   "cell_type": "code",
   "execution_count": 12,
   "id": "52396e5b",
   "metadata": {},
   "outputs": [
    {
     "name": "stdout",
     "output_type": "stream",
     "text": [
      "Epoch 1/200\n",
      "281/281 [==============================] - ETA: 0s - loss: 1.6227 - accuracy: 0.6595"
     ]
    },
    {
     "name": "stderr",
     "output_type": "stream",
     "text": [
      "WARNING:absl:Found untraced functions such as _update_step_xla while saving (showing 1 of 1). These functions will not be directly callable after loading.\n"
     ]
    },
    {
     "name": "stdout",
     "output_type": "stream",
     "text": [
      "INFO:tensorflow:Assets written to: sequential\\assets\n"
     ]
    },
    {
     "name": "stderr",
     "output_type": "stream",
     "text": [
      "INFO:tensorflow:Assets written to: sequential\\assets\n"
     ]
    },
    {
     "name": "stdout",
     "output_type": "stream",
     "text": [
      "281/281 [==============================] - 12s 32ms/step - loss: 1.6227 - accuracy: 0.6595 - val_loss: 0.8330 - val_accuracy: 0.8330\n",
      "Epoch 2/200\n",
      "279/281 [============================>.] - ETA: 0s - loss: 0.7486 - accuracy: 0.8324"
     ]
    },
    {
     "name": "stderr",
     "output_type": "stream",
     "text": [
      "WARNING:absl:Found untraced functions such as _update_step_xla while saving (showing 1 of 1). These functions will not be directly callable after loading.\n"
     ]
    },
    {
     "name": "stdout",
     "output_type": "stream",
     "text": [
      "INFO:tensorflow:Assets written to: sequential\\assets\n"
     ]
    },
    {
     "name": "stderr",
     "output_type": "stream",
     "text": [
      "INFO:tensorflow:Assets written to: sequential\\assets\n"
     ]
    },
    {
     "name": "stdout",
     "output_type": "stream",
     "text": [
      "281/281 [==============================] - 8s 30ms/step - loss: 0.7517 - accuracy: 0.8319 - val_loss: 0.3284 - val_accuracy: 0.9248\n",
      "Epoch 3/200\n",
      "281/281 [==============================] - ETA: 0s - loss: 0.4618 - accuracy: 0.8933"
     ]
    },
    {
     "name": "stderr",
     "output_type": "stream",
     "text": [
      "WARNING:absl:Found untraced functions such as _update_step_xla while saving (showing 1 of 1). These functions will not be directly callable after loading.\n"
     ]
    },
    {
     "name": "stdout",
     "output_type": "stream",
     "text": [
      "INFO:tensorflow:Assets written to: sequential\\assets\n"
     ]
    },
    {
     "name": "stderr",
     "output_type": "stream",
     "text": [
      "INFO:tensorflow:Assets written to: sequential\\assets\n"
     ]
    },
    {
     "name": "stdout",
     "output_type": "stream",
     "text": [
      "281/281 [==============================] - 8s 28ms/step - loss: 0.4618 - accuracy: 0.8933 - val_loss: 0.1832 - val_accuracy: 0.9555\n",
      "Epoch 4/200\n",
      "278/281 [============================>.] - ETA: 0s - loss: 0.3139 - accuracy: 0.9231"
     ]
    },
    {
     "name": "stderr",
     "output_type": "stream",
     "text": [
      "WARNING:absl:Found untraced functions such as _update_step_xla while saving (showing 1 of 1). These functions will not be directly callable after loading.\n"
     ]
    },
    {
     "name": "stdout",
     "output_type": "stream",
     "text": [
      "INFO:tensorflow:Assets written to: sequential\\assets\n"
     ]
    },
    {
     "name": "stderr",
     "output_type": "stream",
     "text": [
      "INFO:tensorflow:Assets written to: sequential\\assets\n"
     ]
    },
    {
     "name": "stdout",
     "output_type": "stream",
     "text": [
      "281/281 [==============================] - 4s 14ms/step - loss: 0.3144 - accuracy: 0.9230 - val_loss: 0.1245 - val_accuracy: 0.9608\n",
      "Epoch 5/200\n",
      "281/281 [==============================] - ETA: 0s - loss: 0.2579 - accuracy: 0.9339"
     ]
    },
    {
     "name": "stderr",
     "output_type": "stream",
     "text": [
      "WARNING:absl:Found untraced functions such as _update_step_xla while saving (showing 1 of 1). These functions will not be directly callable after loading.\n"
     ]
    },
    {
     "name": "stdout",
     "output_type": "stream",
     "text": [
      "INFO:tensorflow:Assets written to: sequential\\assets\n"
     ]
    },
    {
     "name": "stderr",
     "output_type": "stream",
     "text": [
      "INFO:tensorflow:Assets written to: sequential\\assets\n"
     ]
    },
    {
     "name": "stdout",
     "output_type": "stream",
     "text": [
      "281/281 [==============================] - 8s 30ms/step - loss: 0.2579 - accuracy: 0.9339 - val_loss: 0.1207 - val_accuracy: 0.9608\n",
      "Epoch 6/200\n",
      "280/281 [============================>.] - ETA: 0s - loss: 0.2201 - accuracy: 0.9416"
     ]
    },
    {
     "name": "stderr",
     "output_type": "stream",
     "text": [
      "WARNING:absl:Found untraced functions such as _update_step_xla while saving (showing 1 of 1). These functions will not be directly callable after loading.\n"
     ]
    },
    {
     "name": "stdout",
     "output_type": "stream",
     "text": [
      "INFO:tensorflow:Assets written to: sequential\\assets\n"
     ]
    },
    {
     "name": "stderr",
     "output_type": "stream",
     "text": [
      "INFO:tensorflow:Assets written to: sequential\\assets\n"
     ]
    },
    {
     "name": "stdout",
     "output_type": "stream",
     "text": [
      "281/281 [==============================] - 10s 35ms/step - loss: 0.2196 - accuracy: 0.9418 - val_loss: 0.1026 - val_accuracy: 0.9688\n",
      "Epoch 7/200\n",
      "279/281 [============================>.] - ETA: 0s - loss: 0.2018 - accuracy: 0.9441"
     ]
    },
    {
     "name": "stderr",
     "output_type": "stream",
     "text": [
      "WARNING:absl:Found untraced functions such as _update_step_xla while saving (showing 1 of 1). These functions will not be directly callable after loading.\n"
     ]
    },
    {
     "name": "stdout",
     "output_type": "stream",
     "text": [
      "INFO:tensorflow:Assets written to: sequential\\assets\n"
     ]
    },
    {
     "name": "stderr",
     "output_type": "stream",
     "text": [
      "INFO:tensorflow:Assets written to: sequential\\assets\n"
     ]
    },
    {
     "name": "stdout",
     "output_type": "stream",
     "text": [
      "281/281 [==============================] - 10s 34ms/step - loss: 0.2013 - accuracy: 0.9442 - val_loss: 0.0996 - val_accuracy: 0.9688\n",
      "Epoch 8/200\n",
      "281/281 [==============================] - ETA: 0s - loss: 0.1818 - accuracy: 0.9480"
     ]
    },
    {
     "name": "stderr",
     "output_type": "stream",
     "text": [
      "WARNING:absl:Found untraced functions such as _update_step_xla while saving (showing 1 of 1). These functions will not be directly callable after loading.\n"
     ]
    },
    {
     "name": "stdout",
     "output_type": "stream",
     "text": [
      "INFO:tensorflow:Assets written to: sequential\\assets\n"
     ]
    },
    {
     "name": "stderr",
     "output_type": "stream",
     "text": [
      "INFO:tensorflow:Assets written to: sequential\\assets\n"
     ]
    },
    {
     "name": "stdout",
     "output_type": "stream",
     "text": [
      "281/281 [==============================] - 9s 31ms/step - loss: 0.1818 - accuracy: 0.9480 - val_loss: 0.0975 - val_accuracy: 0.9648\n",
      "Epoch 9/200\n",
      "281/281 [==============================] - 5s 18ms/step - loss: 0.1817 - accuracy: 0.9479 - val_loss: 0.0995 - val_accuracy: 0.9671\n",
      "Epoch 10/200\n",
      "279/281 [============================>.] - ETA: 0s - loss: 0.1668 - accuracy: 0.9504"
     ]
    },
    {
     "name": "stderr",
     "output_type": "stream",
     "text": [
      "WARNING:absl:Found untraced functions such as _update_step_xla while saving (showing 1 of 1). These functions will not be directly callable after loading.\n"
     ]
    },
    {
     "name": "stdout",
     "output_type": "stream",
     "text": [
      "INFO:tensorflow:Assets written to: sequential\\assets\n"
     ]
    },
    {
     "name": "stderr",
     "output_type": "stream",
     "text": [
      "INFO:tensorflow:Assets written to: sequential\\assets\n"
     ]
    },
    {
     "name": "stdout",
     "output_type": "stream",
     "text": [
      "281/281 [==============================] - 5s 19ms/step - loss: 0.1668 - accuracy: 0.9503 - val_loss: 0.0892 - val_accuracy: 0.9648\n",
      "Epoch 11/200\n",
      "281/281 [==============================] - ETA: 0s - loss: 0.1584 - accuracy: 0.9493"
     ]
    },
    {
     "name": "stderr",
     "output_type": "stream",
     "text": [
      "WARNING:absl:Found untraced functions such as _update_step_xla while saving (showing 1 of 1). These functions will not be directly callable after loading.\n"
     ]
    },
    {
     "name": "stdout",
     "output_type": "stream",
     "text": [
      "INFO:tensorflow:Assets written to: sequential\\assets\n"
     ]
    },
    {
     "name": "stderr",
     "output_type": "stream",
     "text": [
      "INFO:tensorflow:Assets written to: sequential\\assets\n"
     ]
    },
    {
     "name": "stdout",
     "output_type": "stream",
     "text": [
      "281/281 [==============================] - 9s 33ms/step - loss: 0.1584 - accuracy: 0.9493 - val_loss: 0.0728 - val_accuracy: 0.9706\n",
      "Epoch 12/200\n",
      "281/281 [==============================] - 5s 18ms/step - loss: 0.1566 - accuracy: 0.9505 - val_loss: 0.0867 - val_accuracy: 0.9653\n",
      "Epoch 13/200\n",
      "281/281 [==============================] - 5s 19ms/step - loss: 0.1442 - accuracy: 0.9531 - val_loss: 0.0843 - val_accuracy: 0.9688\n",
      "Epoch 14/200\n",
      "281/281 [==============================] - 5s 19ms/step - loss: 0.1412 - accuracy: 0.9536 - val_loss: 0.0842 - val_accuracy: 0.9684\n",
      "Epoch 15/200\n",
      "281/281 [==============================] - 5s 19ms/step - loss: 0.1428 - accuracy: 0.9547 - val_loss: 0.0844 - val_accuracy: 0.9679\n",
      "Epoch 16/200\n",
      "278/281 [============================>.] - ETA: 0s - loss: 0.1406 - accuracy: 0.9527"
     ]
    },
    {
     "name": "stderr",
     "output_type": "stream",
     "text": [
      "WARNING:absl:Found untraced functions such as _update_step_xla while saving (showing 1 of 1). These functions will not be directly callable after loading.\n"
     ]
    },
    {
     "name": "stdout",
     "output_type": "stream",
     "text": [
      "INFO:tensorflow:Assets written to: sequential\\assets\n"
     ]
    },
    {
     "name": "stderr",
     "output_type": "stream",
     "text": [
      "INFO:tensorflow:Assets written to: sequential\\assets\n"
     ]
    },
    {
     "name": "stdout",
     "output_type": "stream",
     "text": [
      "281/281 [==============================] - 9s 30ms/step - loss: 0.1419 - accuracy: 0.9525 - val_loss: 0.0672 - val_accuracy: 0.9706\n",
      "Epoch 17/200\n",
      "281/281 [==============================] - 4s 13ms/step - loss: 0.1379 - accuracy: 0.9539 - val_loss: 0.0840 - val_accuracy: 0.9666\n",
      "Epoch 18/200\n",
      "281/281 [==============================] - 3s 10ms/step - loss: 0.1307 - accuracy: 0.9542 - val_loss: 0.0745 - val_accuracy: 0.9720\n",
      "Epoch 19/200\n",
      "281/281 [==============================] - 4s 15ms/step - loss: 0.1324 - accuracy: 0.9544 - val_loss: 0.0757 - val_accuracy: 0.9666\n",
      "Epoch 20/200\n",
      "281/281 [==============================] - 5s 18ms/step - loss: 0.1290 - accuracy: 0.9550 - val_loss: 0.0763 - val_accuracy: 0.9679\n",
      "Epoch 21/200\n",
      "281/281 [==============================] - 5s 18ms/step - loss: 0.1315 - accuracy: 0.9549 - val_loss: 0.0743 - val_accuracy: 0.9653\n",
      "Epoch 22/200\n",
      "281/281 [==============================] - 5s 18ms/step - loss: 0.1227 - accuracy: 0.9567 - val_loss: 0.0727 - val_accuracy: 0.9666\n",
      "Epoch 23/200\n",
      "281/281 [==============================] - 5s 18ms/step - loss: 0.1179 - accuracy: 0.9567 - val_loss: 0.0746 - val_accuracy: 0.9644\n",
      "Epoch 24/200\n",
      "281/281 [==============================] - 5s 18ms/step - loss: 0.1186 - accuracy: 0.9576 - val_loss: 0.0722 - val_accuracy: 0.9630\n",
      "Epoch 25/200\n",
      "281/281 [==============================] - 5s 19ms/step - loss: 0.1122 - accuracy: 0.9565 - val_loss: 0.0715 - val_accuracy: 0.9626\n",
      "Epoch 26/200\n",
      "281/281 [==============================] - 5s 18ms/step - loss: 0.1193 - accuracy: 0.9556 - val_loss: 0.0720 - val_accuracy: 0.9657\n"
     ]
    }
   ],
   "source": [
    "from tensorflow.keras import callbacks\n",
    "\n",
    "check_point_cb = callbacks.ModelCheckpoint('sequential', \n",
    "                                           save_best_only=True)\n",
    "early_stopping_cb = callbacks.EarlyStopping(patience=10, \n",
    "                                            monitor='val_loss',\n",
    "                                            restore_best_weights=True)\n",
    "history = model.fit(x_train, y_train, epochs=200,\n",
    "                    validation_data=(x_val, y_val),\n",
    "                    callbacks=[check_point_cb, early_stopping_cb])\n"
   ]
  },
  {
   "cell_type": "code",
   "execution_count": 13,
   "id": "8af501d2",
   "metadata": {},
   "outputs": [
    {
     "data": {
      "image/png": "[encoded data removed]",
      "text/plain": [
       "<Figure size 1200x500 with 2 Axes>"
      ]
     },
     "metadata": {},
     "output_type": "display_data"
    }
   ],
   "source": [
    "# 학습 히스토리의 `loss`, `val_loss`, `accuracy`, `val_accuracy`를 차트로 시각화합니다.\n",
    "plt.style.use('seaborn-white')\n",
    "\n",
    "history_dict = history.history\n",
    "\n",
    "loss = history_dict['loss']\n",
    "val_loss = history_dict['val_loss']\n",
    "\n",
    "epochs = range(1, len(loss) + 1)\n",
    "fig = plt.figure(figsize=(12, 5))\n",
    "\n",
    "ax1 = fig.add_subplot(1, 2, 1)\n",
    "ax1.plot(epochs, loss, 'b-', label='train_loss')\n",
    "ax1.plot(epochs, val_loss, 'r-', label='val_loss')\n",
    "ax1.set_title('Train and Validation Loss')\n",
    "ax1.set_xlabel('Epochs')\n",
    "ax1.set_ylabel('Loss')\n",
    "ax1.grid()\n",
    "ax1.legend()\n",
    "\n",
    "accuracy = history_dict['accuracy']\n",
    "val_accuracy = history_dict['val_accuracy']\n",
    "\n",
    "ax2 = fig.add_subplot(1, 2, 2)\n",
    "ax2.plot(epochs, accuracy, 'b-', label='train_accuracy')\n",
    "ax2.plot(epochs, val_accuracy, 'r-', label='val_accuracy')\n",
    "ax2.set_title('Train and Validation Accuracy')\n",
    "ax2.set_xlabel('Epochs')\n",
    "ax2.set_ylabel('Accuracy')\n",
    "ax2.grid()\n",
    "ax2.legend()\n",
    "\n",
    "plt.show()"
   ]
  },
  {
   "cell_type": "code",
   "execution_count": 14,
   "id": "44eb42b6",
   "metadata": {},
   "outputs": [
    {
     "name": "stdout",
     "output_type": "stream",
     "text": [
      "71/71 [==============================] - 0s 4ms/step - loss: 1.3887 - accuracy: 0.7970\n"
     ]
    },
    {
     "data": {
      "text/plain": [
       "[1.3886797428131104, 0.796972393989563]"
      ]
     },
     "execution_count": 14,
     "metadata": {},
     "output_type": "execute_result"
    }
   ],
   "source": [
    "# 문제 2-5: 테스트 데이터셋을 이용해 모델을 평가합니다.\n",
    "# [[YOUR CODE]]\n",
    "model.evaluate(x_test, y_test)"
   ]
  },
  {
   "cell_type": "markdown",
   "id": "8a450595",
   "metadata": {},
   "source": [
    "# 회고\n",
    "\n",
    "* 개인적으로 시간이 오래걸렸던 문제였다.\n",
    "원핫 인코딩에 대해서는 많이 다뤘던 주제였지만, 이것을 평가하고 검증데이터로 넣기 까지, 꽤나 오랜 시간이 걸렸다. 조원분들에게 물어보기도 하고, 새로 알게된 사실도 알게 되었는데.\n",
    "\n",
    "> model.compile(loss='sparse_categorical_crossentropy') 이 부분이었다.\n",
    "이 부분은 sparse_를 넣어서 문제가 됬었는데, 이 코드는 원핫 인코딩을 자동으로 넣는다는 코드여서 그렇게 애먹었던 것이었다.\n",
    "\n",
    ">>  model.compile(loss='categorical_crossentropy')\n",
    "이부분을 이렇게 바꾸니 원활히 제대로 평가가 되었다.\n",
    "\n",
    "\n",
    "딥러닝에 대해 얕게나마, 알게되는 시간이었다."
   ]
  }
 ],
 "metadata": {
  "kernelspec": {
   "display_name": "Python 3 (ipykernel)",
   "language": "python",
   "name": "python3"
  },
  "language_info": {
   "codemirror_mode": {
    "name": "ipython",
    "version": 3
   },
   "file_extension": ".py",
   "mimetype": "text/x-python",
   "name": "python",
   "nbconvert_exporter": "python",
   "pygments_lexer": "ipython3",
   "version": "3.9.13"
  },
  "toc": {
   "base_numbering": 1,
   "nav_menu": {},
   "number_sections": true,
   "sideBar": true,
   "skip_h1_title": false,
   "title_cell": "Table of Contents",
   "title_sidebar": "Contents",
   "toc_cell": false,
   "toc_position": {},
   "toc_section_display": true,
   "toc_window_display": false
  }
 },
 "nbformat": 4,
 "nbformat_minor": 5
}
