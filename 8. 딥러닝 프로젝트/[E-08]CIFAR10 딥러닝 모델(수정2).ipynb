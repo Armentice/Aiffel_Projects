{
 "cells": [
  {
   "cell_type": "markdown",
   "id": "2cef7341",
   "metadata": {},
   "source": [
    "CIFAR10 데이터셋은 32x32 픽셀의 6,000개 컬러 이미지로 이루어져 있습니다. 데이터셋의 각 이미지는 10개의 클래스로 라벨링 되어 있으며, 머신러닝 연구에 가장 널리 사용되고 있습니다.\n",
    "\n",
    "데이터 로드 및 전처리\n",
    "CIFAR10 데이터셋을 로드하고, 훈련 데이터셋에서 20%를 검증 데이터셋으로 분리합니다. 데이터셋은 keras.datasets에서 불러올 수 있는 CIFAR10 데이터 셋을 활용합니다.\n",
    "데이터셋 분리 작업에서는 sklearn 라이브러리의 train_test_split 함수를 활용합니다.\n",
    "훈련, 검증, 테스트 데이터와 레이블 종류가 몇개인지 출력합니다."
   ]
  },
  {
   "cell_type": "code",
   "execution_count": 1,
   "id": "b7f72579",
   "metadata": {},
   "outputs": [],
   "source": [
    "import matplotlib.pyplot as plt\n",
    "from sklearn.model_selection import train_test_split\n",
    "\n",
    "from tensorflow.keras import models, layers\n",
    "from tensorflow.keras import utils\n",
    "from tensorflow.keras.datasets import cifar10"
   ]
  },
  {
   "cell_type": "code",
   "execution_count": 2,
   "id": "134f726d",
   "metadata": {},
   "outputs": [
    {
     "data": {
      "text/plain": [
       "<function keras.datasets.cifar10.load_data()>"
      ]
     },
     "execution_count": 2,
     "metadata": {},
     "output_type": "execute_result"
    }
   ],
   "source": [
    "cifar10.load_data"
   ]
  },
  {
   "cell_type": "code",
   "execution_count": 3,
   "id": "d0f14e2b",
   "metadata": {},
   "outputs": [
    {
     "name": "stdout",
     "output_type": "stream",
     "text": [
      "전체 학습 데이터: (50000, 32, 32, 3) 레이블: (50000, 1)\n",
      "학습 데이터: (40000, 32, 32, 3) 레이블: (40000, 1)\n",
      "검증 데이터: (10000, 32, 32, 3) 레이블: (10000, 1)\n",
      "테스트 데이터: (10000, 32, 32, 3) 레이블: (10000, 1)\n"
     ]
    }
   ],
   "source": [
    "# 문제 3-1: cifar10 데이터셋을 로드하고, 훈련 데이터셋에서 20%를 검증 데이터셋으로 분리합니다.\n",
    "# [[YOUR CODE]]\n",
    "(x_train_full, y_train_full), (x_test, y_test) = cifar10.load_data()\n",
    "x_train,x_val,y_train ,y_val = train_test_split(x_train_full,y_train_full,\n",
    "                                                test_size=0.2,\n",
    "                                                random_state=2023)\n",
    "\n",
    "# 훈련, 검증, 테스트 데이터와 레이블 종류가 몇개인지 출력합니다.\n",
    "print(\"전체 학습 데이터: {} 레이블: {}\".format(x_train_full.shape, y_train_full.shape))\n",
    "print(\"학습 데이터: {} 레이블: {}\".format(x_train.shape, y_train.shape))\n",
    "print(\"검증 데이터: {} 레이블: {}\".format(x_val.shape, y_val.shape))\n",
    "print(\"테스트 데이터: {} 레이블: {}\".format(x_test.shape, y_test.shape))"
   ]
  },
  {
   "cell_type": "markdown",
   "id": "5125b2e7",
   "metadata": {},
   "source": [
    "* class_name 변수를 만들어 cifar10의 분류에 해당하는 'airplane', 'automobile', 'bird', 'cat', 'deer', 'dog', 'frog', 'horse', 'ship', 'truck'를 담습니다."
   ]
  },
  {
   "cell_type": "markdown",
   "id": "c1160783",
   "metadata": {},
   "source": [
    "깃헙에서 확인가능"
   ]
  },
  {
   "cell_type": "code",
   "execution_count": 4,
   "id": "d8dc716e",
   "metadata": {},
   "outputs": [],
   "source": [
    "# cifar10의 분류에 해당하는 'airplane', 'automobile', 'bird', 'cat', 'deer', \n",
    "# 'dog', 'frog', 'horse', 'ship', 'truck'를 class_name으로 정의합니다.\n",
    "class_names = ['airplane', 'automobile', 'bird', 'cat', 'deer',\n",
    "               'dog', 'frog', 'horse', 'ship', 'truck']"
   ]
  },
  {
   "cell_type": "markdown",
   "id": "ba1521c1",
   "metadata": {},
   "source": [
    "* 데이터 중 샘플 하나를 시각화해보고, 데이터의 형태를 확인해봅니다."
   ]
  },
  {
   "cell_type": "code",
   "execution_count": 5,
   "id": "a399b087",
   "metadata": {},
   "outputs": [
    {
     "data": {
      "image/png": "[encoded data removed]",
      "text/plain": [
       "<Figure size 640x480 with 2 Axes>"
      ]
     },
     "metadata": {},
     "output_type": "display_data"
    }
   ],
   "source": [
    "# 훈련 데이터의 0번째인 x_train[0]를 이미지로 시각화합니다.\n",
    "plt.style.use('seaborn-white')\n",
    "\n",
    "plt.figure()\n",
    "plt.imshow(x_train[0])\n",
    "plt.colorbar()\n",
    "plt.show()"
   ]
  },
  {
   "cell_type": "code",
   "execution_count": 6,
   "id": "922a492a",
   "metadata": {},
   "outputs": [
    {
     "name": "stdout",
     "output_type": "stream",
     "text": [
      "(40000, 32, 32, 3)\n",
      "(10000, 32, 32, 3)\n",
      "(10000, 32, 32, 3)\n"
     ]
    }
   ],
   "source": [
    "# 훈련, 검증, 테스트 데이터의 형태(shape)을 출력합니다.\n",
    "print(x_train.shape)\n",
    "print(x_val.shape)\n",
    "print(x_test.shape)"
   ]
  },
  {
   "cell_type": "markdown",
   "id": "db7d290d",
   "metadata": {},
   "source": [
    "* 데이터의 형태를 변형하여 모델이 잘 학습할 수 있게끔 해줍니다."
   ]
  },
  {
   "cell_type": "code",
   "execution_count": 7,
   "id": "7d7bc039",
   "metadata": {},
   "outputs": [
    {
     "name": "stdout",
     "output_type": "stream",
     "text": [
      "(40000, 3072)\n",
      "(10000, 3072)\n",
      "(10000, 3072)\n"
     ]
    }
   ],
   "source": [
    "# 문제 3-2: 훈련, 검증, 테스트 데이터의 형태(shape)을 32 * 32 * 3 = 3072로 변형합니다.\n",
    "# [[YOUR CODE]]\n",
    "x_train = x_train.reshape(-1,32 * 32 * 3)\n",
    "x_val = x_val.reshape(-1, 32 * 32 * 3)\n",
    "x_test = x_test.reshape(-1, 32 * 32 * 3)\n",
    "\n",
    "print(x_train.shape)\n",
    "print(x_val.shape)\n",
    "print(x_test.shape)"
   ]
  },
  {
   "cell_type": "code",
   "execution_count": 8,
   "id": "bd981650",
   "metadata": {},
   "outputs": [
    {
     "name": "stdout",
     "output_type": "stream",
     "text": [
      "[  7   7   6 ... 197 196 199]\n"
     ]
    }
   ],
   "source": [
    "print(x_train[0])"
   ]
  },
  {
   "cell_type": "code",
   "execution_count": 9,
   "id": "d047a7dc",
   "metadata": {},
   "outputs": [],
   "source": [
    "# 훈련, 검증, 테스트 데이터를 255로 나누어 0~1 사이의 값으로 변환합니다.\n",
    "x_train = x_train / 255.\n",
    "x_val = x_val / 255.\n",
    "x_test = x_test / 255."
   ]
  },
  {
   "cell_type": "markdown",
   "id": "c3dd865c",
   "metadata": {},
   "source": [
    "# 모델 구성 및 컴파일\n",
    "* BatchNormalization과 Dropout을 적용하여 빠르게 학습하면서 과대적합을 방지하고, 10개의 이미지를 분류하는 딥러닝 모델을 구성합니다."
   ]
  },
  {
   "cell_type": "code",
   "execution_count": 10,
   "id": "e3422216",
   "metadata": {},
   "outputs": [],
   "source": [
    "model = models.Sequential()\n",
    "model.add(layers.Input(shape=(3072, )))\n",
    "model.add(layers.Dense(2048))\n",
    "model.add(layers.Activation('relu'))\n",
    "model.add(layers.BatchNormalization())\n",
    "model.add(layers.Activation('relu'))\n",
    "model.add(layers.Dropout(0.5))\n",
    "model.add(layers.Dense(1024))\n",
    "model.add(layers.BatchNormalization())\n",
    "model.add(layers.Activation('relu'))\n",
    "model.add(layers.Dropout(0.5))\n",
    "model.add(layers.Dense(512))\n",
    "model.add(layers.BatchNormalization())\n",
    "model.add(layers.Activation('relu'))\n",
    "model.add(layers.Dense(512))\n",
    "model.add(layers.Dropout(0.5))\n",
    "model.add(layers.Dense(10))\n",
    "model.add(layers.BatchNormalization())\n",
    "model.add(layers.Dense(10,activation='softmax'))"
   ]
  },
  {
   "cell_type": "code",
   "execution_count": 11,
   "id": "8871d613",
   "metadata": {},
   "outputs": [],
   "source": [
    "model.compile(loss='sparse_categorical_crossentropy',\n",
    "              optimizer='SGD',\n",
    "              metrics=['accuracy'])"
   ]
  },
  {
   "cell_type": "code",
   "execution_count": 12,
   "id": "4509a5c3",
   "metadata": {},
   "outputs": [
    {
     "name": "stdout",
     "output_type": "stream",
     "text": [
      "Model: \"sequential\"\n",
      "_________________________________________________________________\n",
      " Layer (type)                Output Shape              Param #   \n",
      "=================================================================\n",
      " dense (Dense)               (None, 2048)              6293504   \n",
      "                                                                 \n",
      " activation (Activation)     (None, 2048)              0         \n",
      "                                                                 \n",
      " batch_normalization (BatchN  (None, 2048)             8192      \n",
      " ormalization)                                                   \n",
      "                                                                 \n",
      " activation_1 (Activation)   (None, 2048)              0         \n",
      "                                                                 \n",
      " dropout (Dropout)           (None, 2048)              0         \n",
      "                                                                 \n",
      " dense_1 (Dense)             (None, 1024)              2098176   \n",
      "                                                                 \n",
      " batch_normalization_1 (Batc  (None, 1024)             4096      \n",
      " hNormalization)                                                 \n",
      "                                                                 \n",
      " activation_2 (Activation)   (None, 1024)              0         \n",
      "                                                                 \n",
      " dropout_1 (Dropout)         (None, 1024)              0         \n",
      "                                                                 \n",
      " dense_2 (Dense)             (None, 512)               524800    \n",
      "                                                                 \n",
      " batch_normalization_2 (Batc  (None, 512)              2048      \n",
      " hNormalization)                                                 \n",
      "                                                                 \n",
      " activation_3 (Activation)   (None, 512)               0         \n",
      "                                                                 \n",
      " dense_3 (Dense)             (None, 512)               262656    \n",
      "                                                                 \n",
      " dropout_2 (Dropout)         (None, 512)               0         \n",
      "                                                                 \n",
      " dense_4 (Dense)             (None, 10)                5130      \n",
      "                                                                 \n",
      " batch_normalization_3 (Batc  (None, 10)               40        \n",
      " hNormalization)                                                 \n",
      "                                                                 \n",
      " dense_5 (Dense)             (None, 10)                110       \n",
      "                                                                 \n",
      "=================================================================\n",
      "Total params: 9,198,752\n",
      "Trainable params: 9,191,564\n",
      "Non-trainable params: 7,188\n",
      "_________________________________________________________________\n"
     ]
    }
   ],
   "source": [
    "model.summary()"
   ]
  },
  {
   "cell_type": "code",
   "execution_count": 13,
   "id": "636d016d",
   "metadata": {},
   "outputs": [
    {
     "name": "stdout",
     "output_type": "stream",
     "text": [
      "You must install pydot (`pip install pydot`) and install graphviz (see instructions at https://graphviz.gitlab.io/download/) for plot_model to work.\n"
     ]
    }
   ],
   "source": [
    "utils.plot_model(model, show_shapes=True)"
   ]
  },
  {
   "cell_type": "markdown",
   "id": "4f9cd655",
   "metadata": {},
   "source": [
    "# 모델 학습\n",
    "* ModelCheckpoint와 EarlyStopping 콜백 함수를 적용하여 모델 학습을 진행합니다."
   ]
  },
  {
   "cell_type": "code",
   "execution_count": 14,
   "id": "fcff174c",
   "metadata": {},
   "outputs": [
    {
     "name": "stdout",
     "output_type": "stream",
     "text": [
      "Epoch 1/200\n",
      "1250/1250 [==============================] - ETA: 0s - loss: 2.0121 - accuracy: 0.2709"
     ]
    },
    {
     "name": "stderr",
     "output_type": "stream",
     "text": [
      "WARNING:absl:Found untraced functions such as _update_step_xla while saving (showing 1 of 1). These functions will not be directly callable after loading.\n"
     ]
    },
    {
     "name": "stdout",
     "output_type": "stream",
     "text": [
      "INFO:tensorflow:Assets written to: sequential\\assets\n"
     ]
    },
    {
     "name": "stderr",
     "output_type": "stream",
     "text": [
      "INFO:tensorflow:Assets written to: sequential\\assets\n"
     ]
    },
    {
     "name": "stdout",
     "output_type": "stream",
     "text": [
      "1250/1250 [==============================] - 34s 26ms/step - loss: 2.0121 - accuracy: 0.2709 - val_loss: 1.8065 - val_accuracy: 0.3568\n",
      "Epoch 2/200\n",
      "1248/1250 [============================>.] - ETA: 0s - loss: 1.8200 - accuracy: 0.3410"
     ]
    },
    {
     "name": "stderr",
     "output_type": "stream",
     "text": [
      "WARNING:absl:Found untraced functions such as _update_step_xla while saving (showing 1 of 1). These functions will not be directly callable after loading.\n"
     ]
    },
    {
     "name": "stdout",
     "output_type": "stream",
     "text": [
      "INFO:tensorflow:Assets written to: sequential\\assets\n"
     ]
    },
    {
     "name": "stderr",
     "output_type": "stream",
     "text": [
      "INFO:tensorflow:Assets written to: sequential\\assets\n"
     ]
    },
    {
     "name": "stdout",
     "output_type": "stream",
     "text": [
      "1250/1250 [==============================] - 39s 31ms/step - loss: 1.8199 - accuracy: 0.3409 - val_loss: 1.7196 - val_accuracy: 0.3854\n",
      "Epoch 3/200\n",
      "1250/1250 [==============================] - ETA: 0s - loss: 1.7624 - accuracy: 0.3630"
     ]
    },
    {
     "name": "stderr",
     "output_type": "stream",
     "text": [
      "WARNING:absl:Found untraced functions such as _update_step_xla while saving (showing 1 of 1). These functions will not be directly callable after loading.\n"
     ]
    },
    {
     "name": "stdout",
     "output_type": "stream",
     "text": [
      "INFO:tensorflow:Assets written to: sequential\\assets\n"
     ]
    },
    {
     "name": "stderr",
     "output_type": "stream",
     "text": [
      "INFO:tensorflow:Assets written to: sequential\\assets\n"
     ]
    },
    {
     "name": "stdout",
     "output_type": "stream",
     "text": [
      "1250/1250 [==============================] - 46s 37ms/step - loss: 1.7624 - accuracy: 0.3630 - val_loss: 1.6709 - val_accuracy: 0.3984\n",
      "Epoch 4/200\n",
      "1250/1250 [==============================] - ETA: 0s - loss: 1.7288 - accuracy: 0.3778"
     ]
    },
    {
     "name": "stderr",
     "output_type": "stream",
     "text": [
      "WARNING:absl:Found untraced functions such as _update_step_xla while saving (showing 1 of 1). These functions will not be directly callable after loading.\n"
     ]
    },
    {
     "name": "stdout",
     "output_type": "stream",
     "text": [
      "INFO:tensorflow:Assets written to: sequential\\assets\n"
     ]
    },
    {
     "name": "stderr",
     "output_type": "stream",
     "text": [
      "INFO:tensorflow:Assets written to: sequential\\assets\n"
     ]
    },
    {
     "name": "stdout",
     "output_type": "stream",
     "text": [
      "1250/1250 [==============================] - 47s 38ms/step - loss: 1.7288 - accuracy: 0.3778 - val_loss: 1.6207 - val_accuracy: 0.4218\n",
      "Epoch 5/200\n",
      "1250/1250 [==============================] - ETA: 0s - loss: 1.7044 - accuracy: 0.3867"
     ]
    },
    {
     "name": "stderr",
     "output_type": "stream",
     "text": [
      "WARNING:absl:Found untraced functions such as _update_step_xla while saving (showing 1 of 1). These functions will not be directly callable after loading.\n"
     ]
    },
    {
     "name": "stdout",
     "output_type": "stream",
     "text": [
      "INFO:tensorflow:Assets written to: sequential\\assets\n"
     ]
    },
    {
     "name": "stderr",
     "output_type": "stream",
     "text": [
      "INFO:tensorflow:Assets written to: sequential\\assets\n"
     ]
    },
    {
     "name": "stdout",
     "output_type": "stream",
     "text": [
      "1250/1250 [==============================] - 46s 37ms/step - loss: 1.7044 - accuracy: 0.3867 - val_loss: 1.5870 - val_accuracy: 0.4362\n",
      "Epoch 6/200\n",
      "1248/1250 [============================>.] - ETA: 0s - loss: 1.6854 - accuracy: 0.3926"
     ]
    },
    {
     "name": "stderr",
     "output_type": "stream",
     "text": [
      "WARNING:absl:Found untraced functions such as _update_step_xla while saving (showing 1 of 1). These functions will not be directly callable after loading.\n"
     ]
    },
    {
     "name": "stdout",
     "output_type": "stream",
     "text": [
      "INFO:tensorflow:Assets written to: sequential\\assets\n"
     ]
    },
    {
     "name": "stderr",
     "output_type": "stream",
     "text": [
      "INFO:tensorflow:Assets written to: sequential\\assets\n"
     ]
    },
    {
     "name": "stdout",
     "output_type": "stream",
     "text": [
      "1250/1250 [==============================] - 33s 27ms/step - loss: 1.6853 - accuracy: 0.3927 - val_loss: 1.5784 - val_accuracy: 0.4339\n",
      "Epoch 7/200\n",
      "1250/1250 [==============================] - 32s 25ms/step - loss: 1.6857 - accuracy: 0.3917 - val_loss: 1.5911 - val_accuracy: 0.4263\n",
      "Epoch 8/200\n",
      "1249/1250 [============================>.] - ETA: 0s - loss: 1.6809 - accuracy: 0.3954"
     ]
    },
    {
     "name": "stderr",
     "output_type": "stream",
     "text": [
      "WARNING:absl:Found untraced functions such as _update_step_xla while saving (showing 1 of 1). These functions will not be directly callable after loading.\n"
     ]
    },
    {
     "name": "stdout",
     "output_type": "stream",
     "text": [
      "INFO:tensorflow:Assets written to: sequential\\assets\n"
     ]
    },
    {
     "name": "stderr",
     "output_type": "stream",
     "text": [
      "INFO:tensorflow:Assets written to: sequential\\assets\n"
     ]
    },
    {
     "name": "stdout",
     "output_type": "stream",
     "text": [
      "1250/1250 [==============================] - 33s 27ms/step - loss: 1.6811 - accuracy: 0.3954 - val_loss: 1.5682 - val_accuracy: 0.4398\n",
      "Epoch 9/200\n",
      "1248/1250 [============================>.] - ETA: 0s - loss: 1.6706 - accuracy: 0.4027"
     ]
    },
    {
     "name": "stderr",
     "output_type": "stream",
     "text": [
      "WARNING:absl:Found untraced functions such as _update_step_xla while saving (showing 1 of 1). These functions will not be directly callable after loading.\n"
     ]
    },
    {
     "name": "stdout",
     "output_type": "stream",
     "text": [
      "INFO:tensorflow:Assets written to: sequential\\assets\n"
     ]
    },
    {
     "name": "stderr",
     "output_type": "stream",
     "text": [
      "INFO:tensorflow:Assets written to: sequential\\assets\n"
     ]
    },
    {
     "name": "stdout",
     "output_type": "stream",
     "text": [
      "1250/1250 [==============================] - 34s 27ms/step - loss: 1.6708 - accuracy: 0.4027 - val_loss: 1.5625 - val_accuracy: 0.4422\n",
      "Epoch 10/200\n",
      "1250/1250 [==============================] - 37s 29ms/step - loss: 1.6726 - accuracy: 0.3981 - val_loss: 1.5943 - val_accuracy: 0.4335\n",
      "Epoch 11/200\n",
      "1250/1250 [==============================] - 32s 26ms/step - loss: 1.6842 - accuracy: 0.3952 - val_loss: 1.6251 - val_accuracy: 0.4192\n",
      "Epoch 12/200\n",
      "1248/1250 [============================>.] - ETA: 0s - loss: 1.6797 - accuracy: 0.3966"
     ]
    },
    {
     "name": "stderr",
     "output_type": "stream",
     "text": [
      "WARNING:absl:Found untraced functions such as _update_step_xla while saving (showing 1 of 1). These functions will not be directly callable after loading.\n"
     ]
    },
    {
     "name": "stdout",
     "output_type": "stream",
     "text": [
      "INFO:tensorflow:Assets written to: sequential\\assets\n"
     ]
    },
    {
     "name": "stderr",
     "output_type": "stream",
     "text": [
      "INFO:tensorflow:Assets written to: sequential\\assets\n"
     ]
    },
    {
     "name": "stdout",
     "output_type": "stream",
     "text": [
      "1250/1250 [==============================] - 33s 27ms/step - loss: 1.6797 - accuracy: 0.3965 - val_loss: 1.5616 - val_accuracy: 0.4385\n",
      "Epoch 13/200\n",
      "1250/1250 [==============================] - 32s 26ms/step - loss: 1.6768 - accuracy: 0.3977 - val_loss: 1.5911 - val_accuracy: 0.4302\n",
      "Epoch 14/200\n",
      "1250/1250 [==============================] - 33s 26ms/step - loss: 1.6629 - accuracy: 0.3989 - val_loss: 1.5674 - val_accuracy: 0.4372\n",
      "Epoch 15/200\n",
      "1250/1250 [==============================] - 32s 26ms/step - loss: 1.6771 - accuracy: 0.3950 - val_loss: 1.5727 - val_accuracy: 0.4426\n",
      "Epoch 16/200\n",
      "1248/1250 [============================>.] - ETA: 0s - loss: 1.6726 - accuracy: 0.4004"
     ]
    },
    {
     "name": "stderr",
     "output_type": "stream",
     "text": [
      "WARNING:absl:Found untraced functions such as _update_step_xla while saving (showing 1 of 1). These functions will not be directly callable after loading.\n"
     ]
    },
    {
     "name": "stdout",
     "output_type": "stream",
     "text": [
      "INFO:tensorflow:Assets written to: sequential\\assets\n"
     ]
    },
    {
     "name": "stderr",
     "output_type": "stream",
     "text": [
      "INFO:tensorflow:Assets written to: sequential\\assets\n"
     ]
    },
    {
     "name": "stdout",
     "output_type": "stream",
     "text": [
      "1250/1250 [==============================] - 34s 27ms/step - loss: 1.6724 - accuracy: 0.4006 - val_loss: 1.5491 - val_accuracy: 0.4433\n",
      "Epoch 17/200\n",
      "1250/1250 [==============================] - 33s 26ms/step - loss: 1.6738 - accuracy: 0.3959 - val_loss: 1.5740 - val_accuracy: 0.4400\n",
      "Epoch 18/200\n",
      "1250/1250 [==============================] - ETA: 0s - loss: 1.6710 - accuracy: 0.4006"
     ]
    },
    {
     "name": "stderr",
     "output_type": "stream",
     "text": [
      "WARNING:absl:Found untraced functions such as _update_step_xla while saving (showing 1 of 1). These functions will not be directly callable after loading.\n"
     ]
    },
    {
     "name": "stdout",
     "output_type": "stream",
     "text": [
      "INFO:tensorflow:Assets written to: sequential\\assets\n"
     ]
    },
    {
     "name": "stderr",
     "output_type": "stream",
     "text": [
      "INFO:tensorflow:Assets written to: sequential\\assets\n"
     ]
    },
    {
     "name": "stdout",
     "output_type": "stream",
     "text": [
      "1250/1250 [==============================] - 35s 28ms/step - loss: 1.6710 - accuracy: 0.4006 - val_loss: 1.5414 - val_accuracy: 0.4518\n",
      "Epoch 19/200\n",
      "1250/1250 [==============================] - 33s 26ms/step - loss: 1.6860 - accuracy: 0.3923 - val_loss: 1.5935 - val_accuracy: 0.4314\n",
      "Epoch 20/200\n",
      "1250/1250 [==============================] - 33s 26ms/step - loss: 1.6899 - accuracy: 0.3963 - val_loss: 1.5839 - val_accuracy: 0.4397\n",
      "Epoch 21/200\n",
      "1250/1250 [==============================] - 32s 26ms/step - loss: 1.7003 - accuracy: 0.3864 - val_loss: 1.6370 - val_accuracy: 0.4210\n",
      "Epoch 22/200\n",
      "1250/1250 [==============================] - 33s 26ms/step - loss: 1.6925 - accuracy: 0.3920 - val_loss: 1.6080 - val_accuracy: 0.4315\n",
      "Epoch 23/200\n",
      "1250/1250 [==============================] - 32s 26ms/step - loss: 1.6865 - accuracy: 0.3956 - val_loss: 1.5755 - val_accuracy: 0.4404\n",
      "Epoch 24/200\n",
      "1250/1250 [==============================] - 32s 26ms/step - loss: 1.6785 - accuracy: 0.3970 - val_loss: 1.6868 - val_accuracy: 0.4079\n",
      "Epoch 25/200\n",
      "1250/1250 [==============================] - 32s 26ms/step - loss: 1.6689 - accuracy: 0.4010 - val_loss: 1.5964 - val_accuracy: 0.4360\n",
      "Epoch 26/200\n",
      "1250/1250 [==============================] - 32s 26ms/step - loss: 1.6694 - accuracy: 0.3981 - val_loss: 1.5533 - val_accuracy: 0.4495\n",
      "Epoch 27/200\n",
      "1250/1250 [==============================] - 32s 26ms/step - loss: 1.6563 - accuracy: 0.4038 - val_loss: 1.5433 - val_accuracy: 0.4491\n",
      "Epoch 28/200\n",
      "1250/1250 [==============================] - ETA: 0s - loss: 1.6668 - accuracy: 0.4002"
     ]
    },
    {
     "name": "stderr",
     "output_type": "stream",
     "text": [
      "WARNING:absl:Found untraced functions such as _update_step_xla while saving (showing 1 of 1). These functions will not be directly callable after loading.\n"
     ]
    },
    {
     "name": "stdout",
     "output_type": "stream",
     "text": [
      "INFO:tensorflow:Assets written to: sequential\\assets\n"
     ]
    },
    {
     "name": "stderr",
     "output_type": "stream",
     "text": [
      "INFO:tensorflow:Assets written to: sequential\\assets\n"
     ]
    },
    {
     "name": "stdout",
     "output_type": "stream",
     "text": [
      "1250/1250 [==============================] - 32s 26ms/step - loss: 1.6668 - accuracy: 0.4002 - val_loss: 1.5363 - val_accuracy: 0.4490\n",
      "Epoch 29/200\n",
      "1250/1250 [==============================] - 31s 25ms/step - loss: 1.6722 - accuracy: 0.3975 - val_loss: 1.5983 - val_accuracy: 0.4178\n",
      "Epoch 30/200\n",
      "1250/1250 [==============================] - 31s 25ms/step - loss: 1.6553 - accuracy: 0.4047 - val_loss: 1.6008 - val_accuracy: 0.4363\n",
      "Epoch 31/200\n",
      "1250/1250 [==============================] - 32s 25ms/step - loss: 1.6510 - accuracy: 0.4066 - val_loss: 1.5814 - val_accuracy: 0.4300\n",
      "Epoch 32/200\n",
      "1250/1250 [==============================] - ETA: 0s - loss: 1.6561 - accuracy: 0.4071"
     ]
    },
    {
     "name": "stderr",
     "output_type": "stream",
     "text": [
      "WARNING:absl:Found untraced functions such as _update_step_xla while saving (showing 1 of 1). These functions will not be directly callable after loading.\n"
     ]
    },
    {
     "name": "stdout",
     "output_type": "stream",
     "text": [
      "INFO:tensorflow:Assets written to: sequential\\assets\n"
     ]
    },
    {
     "name": "stderr",
     "output_type": "stream",
     "text": [
      "INFO:tensorflow:Assets written to: sequential\\assets\n"
     ]
    },
    {
     "name": "stdout",
     "output_type": "stream",
     "text": [
      "1250/1250 [==============================] - 34s 27ms/step - loss: 1.6561 - accuracy: 0.4071 - val_loss: 1.5129 - val_accuracy: 0.4591\n",
      "Epoch 33/200\n",
      "1250/1250 [==============================] - 34s 27ms/step - loss: 1.6506 - accuracy: 0.4056 - val_loss: 1.5739 - val_accuracy: 0.4374\n",
      "Epoch 34/200\n",
      "1250/1250 [==============================] - 31s 25ms/step - loss: 1.6523 - accuracy: 0.4058 - val_loss: 1.5374 - val_accuracy: 0.4514\n",
      "Epoch 35/200\n",
      "1250/1250 [==============================] - 29s 24ms/step - loss: 1.6453 - accuracy: 0.4084 - val_loss: 1.5685 - val_accuracy: 0.4417\n",
      "Epoch 36/200\n",
      "1250/1250 [==============================] - 29s 23ms/step - loss: 1.6384 - accuracy: 0.4130 - val_loss: 1.5385 - val_accuracy: 0.4534\n",
      "Epoch 37/200\n",
      "1250/1250 [==============================] - 29s 23ms/step - loss: 1.6390 - accuracy: 0.4145 - val_loss: 1.5151 - val_accuracy: 0.4571\n",
      "Epoch 38/200\n",
      "1250/1250 [==============================] - 29s 23ms/step - loss: 1.6385 - accuracy: 0.4137 - val_loss: 1.5275 - val_accuracy: 0.4555\n",
      "Epoch 39/200\n",
      "1250/1250 [==============================] - 29s 23ms/step - loss: 1.6393 - accuracy: 0.4146 - val_loss: 1.5330 - val_accuracy: 0.4558\n",
      "Epoch 40/200\n",
      "1250/1250 [==============================] - 29s 23ms/step - loss: 1.6379 - accuracy: 0.4118 - val_loss: 1.6131 - val_accuracy: 0.4209\n",
      "Epoch 41/200\n",
      "1250/1250 [==============================] - 29s 23ms/step - loss: 1.6351 - accuracy: 0.4138 - val_loss: 1.5160 - val_accuracy: 0.4640\n",
      "Epoch 42/200\n",
      "1250/1250 [==============================] - 29s 23ms/step - loss: 1.6312 - accuracy: 0.4173 - val_loss: 1.5509 - val_accuracy: 0.4469\n"
     ]
    }
   ],
   "source": [
    "from tensorflow.keras import callbacks\n",
    "\n",
    "check_point_cb = callbacks.ModelCheckpoint('sequential', \n",
    "                                           save_best_only=True)\n",
    "early_stopping_cb = callbacks.EarlyStopping(patience=10, \n",
    "                                            monitor='val_loss',\n",
    "                                            restore_best_weights=True)\n",
    "history = model.fit(x_train, y_train, epochs=200,\n",
    "                    validation_data=(x_val, y_val),\n",
    "                    callbacks=[check_point_cb, early_stopping_cb])"
   ]
  },
  {
   "cell_type": "code",
   "execution_count": 15,
   "id": "7057d65b",
   "metadata": {},
   "outputs": [
    {
     "data": {
      "image/png": "[encoded data removed]",
      "text/plain": [
       "<Figure size 1200x500 with 2 Axes>"
      ]
     },
     "metadata": {},
     "output_type": "display_data"
    }
   ],
   "source": [
    "# 문제 3-5: 학습 히스토리의 `loss`, `val_loss`, `accuracy`, `val_accuracy`를 차트로 시각화합니다.\n",
    "# [[YOUR CODE]]\n",
    "plt.style.use('seaborn-white')\n",
    "\n",
    "history_dict = history.history\n",
    "\n",
    "loss = history_dict['loss']\n",
    "val_loss = history_dict['val_loss']\n",
    "\n",
    "epochs = range(1, len(loss) + 1)\n",
    "fig = plt.figure(figsize=(12, 5))\n",
    "\n",
    "ax1 = fig.add_subplot(1, 2, 1)\n",
    "ax1.plot(epochs, loss, 'b-', label='train_loss')\n",
    "ax1.plot(epochs, val_loss, 'r-', label='val_loss')\n",
    "ax1.set_title('Train and Validation Loss')\n",
    "ax1.set_xlabel('Epochs')\n",
    "ax1.set_ylabel('Loss')\n",
    "ax1.grid()\n",
    "ax1.legend()\n",
    "\n",
    "accuracy = history_dict['accuracy']\n",
    "val_accuracy = history_dict['val_accuracy']\n",
    "\n",
    "ax2 = fig.add_subplot(1, 2, 2)\n",
    "ax2.plot(epochs, accuracy, 'b-', label='train_accuracy')\n",
    "ax2.plot(epochs, val_accuracy, 'r-', label='val_accuracy')\n",
    "ax2.set_title('Train and Validation Accuracy')\n",
    "ax2.set_xlabel('Epochs')\n",
    "ax2.set_ylabel('Accuracy')\n",
    "ax2.grid()\n",
    "ax2.legend()\n",
    "\n",
    "plt.show()"
   ]
  },
  {
   "cell_type": "code",
   "execution_count": 16,
   "id": "c4accd0a",
   "metadata": {},
   "outputs": [
    {
     "name": "stdout",
     "output_type": "stream",
     "text": [
      "313/313 [==============================] - 2s 6ms/step - loss: 1.5072 - accuracy: 0.4513\n"
     ]
    },
    {
     "data": {
      "text/plain": [
       "[1.507156252861023, 0.4512999951839447]"
      ]
     },
     "execution_count": 16,
     "metadata": {},
     "output_type": "execute_result"
    }
   ],
   "source": [
    "# 테스트 데이터셋을 이용해 모델을 평가합니다.\n",
    "model.evaluate(x_test, y_test)"
   ]
  },
  {
   "cell_type": "markdown",
   "id": "808eb056",
   "metadata": {},
   "source": [
    "# 회고\n",
    "\n",
    "* 여러가지로, 전의 reuster 에서 고생을 하다보니, 이번에는 실험을 많이 해보았던 CIFAR10이다.\n",
    "\n",
    "조원분들이 덴스레이어와 배치,드랍아웃의 순서에 대해 말씀하셔서 알게 되었다.\n",
    "덴스레이어,활성화,배치,활성화,드랍 이순서였다. 이순서를 하게되니 좀더 스무스하게 일어나는것같았다.\n",
    "\n",
    "그리고, relu대신 마지막에 softmax를 쓰니 정확도가 0.1에서 0.44로 올라가는 엄청난 성능향상이 되는걸 느꼈다. \n",
    "\n",
    "하지만, cnn을 사용한 다른 코드도 보았는데 0.95의 엄청난 정확도를 보는것을 보고, 역시 cnn이 좋구나를 느꼇다.\n",
    "\n",
    "```역시, 좀더 공부가 필요하다.```\n"
   ]
  }
 ],
 "metadata": {
  "kernelspec": {
   "display_name": "Python 3 (ipykernel)",
   "language": "python",
   "name": "python3"
  },
  "language_info": {
   "codemirror_mode": {
    "name": "ipython",
    "version": 3
   },
   "file_extension": ".py",
   "mimetype": "text/x-python",
   "name": "python",
   "nbconvert_exporter": "python",
   "pygments_lexer": "ipython3",
   "version": "3.9.13"
  },
  "toc": {
   "base_numbering": 1,
   "nav_menu": {},
   "number_sections": true,
   "sideBar": true,
   "skip_h1_title": false,
   "title_cell": "Table of Contents",
   "title_sidebar": "Contents",
   "toc_cell": false,
   "toc_position": {},
   "toc_section_display": true,
   "toc_window_display": false
  }
 },
 "nbformat": 4,
 "nbformat_minor": 5
}
